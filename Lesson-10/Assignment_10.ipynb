{
 "cells": [
  {
   "cell_type": "markdown",
   "metadata": {},
   "source": [
    "# Assignment 10"
   ]
  },
  {
   "cell_type": "markdown",
   "metadata": {},
   "source": [
    "### 1.复习上课内容"
   ]
  },
  {
   "cell_type": "markdown",
   "metadata": {},
   "source": [
    "### 2. 回答一下理论题目"
   ]
  },
  {
   "cell_type": "markdown",
   "metadata": {},
   "source": [
    "#### 1. What is independent assumption in Naive bayes ?"
   ]
  },
  {
   "cell_type": "markdown",
   "metadata": {},
   "source": [
    ">在贝叶斯公示$P(c|x)=\\frac{P(c)P(x|c)}{P(x)}$中，估计后验概率$P(c|x)$的主要难点在于：类条件概率$P(x|c)$是所有属性上的联合概率，很难从有限的训练样本直接估计得到。而朴素贝叶斯(Naive bayes)采用了“属性条件独立性假设”：对已知类别，假设所有属性互相独立，也就是说$P(AB)=P(A)P(B)$。在这个假设下$P(x|c)=\\prod_{i=1}^{d}P(x_i|c)$，而条件概率$P(x_i|c)$可以从样本中估计出来"
   ]
  },
  {
   "cell_type": "markdown",
   "metadata": {},
   "source": [
    "#### 2. What is MAP(maximum a posterior) and ML(maximum likelihood) ?"
   ]
  },
  {
   "cell_type": "markdown",
   "metadata": {},
   "source": [
    ">在给定数据D和假设空间H前提下，通过MAP或ML来对输入进行预测。\n",
    ">MAP(maximum a posterior estimation), 即最大化后验概率。MAP最求的是在恒定的观测数据$D$下找出使后验概率$P(h|D)$最大的$h$。所以$P(D)$是恒定的，不影响优化结果\n",
    ">$$h_{MAP} = {\\arg\\max}_h P(h|D) = {\\arg\\max}_h {\\frac{P(D|h)P(h)}{P(D)}}={\\arg\\max}_h{P(D|h)P(h)}$$\n",
    ">\n",
    ">MLE，即最大似然估计。如果对于假设空间H中的所有假设h，概率相同，我们就得到了MLE模型。$$h_{ML} = {\\arg\\max}_h{P(D|h)}$$\n",
    ">\n",
    ">MLE提供了一种给定观察数据来评估模型参数的方法，即“模型已定，参数位置”，求使模型最优时的参数\n",
    ">\n",
    ">MAP和MLE类似，但是最大的区别在于，MLE假定模型参数本身的概率(即先验概率)是均匀的，而MAP需要考虑模型参数本身的概率分布。"
   ]
  },
  {
   "cell_type": "markdown",
   "metadata": {},
   "source": [
    "#### 3. What is support vector in SVM?"
   ]
  },
  {
   "cell_type": "markdown",
   "metadata": {},
   "source": [
    ">支持向量(support vector)指对分割超平面有贡献的样本点。因为分割超平面是由落在分割边界上的点来决定的，其他点不管有多少，都不影响分割超平面的位置，因此把那些支撑起分割超平面的样本点成为SVM中的支持向量\n"
   ]
  },
  {
   "cell_type": "markdown",
   "metadata": {},
   "source": [
    "#### 4. What is the intuition behind SVM ?"
   ]
  },
  {
   "cell_type": "markdown",
   "metadata": {},
   "source": [
    ">SVM利用直线（或高维空间中的超平面）对数据进行分类，使得离直线（或超平面）最近的点间隔最大化。\n",
    ">\n",
    ">比如在二维空间中有2类点，红点和蓝点，SVM就是找一个宽为d的直线把红点和蓝点分隔在两边，同时使d最大。"
   ]
  },
  {
   "cell_type": "markdown",
   "metadata": {},
   "source": [
    "#### 5. Shortly describ what 'random' means in random forest ?"
   ]
  },
  {
   "cell_type": "markdown",
   "metadata": {},
   "source": [
    ">随机森林中（Random Forest）中的随机：\n",
    ">* 随机取样本组成样本集合；\n",
    ">* 随机选择特征进行节点分裂"
   ]
  },
  {
   "cell_type": "markdown",
   "metadata": {},
   "source": [
    "#### 6. What cariterion does XGBoost use to find the best split point in a tree ?"
   ]
  },
  {
   "cell_type": "markdown",
   "metadata": {},
   "source": [
    ">XGBoost里的分裂准则是直接和损失函数挂钩的准则，根据这个准则，计算增益$Gain=\\frac{1}{2}[\\frac{G_L^2}{H_L+\\lambda}+\\frac{G_R^2}{H_R+\\lambda}-\\frac{(G_L+G_R)^2}{H_L+H_R+\\lambda}]-\\gamma$。其实就是让分裂后的增益减分裂钱的增益最大，或者说，选择让损失减少最多的分裂方法(增益越大，即损失函数越小)"
   ]
  },
  {
   "cell_type": "markdown",
   "metadata": {},
   "source": [
    "### 3. Practial part"
   ]
  },
  {
   "cell_type": "markdown",
   "metadata": {},
   "source": [
    "##### Problem description: In this part you are going to build a classifier to detect if a piece of news is published by the Xinhua news agency (新华社）."
   ]
  },
  {
   "cell_type": "markdown",
   "metadata": {},
   "source": [
    "#### Hints:"
   ]
  },
  {
   "cell_type": "markdown",
   "metadata": {},
   "source": [
    "###### 1. Firstly, you have to come up with a way to represent the news. (Vectorize the sentence, you can find different ways to do so online)  "
   ]
  },
  {
   "cell_type": "markdown",
   "metadata": {},
   "source": [
    "###### 2. Secondly,  pick a machine learning algorithm that you think is suitable for this task"
   ]
  },
  {
   "cell_type": "markdown",
   "metadata": {},
   "source": [
    "### Congratulations! You have completed all assignments in this week. The question below is optional. If you still have time, why don't try it out."
   ]
  },
  {
   "cell_type": "markdown",
   "metadata": {},
   "source": [
    "## Option:"
   ]
  },
  {
   "cell_type": "markdown",
   "metadata": {},
   "source": [
    "#### Try differnt machine learning algorithms with different combinations of parameters in the practical part, and compare their performances (Better use some visualization techiniques)."
   ]
  },
  {
   "cell_type": "markdown",
   "metadata": {},
   "source": [
    "## 本次作业会使用VSM（vector space model）向量空间模型  和  Doc2Vec模型 "
   ]
  },
  {
   "cell_type": "markdown",
   "metadata": {},
   "source": [
    "## 1. VSM（vector space model）向量空间模型\n",
    "\n",
    ">假设每一个词是是文本向量的一个维度，一个文档看做一个词袋（词在文本中出现的顺序被忽略掉），去掉一些没有意义的停用词（如的、地这样的虚词），考虑一个词出现的次数和重要性就是TF/IDF，TF是文档中词出现的频率，出现次数越多越重要，IDF是逆文档频率，一个词出现在越多的文档中，越不重要。这样得到的词向量维度可能很高，根据具体的任务，如文本分类，可以通过词对于类别的信息增益或卡方检验来计算该词的重要性，截取top的词构建向量空间。\n",
    "\n",
    ">缺点：忽略了词的顺序，损失了信息；词之间独立，近义词之间无法比较。\n",
    "\n",
    ">优点：轻松处理长文本。"
   ]
  },
  {
   "cell_type": "code",
   "execution_count": 1,
   "metadata": {},
   "outputs": [],
   "source": [
    "import pandas as pd\n",
    "import numpy as np\n",
    "import re\n",
    "import jieba\n",
    "from sklearn.model_selection import train_test_split                #划分训练/测试集\n",
    "from sklearn.feature_extraction.text import TfidfVectorizer\n",
    "from sklearn.pipeline import Pipeline\n",
    "from sklearn.ensemble import RandomForestClassifier\n",
    "from sklearn.svm import LinearSVC\n",
    "from xgboost.sklearn import XGBClassifier\n",
    "import lightgbm as lgb\n",
    "import xgboost as xgb    \n",
    "from bayes_opt import BayesianOptimization\n",
    "from sklearn.metrics import roc_auc_score,precision_score,recall_score,f1_score,roc_curve,auc\n",
    "import seaborn as sns\n",
    "import matplotlib.pyplot as plt\n",
    "import warnings\n",
    "%matplotlib inline"
   ]
  },
  {
   "cell_type": "code",
   "execution_count": 2,
   "metadata": {
    "scrolled": true
   },
   "outputs": [],
   "source": [
    "# 获取中文停顿词函数\n",
    "def getStopwords():\n",
    "    stopwords = [line.strip() for line in open('chinese_stopwords.txt',encoding='UTF-8').readlines()]\n",
    "    return stopwords"
   ]
  },
  {
   "cell_type": "code",
   "execution_count": 3,
   "metadata": {},
   "outputs": [],
   "source": [
    "# 获取中文停顿词\n",
    "stopwords = getStopwords()"
   ]
  },
  {
   "cell_type": "code",
   "execution_count": 4,
   "metadata": {},
   "outputs": [],
   "source": [
    "# 读取新闻数据函数\n",
    "def read_news_data():\n",
    "    # 用pd.read_csv方法读取新闻语料\n",
    "    news = pd.read_csv('新华社数据.csv',engine='python')\n",
    "    news = news.loc[:, ['source', 'title', 'content']]\n",
    "    # 设置标签\n",
    "    news.loc[news['source'] != '新华社', 'source'] = 0\n",
    "    news.loc[news['source'] == '新华社', 'source'] = 1\n",
    "\n",
    "    X = news['title'] +  news['content']\n",
    "    y = news['source']\n",
    "    return X, y"
   ]
  },
  {
   "cell_type": "code",
   "execution_count": 5,
   "metadata": {},
   "outputs": [],
   "source": [
    "# 读取新闻数据\n",
    "X, y = read_news_data()"
   ]
  },
  {
   "cell_type": "code",
   "execution_count": 6,
   "metadata": {},
   "outputs": [],
   "source": [
    "# 中文分词函数，用正则去除多余的符号\n",
    "def cut_text(text):\n",
    "    text = str(text)\n",
    "    text = re.sub('\\\\\\\\n|[\\n\\u3000\\r]', ' ', text)\n",
    "    relu = '！？｡。，＂＃＄％＆＇（）＊＋－／：；＜＝＞＠［＼］＾＿｀\\\n",
    "    ｛｜｝～｟｠｢｣､、〃《》「」『』【】〔〕〖〗〘〙〚〛〜〝〞〟〰〾〿–\\\n",
    "    —‘\\'‛“”„‟…‧﹏' + '!\"#$%&\\'()*+,-./:;<=>?@[\\\\]^_`{|}~·ʔ•'\n",
    "    text = re.sub('[{}]'.format(relu), ' ', text)\n",
    "    seg_list = jieba.cut(text)            \n",
    "    sentence_segment=[] \n",
    "    for word in seg_list:\n",
    "        if word not in stopwords:\n",
    "            sentence_segment.append(word.strip())\n",
    "    sentence_segment.append(word)        \n",
    "    # 把已去掉停用词的sentence_segment，用' '.join()拼接起来\n",
    "    seg_res = ' '.join(sentence_segment)\n",
    "    return seg_res"
   ]
  },
  {
   "cell_type": "code",
   "execution_count": 7,
   "metadata": {},
   "outputs": [],
   "source": [
    "# 定义分类评估指标，actual为真实的类别，predict为预测的类别，predict_prod为预测类别的概率\n",
    "def metrics_result(actual, predict, predict_prod):  \n",
    "    precision_scores = precision_score(actual, predict,average='weighted')\n",
    "    recall_scores = recall_score(actual, predict,average='weighted')\n",
    "    f1_scores = f1_score(actual, predict,average='weighted')\n",
    "    fpr, tpr, threshold = roc_curve(actual,predict_prod)\n",
    "    auc_scores = auc(fpr, tpr)\n",
    "    print('精度:{0:.3f}'.format(precision_scores))\n",
    "    print('召回:{0:0.3f}'.format(recall_scores))  \n",
    "    print('f1-score:{0:.3f}'.format(f1_scores))\n",
    "    print('AUC:{0:.3f}'.format(auc_scores))\n",
    "    return precision_scores, recall_scores, f1_scores, auc_scores"
   ]
  },
  {
   "cell_type": "code",
   "execution_count": 8,
   "metadata": {},
   "outputs": [],
   "source": [
    "# 定义roc_curve_plot函数，用于绘制roc_curve图\n",
    "def roc_curve_plot(y_test,y_pred):\n",
    "    fpr, tpr, threshold = roc_curve(y_test,y_pred, pos_label=None, sample_weight=None,drop_intermediate=True)\n",
    "    fig, ax = plt.subplots(figsize=(10,6))\n",
    "    ax.plot(fpr, tpr)\n",
    "    ax.plot([-0.005,1.01],[-0.005,1.01], ls='--')\n",
    "    plt.xlim([-0.005,1.01])\n",
    "    plt.ylim([-0.005,1.01])\n",
    "    plt.title('ROC Curve')\n",
    "    plt.xlabel('False Positive Rate')\n",
    "    plt.ylabel('True Positive Rate')\n",
    "    plt.show() \n",
    "    return fpr,tpr"
   ]
  },
  {
   "cell_type": "code",
   "execution_count": 7,
   "metadata": {},
   "outputs": [
    {
     "name": "stderr",
     "output_type": "stream",
     "text": [
      "Building prefix dict from the default dictionary ...\n",
      "Loading model from cache C:\\Users\\shab\\AppData\\Local\\Temp\\jieba.cache\n"
     ]
    },
    {
     "name": "stdout",
     "output_type": "stream",
     "text": [
      "Wall time: 0 ns\n"
     ]
    },
    {
     "name": "stderr",
     "output_type": "stream",
     "text": [
      "Loading model cost 0.667 seconds.\n",
      "Prefix dict has been built successfully.\n"
     ]
    }
   ],
   "source": [
    "# 运行分词函数（分词时间约12分钟）\n",
    "%%time\n",
    "new_X = X.apply(cut_text)"
   ]
  },
  {
   "cell_type": "code",
   "execution_count": 8,
   "metadata": {},
   "outputs": [],
   "source": [
    "# 保存分词结果\n",
    "new_X.to_csv('new_X.csv')"
   ]
  },
  {
   "cell_type": "code",
   "execution_count": 9,
   "metadata": {},
   "outputs": [],
   "source": [
    "# 读取分词csv文件\n",
    "new_X = pd.read_csv('new_X.csv',index_col=0)"
   ]
  },
  {
   "cell_type": "code",
   "execution_count": 10,
   "metadata": {
    "scrolled": true
   },
   "outputs": [
    {
     "data": {
      "text/html": [
       "<div>\n",
       "<style scoped>\n",
       "    .dataframe tbody tr th:only-of-type {\n",
       "        vertical-align: middle;\n",
       "    }\n",
       "\n",
       "    .dataframe tbody tr th {\n",
       "        vertical-align: top;\n",
       "    }\n",
       "\n",
       "    .dataframe thead th {\n",
       "        text-align: right;\n",
       "    }\n",
       "</style>\n",
       "<table border=\"1\" class=\"dataframe\">\n",
       "  <thead>\n",
       "    <tr style=\"text-align: right;\">\n",
       "      <th></th>\n",
       "      <th>content</th>\n",
       "    </tr>\n",
       "  </thead>\n",
       "  <tbody>\n",
       "    <tr>\n",
       "      <th>0</th>\n",
       "      <td>小米 MIUI  首批 机型 曝光  共计 15 款  本周  月 12 日   小米 手机...</td>\n",
       "    </tr>\n",
       "    <tr>\n",
       "      <th>1</th>\n",
       "      <td>骁龙 835 Windows  10 性能 表现 有望 改善 骁龙 835 唯一 Windo...</td>\n",
       "    </tr>\n",
       "    <tr>\n",
       "      <th>2</th>\n",
       "      <td>一加 手机 细节 曝光  3300mAh  充 半小时 天 此前 一加 3T 搭载 3400...</td>\n",
       "    </tr>\n",
       "    <tr>\n",
       "      <th>3</th>\n",
       "      <td>葡 森林 火灾 至少 62 死亡  政府 紧急状态  组图  这是 月 18 日 葡萄牙 中...</td>\n",
       "    </tr>\n",
       "    <tr>\n",
       "      <th>4</th>\n",
       "      <td>44 岁 女子 约 网友 拒 暴雨 中 裸奔  交警 披衣 相随  原 标题  44 岁 女...</td>\n",
       "    </tr>\n",
       "  </tbody>\n",
       "</table>\n",
       "</div>"
      ],
      "text/plain": [
       "                                             content\n",
       "0  小米 MIUI  首批 机型 曝光  共计 15 款  本周  月 12 日   小米 手机...\n",
       "1  骁龙 835 Windows  10 性能 表现 有望 改善 骁龙 835 唯一 Windo...\n",
       "2  一加 手机 细节 曝光  3300mAh  充 半小时 天 此前 一加 3T 搭载 3400...\n",
       "3  葡 森林 火灾 至少 62 死亡  政府 紧急状态  组图  这是 月 18 日 葡萄牙 中...\n",
       "4  44 岁 女子 约 网友 拒 暴雨 中 裸奔  交警 披衣 相随  原 标题  44 岁 女..."
      ]
     },
     "execution_count": 10,
     "metadata": {},
     "output_type": "execute_result"
    }
   ],
   "source": [
    "new_X.columns=['content']\n",
    "new_X.head()"
   ]
  },
  {
   "cell_type": "markdown",
   "metadata": {},
   "source": [
    "### 词袋向量化模型（TfidfVectorizer）"
   ]
  },
  {
   "cell_type": "code",
   "execution_count": 11,
   "metadata": {},
   "outputs": [],
   "source": [
    "# TfidfVectorizer 是 CountVectorizer + TfidfTransformer的组合，输出的各个文本各个词的TF-IDF值\n",
    "# min_df=5, max_features=10000\n",
    "tfidf_vec = TfidfVectorizer(min_df=5, max_features=10000) \n",
    "tfidf_matrix = tfidf_vec.fit_transform(new_X['content'])"
   ]
  },
  {
   "cell_type": "code",
   "execution_count": 12,
   "metadata": {},
   "outputs": [
    {
     "data": {
      "text/plain": [
       "(89611, 10000)"
      ]
     },
     "execution_count": 12,
     "metadata": {},
     "output_type": "execute_result"
    }
   ],
   "source": [
    "tfidf_matrix.shape"
   ]
  },
  {
   "cell_type": "code",
   "execution_count": 13,
   "metadata": {},
   "outputs": [
    {
     "data": {
      "text/plain": [
       "<89611x10000 sparse matrix of type '<class 'numpy.float64'>'\n",
       "\twith 4984293 stored elements in Compressed Sparse Row format>"
      ]
     },
     "execution_count": 13,
     "metadata": {},
     "output_type": "execute_result"
    }
   ],
   "source": [
    "tfidf_matrix"
   ]
  },
  {
   "cell_type": "code",
   "execution_count": 14,
   "metadata": {},
   "outputs": [],
   "source": [
    "y_c = y.values.astype(int)"
   ]
  },
  {
   "cell_type": "code",
   "execution_count": 15,
   "metadata": {},
   "outputs": [],
   "source": [
    "# 划分数据集8:2，由于数据集不均衡，所以使用stratify=y_c，让划分的数据集比例保持原来的数据分布\n",
    "X_train,X_test,y_train,y_test = train_test_split(tfidf_matrix, y_c, test_size = 0.2, random_state = 1,stratify = y_c)"
   ]
  },
  {
   "cell_type": "markdown",
   "metadata": {},
   "source": [
    "### 支持向量机SVM（默认参数）"
   ]
  },
  {
   "cell_type": "code",
   "execution_count": 16,
   "metadata": {},
   "outputs": [],
   "source": [
    "lsvc_c = LinearSVC()"
   ]
  },
  {
   "cell_type": "code",
   "execution_count": 17,
   "metadata": {},
   "outputs": [
    {
     "data": {
      "text/plain": [
       "LinearSVC(C=1.0, class_weight=None, dual=True, fit_intercept=True,\n",
       "          intercept_scaling=1, loss='squared_hinge', max_iter=1000,\n",
       "          multi_class='ovr', penalty='l2', random_state=None, tol=0.0001,\n",
       "          verbose=0)"
      ]
     },
     "execution_count": 17,
     "metadata": {},
     "output_type": "execute_result"
    }
   ],
   "source": [
    "lsvc_c.fit(X_train, y_train)"
   ]
  },
  {
   "cell_type": "code",
   "execution_count": 20,
   "metadata": {},
   "outputs": [],
   "source": [
    "# lsvc_y_pred为预测类别，lsvc_y_prod为预测类别的概率\n",
    "lsvc_y_pred = lsvc_c.predict(X_test)\n",
    "lsvc_y_prod = lsvc_c.decision_function(X_test)"
   ]
  },
  {
   "cell_type": "code",
   "execution_count": 21,
   "metadata": {},
   "outputs": [
    {
     "name": "stdout",
     "output_type": "stream",
     "text": [
      "精度:0.988\n",
      "召回:0.988\n",
      "f1-score:0.988\n",
      "AUC:0.996\n"
     ]
    }
   ],
   "source": [
    "# 展示模型的各个评分\n",
    "lsvc_ms = metrics_result(y_test, lsvc_y_pred, lsvc_y_prod)"
   ]
  },
  {
   "cell_type": "code",
   "execution_count": 23,
   "metadata": {},
   "outputs": [
    {
     "data": {
      "image/png": "[encoded data removed]",
      "text/plain": [
       "<Figure size 720x432 with 1 Axes>"
      ]
     },
     "metadata": {
      "needs_background": "light"
     },
     "output_type": "display_data"
    }
   ],
   "source": [
    "# 绘制roc_curve曲线\n",
    "lsvc_fpr, lsvc_tpr = roc_curve_plot(y_test, lsvc_y_prod)"
   ]
  },
  {
   "cell_type": "markdown",
   "metadata": {},
   "source": [
    "### 随机森林RandomForestClassifier（默认参数）"
   ]
  },
  {
   "cell_type": "code",
   "execution_count": 24,
   "metadata": {},
   "outputs": [
    {
     "data": {
      "text/plain": [
       "RandomForestClassifier(bootstrap=True, ccp_alpha=0.0, class_weight=None,\n",
       "                       criterion='gini', max_depth=None, max_features='auto',\n",
       "                       max_leaf_nodes=None, max_samples=None,\n",
       "                       min_impurity_decrease=0.0, min_impurity_split=None,\n",
       "                       min_samples_leaf=1, min_samples_split=2,\n",
       "                       min_weight_fraction_leaf=0.0, n_estimators=100, n_jobs=4,\n",
       "                       oob_score=False, random_state=0, verbose=0,\n",
       "                       warm_start=False)"
      ]
     },
     "execution_count": 24,
     "metadata": {},
     "output_type": "execute_result"
    }
   ],
   "source": [
    "rfc_c = RandomForestClassifier(n_jobs=4,random_state=0)\n",
    "rfc_c.fit(X_train, y_train)"
   ]
  },
  {
   "cell_type": "code",
   "execution_count": 25,
   "metadata": {},
   "outputs": [],
   "source": [
    "rfc_y_pred = rfc_c.predict(X_test)\n",
    "rfc_y_prob = rfc_c.predict_proba(X_test)[:,1]"
   ]
  },
  {
   "cell_type": "code",
   "execution_count": 26,
   "metadata": {},
   "outputs": [
    {
     "name": "stdout",
     "output_type": "stream",
     "text": [
      "精度:0.992\n",
      "召回:0.992\n",
      "f1-score:0.992\n",
      "AUC:0.998\n"
     ]
    }
   ],
   "source": [
    "rfc_ms = metrics_result(y_test, rfc_y_pred, rfc_y_prob)"
   ]
  },
  {
   "cell_type": "code",
   "execution_count": 28,
   "metadata": {},
   "outputs": [
    {
     "data": {
      "image/png": "[encoded data removed]",
      "text/plain": [
       "<Figure size 720x432 with 1 Axes>"
      ]
     },
     "metadata": {
      "needs_background": "light"
     },
     "output_type": "display_data"
    }
   ],
   "source": [
    "rfc_fpr, rfc_tpr = roc_curve_plot(y_test,rfc_y_prob)"
   ]
  },
  {
   "cell_type": "markdown",
   "metadata": {},
   "source": [
    "### XGBOOST , sklearn接口，使用默认参数"
   ]
  },
  {
   "cell_type": "code",
   "execution_count": 30,
   "metadata": {},
   "outputs": [],
   "source": [
    "xgb_c = XGBClassifier(n_estimatores=2000)"
   ]
  },
  {
   "cell_type": "code",
   "execution_count": 31,
   "metadata": {},
   "outputs": [
    {
     "name": "stdout",
     "output_type": "stream",
     "text": [
      "[0]\tvalidation_0-auc:0.98279\tvalidation_1-auc:0.98081\n",
      "Multiple eval metrics have been passed: 'validation_1-auc' will be used for early stopping.\n",
      "\n",
      "Will train until validation_1-auc hasn't improved in 100 rounds.\n",
      "[99]\tvalidation_0-auc:0.99996\tvalidation_1-auc:0.99854\n"
     ]
    },
    {
     "data": {
      "text/plain": [
       "XGBClassifier(base_score=0.5, booster=None, colsample_bylevel=1,\n",
       "              colsample_bynode=1, colsample_bytree=1, gamma=0, gpu_id=-1,\n",
       "              importance_type='gain', interaction_constraints=None,\n",
       "              learning_rate=0.300000012, max_delta_step=0, max_depth=6,\n",
       "              min_child_weight=1, missing=nan, monotone_constraints=None,\n",
       "              n_estimatores=2000, n_estimators=100, n_jobs=0,\n",
       "              num_parallel_tree=1, objective='binary:logistic', random_state=0,\n",
       "              reg_alpha=0, reg_lambda=1, scale_pos_weight=1, subsample=1,\n",
       "              tree_method=None, validate_parameters=False, verbosity=None)"
      ]
     },
     "execution_count": 31,
     "metadata": {},
     "output_type": "execute_result"
    }
   ],
   "source": [
    "xgb_c.fit(X_train,\n",
    "          y_train,\n",
    "          eval_metric='auc',\n",
    "          early_stopping_rounds=100,\n",
    "          eval_set=[(X_train, y_train),(X_test, y_test)],\n",
    "          verbose=100)"
   ]
  },
  {
   "cell_type": "code",
   "execution_count": 32,
   "metadata": {},
   "outputs": [],
   "source": [
    "xgb_y_pred = xgb_c.predict(X_test)\n",
    "xgb_y_prob = xgb_c.predict_proba(X_test)[:,1]"
   ]
  },
  {
   "cell_type": "code",
   "execution_count": 33,
   "metadata": {},
   "outputs": [
    {
     "name": "stdout",
     "output_type": "stream",
     "text": [
      "精度:0.993\n",
      "召回:0.993\n",
      "f1-score:0.993\n",
      "AUC:0.999\n"
     ]
    }
   ],
   "source": [
    "xgb_ms = metrics_result(y_test, xgb_y_pred, xgb_y_prob)"
   ]
  },
  {
   "cell_type": "code",
   "execution_count": 34,
   "metadata": {},
   "outputs": [
    {
     "data": {
      "image/png": "[encoded data removed]",
      "text/plain": [
       "<Figure size 720x432 with 1 Axes>"
      ]
     },
     "metadata": {
      "needs_background": "light"
     },
     "output_type": "display_data"
    }
   ],
   "source": [
    "\n",
    "xgb_fpr, xgb_tpr = roc_curve_plot(y_test,xgb_y_prob)"
   ]
  },
  {
   "cell_type": "markdown",
   "metadata": {},
   "source": [
    "### LightGBM , sklearn接口，使用默认参数"
   ]
  },
  {
   "cell_type": "code",
   "execution_count": 35,
   "metadata": {},
   "outputs": [],
   "source": [
    "lgb_c = lgb.LGBMClassifier(n_estimators=2000,objective='binary')"
   ]
  },
  {
   "cell_type": "code",
   "execution_count": 36,
   "metadata": {},
   "outputs": [
    {
     "name": "stdout",
     "output_type": "stream",
     "text": [
      "Training until validation scores don't improve for 100 rounds\n",
      "[100]\ttraining's auc: 0.999987\ttraining's binary_logloss: 0.00621609\tvalid_1's auc: 0.998879\tvalid_1's binary_logloss: 0.0215143\n",
      "[200]\ttraining's auc: 1\ttraining's binary_logloss: 0.00170186\tvalid_1's auc: 0.998918\tvalid_1's binary_logloss: 0.0219442\n",
      "Early stopping, best iteration is:\n",
      "[119]\ttraining's auc: 0.999997\ttraining's binary_logloss: 0.00469403\tvalid_1's auc: 0.998927\tvalid_1's binary_logloss: 0.021169\n"
     ]
    },
    {
     "data": {
      "text/plain": [
       "LGBMClassifier(boosting_type='gbdt', class_weight=None, colsample_bytree=1.0,\n",
       "               importance_type='split', learning_rate=0.1, max_depth=-1,\n",
       "               min_child_samples=20, min_child_weight=0.001, min_split_gain=0.0,\n",
       "               n_estimators=2000, n_jobs=-1, num_leaves=31, objective='binary',\n",
       "               random_state=None, reg_alpha=0.0, reg_lambda=0.0, silent=True,\n",
       "               subsample=1.0, subsample_for_bin=200000, subsample_freq=0)"
      ]
     },
     "execution_count": 36,
     "metadata": {},
     "output_type": "execute_result"
    }
   ],
   "source": [
    "lgb_c.fit(X_train,\n",
    "          y_train, \n",
    "          eval_metric=['auc'], \n",
    "          early_stopping_rounds=100,\n",
    "          eval_set=[(X_train, y_train),(X_test, y_test)],\n",
    "          verbose=100)"
   ]
  },
  {
   "cell_type": "code",
   "execution_count": 37,
   "metadata": {},
   "outputs": [],
   "source": [
    "lgb_y_pred = lgb_c.predict(X_test)\n",
    "lgb_y_prob = lgb_c.predict_proba(X_test)[:,1]"
   ]
  },
  {
   "cell_type": "code",
   "execution_count": 38,
   "metadata": {},
   "outputs": [
    {
     "name": "stdout",
     "output_type": "stream",
     "text": [
      "精度:0.994\n",
      "召回:0.994\n",
      "f1-score:0.994\n",
      "AUC:0.999\n"
     ]
    }
   ],
   "source": [
    "lgb_ms = metrics_result(y_test,lgb_y_pred,lgb_y_prob)"
   ]
  },
  {
   "cell_type": "code",
   "execution_count": 40,
   "metadata": {},
   "outputs": [
    {
     "data": {
      "image/png": "[encoded data removed]",
      "text/plain": [
       "<Figure size 720x432 with 1 Axes>"
      ]
     },
     "metadata": {
      "needs_background": "light"
     },
     "output_type": "display_data"
    }
   ],
   "source": [
    "lgb_fpr, lgb_tpr = roc_curve_plot(y_test,lgb_y_prob)"
   ]
  },
  {
   "cell_type": "markdown",
   "metadata": {},
   "source": [
    "### XGBOOST原生接口，使用贝叶斯调参"
   ]
  },
  {
   "cell_type": "code",
   "execution_count": 41,
   "metadata": {},
   "outputs": [],
   "source": [
    "# 把数据转成原生接口的数据形式\n",
    "dtrain = xgb.DMatrix(X_train, label=y_train)\n",
    "dtest = xgb.DMatrix(X_test,label = y_test)"
   ]
  },
  {
   "cell_type": "code",
   "execution_count": 42,
   "metadata": {},
   "outputs": [],
   "source": [
    "# 定义一个XGBOOST，为使用贝叶斯调参做准备\n",
    "def XGB_CV(max_depth,\n",
    "          gamma,\n",
    "          eta,\n",
    "          min_child_weight,\n",
    "          max_delta_step,\n",
    "          subsample,\n",
    "          colsample_bytree):\n",
    "    # 定义接收的参数\n",
    "    params = { 'booster' : 'gbtree',\n",
    "              'objective' : 'binary:logistic',\n",
    "              'nthread' : 4,\n",
    "              'silent' : True,\n",
    "              'eval_metric': 'auc',\n",
    "              'max_depth' : int(max_depth),\n",
    "              'gamma' : gamma,\n",
    "              'eta' : eta,              \n",
    "              'subsample' : max(min(subsample, 1), 0),\n",
    "              'colsample_bytree' : max(min(colsample_bytree, 1), 0),\n",
    "              'min_child_weight' : min_child_weight,\n",
    "              'max_delta_step' : int(max_delta_step),\n",
    "              'seed' : 1001}\n",
    "\n",
    "    # 在整个模型中使用了大约1000个助推轮\n",
    "    cv_result = xgb.cv(params, \n",
    "                       dtrain,                     \n",
    "                       num_boost_round = 20000,\n",
    "                       #stratified = True,\n",
    "                       nfold = 5,\n",
    "                       #verbose_eval = 10,\n",
    "                       early_stopping_rounds = 100,\n",
    "                       metrics = 'auc',\n",
    "                       show_stdv = True,\n",
    "                       seed=0)    \n",
    "    \n",
    "    # 贝叶斯优化只知道如何最大化，而不是最小化，\n",
    "    return max(cv_result['test-auc-mean'])"
   ]
  },
  {
   "cell_type": "code",
   "execution_count": 43,
   "metadata": {},
   "outputs": [],
   "source": [
    "# 设定参数范围\n",
    "XGB_BO = BayesianOptimization(XGB_CV, {\n",
    "                                     'max_depth': (6, 12),\n",
    "                                     'gamma': (0.001, 10.0),\n",
    "                                     'eta': (0.04, 0.3),\n",
    "                                     'min_child_weight': (0, 20),\n",
    "                                     'max_delta_step': (0, 10),\n",
    "                                     'subsample': (0.4, 1.0),\n",
    "                                     'colsample_bytree' :(0.4, 1.0)\n",
    "                                    })"
   ]
  },
  {
   "cell_type": "markdown",
   "metadata": {},
   "source": [
    "#### 调参也需要等待，等等等等等，计算15次大概用了2小时"
   ]
  },
  {
   "cell_type": "code",
   "execution_count": 44,
   "metadata": {},
   "outputs": [
    {
     "name": "stdout",
     "output_type": "stream",
     "text": [
      "|   iter    |  target   | colsam... |    eta    |   gamma   | max_de... | max_depth | min_ch... | subsample |\n",
      "-------------------------------------------------------------------------------------------------------------\n",
      "| \u001b[0m 1       \u001b[0m | \u001b[0m 0.998   \u001b[0m | \u001b[0m 0.8269  \u001b[0m | \u001b[0m 0.1365  \u001b[0m | \u001b[0m 9.787   \u001b[0m | \u001b[0m 0.7499  \u001b[0m | \u001b[0m 6.428   \u001b[0m | \u001b[0m 12.41   \u001b[0m | \u001b[0m 0.5488  \u001b[0m |\n",
      "| \u001b[95m 2       \u001b[0m | \u001b[95m 0.9984  \u001b[0m | \u001b[95m 0.8631  \u001b[0m | \u001b[95m 0.2319  \u001b[0m | \u001b[95m 0.4945  \u001b[0m | \u001b[95m 9.119   \u001b[0m | \u001b[95m 6.031   \u001b[0m | \u001b[95m 7.265   \u001b[0m | \u001b[95m 0.5248  \u001b[0m |\n",
      "| \u001b[95m 3       \u001b[0m | \u001b[95m 0.9985  \u001b[0m | \u001b[95m 0.5728  \u001b[0m | \u001b[95m 0.2502  \u001b[0m | \u001b[95m 0.3262  \u001b[0m | \u001b[95m 8.17    \u001b[0m | \u001b[95m 10.61   \u001b[0m | \u001b[95m 17.57   \u001b[0m | \u001b[95m 0.8909  \u001b[0m |\n",
      "| \u001b[95m 4       \u001b[0m | \u001b[95m 0.9986  \u001b[0m | \u001b[95m 0.9824  \u001b[0m | \u001b[95m 0.08765 \u001b[0m | \u001b[95m 1.364   \u001b[0m | \u001b[95m 7.783   \u001b[0m | \u001b[95m 7.202   \u001b[0m | \u001b[95m 5.699   \u001b[0m | \u001b[95m 0.6633  \u001b[0m |\n",
      "| \u001b[0m 5       \u001b[0m | \u001b[0m 0.9984  \u001b[0m | \u001b[0m 0.7427  \u001b[0m | \u001b[0m 0.1816  \u001b[0m | \u001b[0m 5.716   \u001b[0m | \u001b[0m 2.134   \u001b[0m | \u001b[0m 9.797   \u001b[0m | \u001b[0m 18.54   \u001b[0m | \u001b[0m 0.8788  \u001b[0m |\n",
      "| \u001b[0m 6       \u001b[0m | \u001b[0m 0.9986  \u001b[0m | \u001b[0m 0.7514  \u001b[0m | \u001b[0m 0.1694  \u001b[0m | \u001b[0m 9.982   \u001b[0m | \u001b[0m 9.419   \u001b[0m | \u001b[0m 11.81   \u001b[0m | \u001b[0m 0.2628  \u001b[0m | \u001b[0m 0.8503  \u001b[0m |\n",
      "| \u001b[95m 7       \u001b[0m | \u001b[95m 0.9987  \u001b[0m | \u001b[95m 0.7537  \u001b[0m | \u001b[95m 0.1536  \u001b[0m | \u001b[95m 0.5247  \u001b[0m | \u001b[95m 0.226   \u001b[0m | \u001b[95m 10.98   \u001b[0m | \u001b[95m 0.1961  \u001b[0m | \u001b[95m 0.5248  \u001b[0m |\n",
      "| \u001b[0m 8       \u001b[0m | \u001b[0m 0.9979  \u001b[0m | \u001b[0m 0.5844  \u001b[0m | \u001b[0m 0.1721  \u001b[0m | \u001b[0m 9.604   \u001b[0m | \u001b[0m 0.5752  \u001b[0m | \u001b[0m 10.87   \u001b[0m | \u001b[0m 19.87   \u001b[0m | \u001b[0m 0.6134  \u001b[0m |\n",
      "| \u001b[0m 9       \u001b[0m | \u001b[0m 0.9983  \u001b[0m | \u001b[0m 0.6158  \u001b[0m | \u001b[0m 0.2506  \u001b[0m | \u001b[0m 9.388   \u001b[0m | \u001b[0m 9.917   \u001b[0m | \u001b[0m 6.899   \u001b[0m | \u001b[0m 0.04954 \u001b[0m | \u001b[0m 0.4384  \u001b[0m |\n",
      "| \u001b[95m 10      \u001b[0m | \u001b[95m 0.9989  \u001b[0m | \u001b[95m 0.522   \u001b[0m | \u001b[95m 0.06188 \u001b[0m | \u001b[95m 0.08876 \u001b[0m | \u001b[95m 0.06365 \u001b[0m | \u001b[95m 6.729   \u001b[0m | \u001b[95m 0.06329 \u001b[0m | \u001b[95m 0.4108  \u001b[0m |\n",
      "| \u001b[0m 11      \u001b[0m | \u001b[0m 0.9979  \u001b[0m | \u001b[0m 0.9982  \u001b[0m | \u001b[0m 0.1972  \u001b[0m | \u001b[0m 0.02134 \u001b[0m | \u001b[0m 9.991   \u001b[0m | \u001b[0m 6.842   \u001b[0m | \u001b[0m 19.93   \u001b[0m | \u001b[0m 0.7124  \u001b[0m |\n",
      "| \u001b[0m 12      \u001b[0m | \u001b[0m 0.9985  \u001b[0m | \u001b[0m 0.7771  \u001b[0m | \u001b[0m 0.2891  \u001b[0m | \u001b[0m 9.957   \u001b[0m | \u001b[0m 0.8599  \u001b[0m | \u001b[0m 6.915   \u001b[0m | \u001b[0m 0.1679  \u001b[0m | \u001b[0m 0.9713  \u001b[0m |\n",
      "| \u001b[95m 13      \u001b[0m | \u001b[95m 0.9989  \u001b[0m | \u001b[95m 0.7015  \u001b[0m | \u001b[95m 0.1611  \u001b[0m | \u001b[95m 0.7684  \u001b[0m | \u001b[95m 9.032   \u001b[0m | \u001b[95m 11.86   \u001b[0m | \u001b[95m 0.07841 \u001b[0m | \u001b[95m 0.5586  \u001b[0m |\n",
      "| \u001b[95m 14      \u001b[0m | \u001b[95m 0.9989  \u001b[0m | \u001b[95m 0.6902  \u001b[0m | \u001b[95m 0.2548  \u001b[0m | \u001b[95m 0.6121  \u001b[0m | \u001b[95m 0.09569 \u001b[0m | \u001b[95m 10.21   \u001b[0m | \u001b[95m 0.2881  \u001b[0m | \u001b[95m 0.8999  \u001b[0m |\n",
      "| \u001b[95m 15      \u001b[0m | \u001b[95m 0.999   \u001b[0m | \u001b[95m 0.4017  \u001b[0m | \u001b[95m 0.2528  \u001b[0m | \u001b[95m 0.2412  \u001b[0m | \u001b[95m 0.1843  \u001b[0m | \u001b[95m 10.19   \u001b[0m | \u001b[95m 0.1649  \u001b[0m | \u001b[95m 0.8658  \u001b[0m |\n",
      "=============================================================================================================\n"
     ]
    }
   ],
   "source": [
    "# init_points为随机尝试次数，n_iter为优化尝试次数，次数越多，调参时间越长\n",
    "with warnings.catch_warnings():\n",
    "    warnings.filterwarnings('ignore') # 忽视一些警告，当然可以注释掉\n",
    "    XGB_BO.maximize(init_points=5, n_iter=10, acq='ucb', xi=0.0,alpha=1e-6)"
   ]
  },
  {
   "cell_type": "code",
   "execution_count": 56,
   "metadata": {
    "scrolled": true
   },
   "outputs": [
    {
     "data": {
      "text/plain": [
       "{'colsample_bytree': 0.4016586273572678,\n",
       " 'eta': 0.2528327126529844,\n",
       " 'gamma': 0.24116608717075014,\n",
       " 'max_delta_step': 0.1843254667183336,\n",
       " 'max_depth': 10.19205147193765,\n",
       " 'min_child_weight': 0.16488234226125442,\n",
       " 'subsample': 0.8657608339656384}"
      ]
     },
     "execution_count": 56,
     "metadata": {},
     "output_type": "execute_result"
    }
   ],
   "source": [
    "# 显示最好的参数，当然你也可以查看XGB_BO的所有参数\n",
    "XGB_BO.max['params']"
   ]
  },
  {
   "cell_type": "code",
   "execution_count": 57,
   "metadata": {},
   "outputs": [],
   "source": [
    "# 把上面调参过程得到的最好参数拿来用\n",
    "params = {\n",
    "    'booster': 'gbtree',\n",
    "    'objective' : 'binary:logistic',\n",
    "    'nthread' : 4,\n",
    "    'silent' : True,\n",
    "    'eval_metric':'auc',\n",
    "    'max_depth': int(XGB_BO.max['params']['max_depth']),\n",
    "    'gamma' : XGB_BO.max['params']['gamma'],\n",
    "    'gamma' : XGB_BO.max['params']['gamma'],\n",
    "    'eta' : XGB_BO.max['params']['eta'],    \n",
    "    'subsample' : XGB_BO.max['params']['subsample'],\n",
    "    'colsample_bytree': XGB_BO.max['params']['colsample_bytree'],\n",
    "    'min_child_weight' : XGB_BO.max['params']['min_child_weight'],\n",
    "    'max_delta_step' : int(XGB_BO.max['params']['max_delta_step']),\n",
    "    'verbose': 100,\n",
    "    'seed' : 0\n",
    "            }"
   ]
  },
  {
   "cell_type": "code",
   "execution_count": 58,
   "metadata": {
    "scrolled": false
   },
   "outputs": [
    {
     "name": "stdout",
     "output_type": "stream",
     "text": [
      "[0]\ttrain-auc:0.93294\ttest-auc:0.92958\n",
      "Multiple eval metrics have been passed: 'test-auc' will be used for early stopping.\n",
      "\n",
      "Will train until test-auc hasn't improved in 100 rounds.\n",
      "[100]\ttrain-auc:1.00000\ttest-auc:0.99899\n",
      "[200]\ttrain-auc:1.00000\ttest-auc:0.99892\n",
      "Stopping. Best iteration:\n",
      "[111]\ttrain-auc:1.00000\ttest-auc:0.99900\n",
      "\n"
     ]
    }
   ],
   "source": [
    "# 显示训练过程中需要监控的数据\n",
    "watchlist=[(dtrain,'train'),(dtest,'test')]\n",
    "# 记录训练过程中监控的数据，需要定义一个空的dict\n",
    "progress = dict()\n",
    "# 用搜索得到的最佳参数训练新模型\n",
    "xgb_model = xgb.train(params, \n",
    "                      dtrain, \n",
    "                      num_boost_round = 5000,\n",
    "                      early_stopping_rounds = 100,\n",
    "                      evals = watchlist,\n",
    "                      verbose_eval = 100,\n",
    "                      evals_result = progress)"
   ]
  },
  {
   "cell_type": "code",
   "execution_count": 59,
   "metadata": {},
   "outputs": [
    {
     "data": {
      "text/plain": [
       "111"
      ]
     },
     "execution_count": 59,
     "metadata": {},
     "output_type": "execute_result"
    }
   ],
   "source": [
    "# 显示best_iteration\n",
    "xgb_model.best_iteration"
   ]
  },
  {
   "cell_type": "code",
   "execution_count": 60,
   "metadata": {},
   "outputs": [
    {
     "data": {
      "image/png": "[encoded data removed]",
      "text/plain": [
       "<Figure size 720x432 with 1 Axes>"
      ]
     },
     "metadata": {
      "needs_background": "light"
     },
     "output_type": "display_data"
    }
   ],
   "source": [
    "# 绘制在训练过程中的AUC变化\n",
    "plt.figure(figsize=(10,6))\n",
    "plt.plot(progress['train']['auc'],linestyle='-.',label='Train',color='r')\n",
    "plt.plot(progress['test']['auc'],linestyle='-.',label='Test',color='g')\n",
    "plt.xlabel('num_boost_round')\n",
    "plt.ylabel('AUC')\n",
    "plt.title('XGBoost AUC')\n",
    "plt.legend()\n",
    "plt.show()"
   ]
  },
  {
   "cell_type": "code",
   "execution_count": 61,
   "metadata": {},
   "outputs": [],
   "source": [
    "# 使用best_iteration来做预测\n",
    "xgb_bay_y_pred = xgb_model.predict(dtest, ntree_limit = xgb_model.best_iteration)"
   ]
  },
  {
   "cell_type": "code",
   "execution_count": 62,
   "metadata": {},
   "outputs": [],
   "source": [
    "# 由于预测值为0-1的浮点数，概率值，需要转成0或1\n",
    "xgb_bay_predictions = [int(round(value)) for value in xgb_bay_y_pred]"
   ]
  },
  {
   "cell_type": "code",
   "execution_count": 63,
   "metadata": {},
   "outputs": [
    {
     "name": "stdout",
     "output_type": "stream",
     "text": [
      "精度:0.994\n",
      "召回:0.994\n",
      "f1-score:0.994\n",
      "AUC:0.999\n"
     ]
    }
   ],
   "source": [
    "xgb_bay_ms = metrics_result(y_test, xgb_bay_predictions, xgb_bay_y_pred)"
   ]
  },
  {
   "cell_type": "code",
   "execution_count": 64,
   "metadata": {},
   "outputs": [
    {
     "data": {
      "image/png": "[encoded data removed]",
      "text/plain": [
       "<Figure size 720x432 with 1 Axes>"
      ]
     },
     "metadata": {
      "needs_background": "light"
     },
     "output_type": "display_data"
    }
   ],
   "source": [
    "xgb_bay_fpr, xgb_bay_tpr = roc_curve_plot(y_test,xgb_bay_y_pred)"
   ]
  },
  {
   "cell_type": "markdown",
   "metadata": {},
   "source": [
    "### LightGBM原生接口，使用贝叶斯调参"
   ]
  },
  {
   "cell_type": "code",
   "execution_count": 65,
   "metadata": {},
   "outputs": [],
   "source": [
    "# 定义LightGBM调参函数\n",
    "def LGB_CV(num_leaves, \n",
    "           learning_rate, \n",
    "           feature_fraction,\n",
    "           lambda_l1, \n",
    "           lambda_l2, \n",
    "           max_depth, \n",
    "           bagging_fraction, \n",
    "           bagging_freq):\n",
    "    \n",
    "    # LightGBM希望接下来的三个参数是整数。所以我们把它们设为整数\n",
    "    num_leaves = int(num_leaves)\n",
    "    max_depth = int(max_depth)\n",
    "    bagging_freq = int(bagging_freq)\n",
    "    \n",
    "    assert type(num_leaves) == int\n",
    "    assert type(max_depth) == int\n",
    "    assert type(bagging_freq) == int\n",
    "    # 定义接收的参数\n",
    "    param = {\n",
    "        'num_leaves': num_leaves,\n",
    "        'learning_rate': learning_rate,\n",
    "        'bagging_fraction': bagging_fraction,\n",
    "        'bagging_freq': bagging_freq,\n",
    "        'feature_fraction': feature_fraction,\n",
    "        'lambda_l1': lambda_l1,\n",
    "        'lambda_l2': lambda_l2,\n",
    "        'max_depth': max_depth,\n",
    "        'save_binary': True, \n",
    "        'seed': 1337,\n",
    "        'feature_fraction_seed': 1337,\n",
    "        'bagging_seed': 1337,\n",
    "        'drop_seed': 1337,\n",
    "        'data_random_seed': 1337,\n",
    "        'objective': 'binary',\n",
    "        'boosting_type': 'gbdt',\n",
    "        'verbose': 1,\n",
    "        'metric': 'auc',\n",
    "        'is_unbalance': True,\n",
    "        'boost_from_average': False }    \n",
    "        \n",
    "    xg_train = lgb.Dataset(X_train, label=y_train)\n",
    "    xg_valid = lgb.Dataset(X_test, label=y_test)   \n",
    "\n",
    "    num_round = 10000    \n",
    "    lgb_cv_result = lgb.cv(param,\n",
    "                       xg_train, \n",
    "                       num_round,\n",
    "                       nfold = 5,\n",
    "                       stratified=False,\n",
    "                       metrics='auc',\n",
    "                       early_stopping_rounds=100,\n",
    "                       seed=0\n",
    "                              )\n",
    "    \n",
    "    return max(lgb_cv_result['auc-mean'])"
   ]
  },
  {
   "cell_type": "code",
   "execution_count": 66,
   "metadata": {},
   "outputs": [
    {
     "name": "stdout",
     "output_type": "stream",
     "text": [
      "|   iter    |  target   | baggin... | baggin... | featur... | lambda_l1 | lambda_l2 | learni... | max_depth | num_le... |\n",
      "-------------------------------------------------------------------------------------------------------------------------\n",
      "| \u001b[0m 1       \u001b[0m | \u001b[0m 0.9989  \u001b[0m | \u001b[0m 0.8222  \u001b[0m | \u001b[0m 3.138   \u001b[0m | \u001b[0m 0.8419  \u001b[0m | \u001b[0m 9.657   \u001b[0m | \u001b[0m 9.726   \u001b[0m | \u001b[0m 0.04808 \u001b[0m | \u001b[0m 10.31   \u001b[0m | \u001b[0m 43.27   \u001b[0m |\n",
      "| \u001b[95m 2       \u001b[0m | \u001b[95m 0.9991  \u001b[0m | \u001b[95m 0.7133  \u001b[0m | \u001b[95m 7.498   \u001b[0m | \u001b[95m 0.1315  \u001b[0m | \u001b[95m 2.984   \u001b[0m | \u001b[95m 0.5851  \u001b[0m | \u001b[95m 0.08642 \u001b[0m | \u001b[95m 7.474   \u001b[0m | \u001b[95m 40.4    \u001b[0m |\n",
      "| \u001b[0m 3       \u001b[0m | \u001b[0m 0.999   \u001b[0m | \u001b[0m 0.9063  \u001b[0m | \u001b[0m 8.964   \u001b[0m | \u001b[0m 0.5938  \u001b[0m | \u001b[0m 0.02646 \u001b[0m | \u001b[0m 0.1534  \u001b[0m | \u001b[0m 0.03167 \u001b[0m | \u001b[0m 4.003   \u001b[0m | \u001b[0m 20.2    \u001b[0m |\n",
      "| \u001b[0m 4       \u001b[0m | \u001b[0m 0.9988  \u001b[0m | \u001b[0m 0.3789  \u001b[0m | \u001b[0m 1.153   \u001b[0m | \u001b[0m 0.6671  \u001b[0m | \u001b[0m 6.707   \u001b[0m | \u001b[0m 9.639   \u001b[0m | \u001b[0m 0.039   \u001b[0m | \u001b[0m 13.89   \u001b[0m | \u001b[0m 20.07   \u001b[0m |\n",
      "=========================================================================================================================\n"
     ]
    }
   ],
   "source": [
    "#参数范围设定\n",
    "bounds_LGB = {\n",
    "    'num_leaves': (20, 50), \n",
    "    'learning_rate': (0.005, 0.1),   \n",
    "    'feature_fraction': (0.1, 1),\n",
    "    'lambda_l1': (0, 10.0), \n",
    "    'lambda_l2': (0, 10.0), \n",
    "    'max_depth':(3,15),\n",
    "    'bagging_fraction':(0.2,1),\n",
    "    'bagging_freq':(1,10),\n",
    "}\n",
    "\n",
    "#优化器\n",
    "LGB_BO = BayesianOptimization(LGB_CV, bounds_LGB, random_state=13)\n",
    "\n",
    "# 初始随机尝试\n",
    "init_points = 2 \n",
    "# 优化尝试\n",
    "n_iter = 2     \n",
    "\n",
    "with warnings.catch_warnings():\n",
    "    warnings.filterwarnings('ignore') # 忽视一些警告，当然可以注释掉\n",
    "    LGB_BO.maximize(init_points=init_points, n_iter=n_iter, acq='ucb', xi=0.0, alpha=1e-6)\n"
   ]
  },
  {
   "cell_type": "code",
   "execution_count": 67,
   "metadata": {},
   "outputs": [
    {
     "data": {
      "text/plain": [
       "{'target': 0.9990981624429001,\n",
       " 'params': {'bagging_fraction': 0.7132906758072555,\n",
       "  'bagging_freq': 7.498164065652524,\n",
       "  'feature_fraction': 0.1315328716912936,\n",
       "  'lambda_l1': 2.984494708891794,\n",
       "  'lambda_l2': 0.5851249188207475,\n",
       "  'learning_rate': 0.0864207895457839,\n",
       "  'max_depth': 7.474248334497689,\n",
       "  'num_leaves': 40.395438547342906}}"
      ]
     },
     "execution_count": 67,
     "metadata": {},
     "output_type": "execute_result"
    }
   ],
   "source": [
    "LGB_BO.max"
   ]
  },
  {
   "cell_type": "code",
   "execution_count": 68,
   "metadata": {},
   "outputs": [],
   "source": [
    "params = {\n",
    "    'num_leaves': int(LGB_BO.max['params']['num_leaves']), \n",
    "    'learning_rate': LGB_BO.max['params']['learning_rate'],   \n",
    "    'feature_fraction': LGB_BO.max['params']['feature_fraction'],\n",
    "    'lambda_l1': LGB_BO.max['params']['lambda_l1'], \n",
    "    'lambda_l2': LGB_BO.max['params']['lambda_l2'], \n",
    "    'max_depth':int(LGB_BO.max['params']['max_depth']),\n",
    "    'bagging_fraction':LGB_BO.max['params']['bagging_fraction'],\n",
    "    'bagging_freq':int(LGB_BO.max['params']['bagging_freq']),\n",
    "    'save_binary': True, \n",
    "    'seed': 1337,\n",
    "    'feature_fraction_seed': 1337,\n",
    "    'bagging_seed': 1337,\n",
    "    'drop_seed': 1337,\n",
    "    'data_random_seed': 1337,\n",
    "    'objective': 'binary',\n",
    "    'boosting_type': 'gbdt',\n",
    "    'verbose': 1,\n",
    "    'metric': 'auc',\n",
    "    'is_unbalance': True,\n",
    "    'boost_from_average': False \n",
    "}"
   ]
  },
  {
   "cell_type": "code",
   "execution_count": 69,
   "metadata": {
    "scrolled": true
   },
   "outputs": [
    {
     "name": "stdout",
     "output_type": "stream",
     "text": [
      "Training until validation scores don't improve for 100 rounds\n",
      "[100]\ttrain's auc: 0.999056\ttest's auc: 0.998186\n",
      "[200]\ttrain's auc: 0.999644\ttest's auc: 0.998769\n",
      "[300]\ttrain's auc: 0.999808\ttest's auc: 0.998975\n",
      "[400]\ttrain's auc: 0.999888\ttest's auc: 0.999018\n",
      "[500]\ttrain's auc: 0.999922\ttest's auc: 0.999024\n",
      "[600]\ttrain's auc: 0.999946\ttest's auc: 0.999029\n",
      "Early stopping, best iteration is:\n",
      "[558]\ttrain's auc: 0.999939\ttest's auc: 0.999052\n"
     ]
    }
   ],
   "source": [
    "lgb_dtrain = lgb.Dataset(X_train, y_train)\n",
    "lgb_dtest = lgb.Dataset(X_test, y_test,reference=lgb_dtrain)\n",
    "# 显示训练过程中需要监控的数据\n",
    "#lgb_watchlist=[(lgb_dtrain,'train'),(lgb_dtest,'test')]\n",
    "lgb_watchlist=[lgb_dtest,lgb_dtrain]\n",
    "# 记录训练过程中监控的数据，需要定义一个空的dict\n",
    "lgb_progress = dict()\n",
    "# 用搜索得到的最佳参数训练新模型\n",
    "lgb_model = lgb.train(params, \n",
    "                      lgb_dtrain, \n",
    "                      num_boost_round = 5000,\n",
    "                      early_stopping_rounds = 100,\n",
    "                      valid_sets = [lgb_dtest,lgb_dtrain],\n",
    "                      valid_names=['test', 'train'],\n",
    "                      #eval_metric = 'auc',\n",
    "                      evals_result =lgb_progress ,\n",
    "                      verbose_eval = 100)"
   ]
  },
  {
   "cell_type": "code",
   "execution_count": 70,
   "metadata": {},
   "outputs": [],
   "source": [
    "# 使用best_iteration来做预测\n",
    "lgb_bay_y_pred = lgb_model.predict(X_test, ntree_limit = lgb_model.best_iteration)"
   ]
  },
  {
   "cell_type": "code",
   "execution_count": 71,
   "metadata": {},
   "outputs": [],
   "source": [
    "# 由于预测值为0-1的浮点数，概率值，需要转成0或1\n",
    "lgb_bay_predictions = [int(round(value)) for value in lgb_bay_y_pred]"
   ]
  },
  {
   "cell_type": "code",
   "execution_count": 72,
   "metadata": {},
   "outputs": [
    {
     "data": {
      "image/png": "[encoded data removed]",
      "text/plain": [
       "<Figure size 720x432 with 1 Axes>"
      ]
     },
     "metadata": {
      "needs_background": "light"
     },
     "output_type": "display_data"
    }
   ],
   "source": [
    "# 绘制在训练过程中的AUC变化\n",
    "plt.figure(figsize=(10,6))\n",
    "plt.plot(lgb_progress['train']['auc'],label='Train',color='r')\n",
    "plt.plot(lgb_progress['test']['auc'],label='Test',color='g')\n",
    "plt.xlabel('num_boost_round')\n",
    "plt.ylabel('AUC')\n",
    "plt.title('LightGBM AUC')\n",
    "plt.legend()\n",
    "plt.show()"
   ]
  },
  {
   "cell_type": "code",
   "execution_count": 73,
   "metadata": {},
   "outputs": [
    {
     "name": "stdout",
     "output_type": "stream",
     "text": [
      "精度:0.993\n",
      "召回:0.993\n",
      "f1-score:0.993\n",
      "AUC:0.999\n"
     ]
    }
   ],
   "source": [
    "lgb_bay_ms = metrics_result(y_test, lgb_bay_predictions, lgb_bay_y_pred)"
   ]
  },
  {
   "cell_type": "code",
   "execution_count": 74,
   "metadata": {},
   "outputs": [
    {
     "data": {
      "image/png": "[encoded data removed]",
      "text/plain": [
       "<Figure size 720x432 with 1 Axes>"
      ]
     },
     "metadata": {
      "needs_background": "light"
     },
     "output_type": "display_data"
    }
   ],
   "source": [
    "lgb_bay_fpr, lgb_bay_tpr = roc_curve_plot(y_test, lgb_bay_y_pred)"
   ]
  },
  {
   "cell_type": "markdown",
   "metadata": {},
   "source": [
    "### 基于VSM，把所用到的机器学习模型的roc_curve放在一起对比一下"
   ]
  },
  {
   "cell_type": "code",
   "execution_count": 75,
   "metadata": {
    "scrolled": false
   },
   "outputs": [
    {
     "data": {
      "image/png": "[encoded data removed]",
      "text/plain": [
       "<Figure size 720x432 with 1 Axes>"
      ]
     },
     "metadata": {
      "needs_background": "light"
     },
     "output_type": "display_data"
    }
   ],
   "source": [
    "# 定义roc_curve_plot函数，用于绘制roc_curve图\n",
    "from sklearn.metrics import auc\n",
    "\n",
    "fig, ax = plt.subplots(figsize=(10, 6))\n",
    "ax.plot(lsvc_fpr, lsvc_tpr, color='red', label='SVM({:.5f})'.format(auc(lsvc_fpr, lsvc_tpr)))\n",
    "ax.plot(rfc_fpr, rfc_tpr, color='green', label='Random Forest({:.5f})'.format(auc(rfc_fpr, rfc_tpr)))\n",
    "ax.plot(xgb_fpr, xgb_tpr, color='blue', label='XGBoost({:.5f})'.format(auc(xgb_fpr, xgb_tpr)))\n",
    "ax.plot(lgb_fpr, lgb_tpr, color='lightcoral', label='LightGBM({:.5f})'.format(auc(lgb_fpr, lgb_tpr)))\n",
    "ax.plot(xgb_bay_fpr, xgb_bay_tpr, color='aqua', label='XGBoost_bay({:.5f})'.format(auc(xgb_bay_fpr, xgb_bay_tpr)))\n",
    "ax.plot(lgb_bay_fpr, lgb_bay_tpr, color='dimgray', label='LightGBM_bay({:.5f})'.format(auc(lgb_bay_fpr, lgb_bay_tpr)))\n",
    "ax.plot([-0.005,1.01],[-0.005,1.01], ls='--',color='gray')\n",
    "plt.xlim([-0.005,1.01])\n",
    "plt.ylim([-0.005,1.01])\n",
    "plt.title('ROC Curve')\n",
    "plt.xlabel('False Positive Rate')\n",
    "plt.ylabel('True Positive Rate')\n",
    "plt.legend()\n",
    "plt.show()"
   ]
  },
  {
   "cell_type": "markdown",
   "metadata": {},
   "source": [
    "### ----------------------------------------------------------------分割线----------------------------------------------------------------------"
   ]
  },
  {
   "cell_type": "markdown",
   "metadata": {},
   "source": [
    "## 2. Doc2Vec模型\n",
    "\n",
    ">Doc2Vec 或者叫做 paragraph2vec, sentence embeddings，是一种非监督式算法，可以获得 sentences/paragraphs/documents 的向量表达，是 word2vec 的拓展。学出来的向量可以通过计算距离来找 sentences/paragraphs/documents 之间的相似性，可以用于文本聚类，对于有标签的数据，还可以用监督学习的方法进行文本分类，例如经典的情感分析问题。\n",
    "\n",
    ">优点：1. Context层面保留词语顺序关系(PV-DM)；2. 具有语义"
   ]
  },
  {
   "cell_type": "code",
   "execution_count": 16,
   "metadata": {},
   "outputs": [],
   "source": [
    "import jieba\n",
    "import re\n",
    "import numpy as np\n",
    "import pandas as pd\n",
    "import gensim\n",
    "from gensim.models import doc2vec\n",
    "import time\n",
    "import gc\n",
    "import os, sys\n",
    "import logging\n",
    "import multiprocessing\n",
    "from optparse import OptionParser\n",
    "import gensim\n",
    "from gensim.models import Doc2Vec\n",
    "from gensim.models.doc2vec import TaggedLineDocument"
   ]
  },
  {
   "cell_type": "code",
   "execution_count": 17,
   "metadata": {},
   "outputs": [],
   "source": [
    "# 读取分词csv文件\n",
    "new_X_d2v = pd.read_csv('new_X.csv',index_col=0)"
   ]
  },
  {
   "cell_type": "code",
   "execution_count": 18,
   "metadata": {
    "scrolled": true
   },
   "outputs": [
    {
     "data": {
      "text/html": [
       "<div>\n",
       "<style scoped>\n",
       "    .dataframe tbody tr th:only-of-type {\n",
       "        vertical-align: middle;\n",
       "    }\n",
       "\n",
       "    .dataframe tbody tr th {\n",
       "        vertical-align: top;\n",
       "    }\n",
       "\n",
       "    .dataframe thead th {\n",
       "        text-align: right;\n",
       "    }\n",
       "</style>\n",
       "<table border=\"1\" class=\"dataframe\">\n",
       "  <thead>\n",
       "    <tr style=\"text-align: right;\">\n",
       "      <th></th>\n",
       "      <th>content</th>\n",
       "    </tr>\n",
       "  </thead>\n",
       "  <tbody>\n",
       "    <tr>\n",
       "      <th>0</th>\n",
       "      <td>小米 MIUI  首批 机型 曝光  共计 15 款  本周  月 12 日   小米 手机...</td>\n",
       "    </tr>\n",
       "    <tr>\n",
       "      <th>1</th>\n",
       "      <td>骁龙 835 Windows  10 性能 表现 有望 改善 骁龙 835 唯一 Windo...</td>\n",
       "    </tr>\n",
       "    <tr>\n",
       "      <th>2</th>\n",
       "      <td>一加 手机 细节 曝光  3300mAh  充 半小时 天 此前 一加 3T 搭载 3400...</td>\n",
       "    </tr>\n",
       "    <tr>\n",
       "      <th>3</th>\n",
       "      <td>葡 森林 火灾 至少 62 死亡  政府 紧急状态  组图  这是 月 18 日 葡萄牙 中...</td>\n",
       "    </tr>\n",
       "    <tr>\n",
       "      <th>4</th>\n",
       "      <td>44 岁 女子 约 网友 拒 暴雨 中 裸奔  交警 披衣 相随  原 标题  44 岁 女...</td>\n",
       "    </tr>\n",
       "  </tbody>\n",
       "</table>\n",
       "</div>"
      ],
      "text/plain": [
       "                                             content\n",
       "0  小米 MIUI  首批 机型 曝光  共计 15 款  本周  月 12 日   小米 手机...\n",
       "1  骁龙 835 Windows  10 性能 表现 有望 改善 骁龙 835 唯一 Windo...\n",
       "2  一加 手机 细节 曝光  3300mAh  充 半小时 天 此前 一加 3T 搭载 3400...\n",
       "3  葡 森林 火灾 至少 62 死亡  政府 紧急状态  组图  这是 月 18 日 葡萄牙 中...\n",
       "4  44 岁 女子 约 网友 拒 暴雨 中 裸奔  交警 披衣 相随  原 标题  44 岁 女..."
      ]
     },
     "execution_count": 18,
     "metadata": {},
     "output_type": "execute_result"
    }
   ],
   "source": [
    "new_X_d2v.columns=['content']\n",
    "new_X_d2v.head()"
   ]
  },
  {
   "cell_type": "code",
   "execution_count": 79,
   "metadata": {
    "scrolled": true
   },
   "outputs": [
    {
     "name": "stderr",
     "output_type": "stream",
     "text": [
      "2020-03-31 19:13:59,308 - INFO - running\n",
      "2020-03-31 19:13:59,309 - INFO - collecting all words and their counts\n",
      "2020-03-31 19:13:59,311 - INFO - PROGRESS: at example #0, processed 0 words (0/s), 0 word types, 0 tags\n",
      "2020-03-31 19:13:59,911 - INFO - PROGRESS: at example #10000, processed 2535726 words (4225431/s), 139133 word types, 10000 tags\n",
      "2020-03-31 19:14:00,216 - INFO - PROGRESS: at example #20000, processed 3746151 words (3968008/s), 162127 word types, 20000 tags\n",
      "2020-03-31 19:14:00,522 - INFO - PROGRESS: at example #30000, processed 4927222 words (3869467/s), 175715 word types, 30000 tags\n",
      "2020-03-31 19:14:00,830 - INFO - PROGRESS: at example #40000, processed 6161217 words (4029166/s), 190171 word types, 40000 tags\n",
      "2020-03-31 19:14:01,162 - INFO - PROGRESS: at example #50000, processed 7505408 words (4049507/s), 204643 word types, 50000 tags\n",
      "2020-03-31 19:14:01,521 - INFO - PROGRESS: at example #60000, processed 8878299 words (3834021/s), 217988 word types, 60000 tags\n",
      "2020-03-31 19:14:01,859 - INFO - PROGRESS: at example #70000, processed 10144315 words (3751662/s), 228562 word types, 70000 tags\n",
      "2020-03-31 19:14:02,190 - INFO - PROGRESS: at example #80000, processed 11403050 words (3808507/s), 238616 word types, 80000 tags\n",
      "2020-03-31 19:14:02,525 - INFO - collected 248540 word types and 89611 unique tags from a corpus of 89611 examples and 12652090 words\n",
      "2020-03-31 19:14:02,525 - INFO - Loading a fresh vocabulary\n",
      "2020-03-31 19:14:03,023 - INFO - effective_min_count=1 retains 248540 unique words (100% of original 248540, drops 0)\n",
      "2020-03-31 19:14:03,024 - INFO - effective_min_count=1 leaves 12652090 word corpus (100% of original 12652090, drops 0)\n",
      "2020-03-31 19:14:03,568 - INFO - deleting the raw counts dictionary of 248540 items\n",
      "2020-03-31 19:14:03,572 - INFO - sample=0.001 downsamples 15 most-common words\n",
      "2020-03-31 19:14:03,572 - INFO - downsampling leaves estimated 11989321 word corpus (94.8% of prior 12652090)\n",
      "2020-03-31 19:14:04,076 - INFO - estimated required memory for 248540 words and 200 dimensions: 593622800 bytes\n",
      "2020-03-31 19:14:04,077 - INFO - resetting layer weights\n",
      "2020-03-31 19:14:51,354 - INFO - training model with 4 workers on 248540 vocabulary and 200 features, using sg=0 hs=0 sample=0.001 negative=5 window=3\n",
      "2020-03-31 19:14:52,358 - INFO - EPOCH 1 - PROGRESS: at 3.75% examples, 975908 words/s, in_qsize 7, out_qsize 0\n",
      "2020-03-31 19:14:53,362 - INFO - EPOCH 1 - PROGRESS: at 7.45% examples, 983507 words/s, in_qsize 7, out_qsize 0\n",
      "2020-03-31 19:14:54,386 - INFO - EPOCH 1 - PROGRESS: at 14.53% examples, 941496 words/s, in_qsize 7, out_qsize 0\n",
      "2020-03-31 19:14:55,391 - INFO - EPOCH 1 - PROGRESS: at 22.70% examples, 913633 words/s, in_qsize 7, out_qsize 0\n",
      "2020-03-31 19:14:56,391 - INFO - EPOCH 1 - PROGRESS: at 30.79% examples, 893584 words/s, in_qsize 7, out_qsize 0\n",
      "2020-03-31 19:14:57,396 - INFO - EPOCH 1 - PROGRESS: at 38.93% examples, 881501 words/s, in_qsize 7, out_qsize 0\n",
      "2020-03-31 19:14:58,409 - INFO - EPOCH 1 - PROGRESS: at 46.73% examples, 874758 words/s, in_qsize 7, out_qsize 0\n",
      "2020-03-31 19:14:59,412 - INFO - EPOCH 1 - PROGRESS: at 54.24% examples, 870180 words/s, in_qsize 7, out_qsize 0\n",
      "2020-03-31 19:15:00,414 - INFO - EPOCH 1 - PROGRESS: at 61.34% examples, 866349 words/s, in_qsize 7, out_qsize 0\n",
      "2020-03-31 19:15:01,414 - INFO - EPOCH 1 - PROGRESS: at 68.79% examples, 863257 words/s, in_qsize 7, out_qsize 0\n",
      "2020-03-31 19:15:02,420 - INFO - EPOCH 1 - PROGRESS: at 76.33% examples, 860632 words/s, in_qsize 8, out_qsize 0\n",
      "2020-03-31 19:15:03,429 - INFO - EPOCH 1 - PROGRESS: at 83.79% examples, 856636 words/s, in_qsize 7, out_qsize 0\n",
      "2020-03-31 19:15:04,437 - INFO - EPOCH 1 - PROGRESS: at 91.59% examples, 853150 words/s, in_qsize 8, out_qsize 0\n",
      "2020-03-31 19:15:05,449 - INFO - EPOCH 1 - PROGRESS: at 99.09% examples, 849121 words/s, in_qsize 8, out_qsize 0\n",
      "2020-03-31 19:15:05,544 - INFO - worker thread finished; awaiting finish of 3 more threads\n",
      "2020-03-31 19:15:05,547 - INFO - worker thread finished; awaiting finish of 2 more threads\n",
      "2020-03-31 19:15:05,558 - INFO - worker thread finished; awaiting finish of 1 more threads\n",
      "2020-03-31 19:15:05,571 - INFO - worker thread finished; awaiting finish of 0 more threads\n",
      "2020-03-31 19:15:05,573 - INFO - EPOCH - 1 : training on 12652090 raw words (12079571 effective words) took 14.2s, 849686 effective words/s\n",
      "2020-03-31 19:15:06,590 - INFO - EPOCH 2 - PROGRESS: at 3.62% examples, 934875 words/s, in_qsize 7, out_qsize 0\n",
      "2020-03-31 19:15:07,595 - INFO - EPOCH 2 - PROGRESS: at 7.10% examples, 925981 words/s, in_qsize 7, out_qsize 0\n",
      "2020-03-31 19:15:08,600 - INFO - EPOCH 2 - PROGRESS: at 13.38% examples, 909439 words/s, in_qsize 7, out_qsize 0\n",
      "2020-03-31 19:15:09,610 - INFO - EPOCH 2 - PROGRESS: at 21.42% examples, 883465 words/s, in_qsize 7, out_qsize 0\n",
      "2020-03-31 19:15:10,617 - INFO - EPOCH 2 - PROGRESS: at 29.57% examples, 863219 words/s, in_qsize 7, out_qsize 0\n",
      "2020-03-31 19:15:11,632 - INFO - EPOCH 2 - PROGRESS: at 37.63% examples, 855733 words/s, in_qsize 7, out_qsize 0\n",
      "2020-03-31 19:15:12,643 - INFO - EPOCH 2 - PROGRESS: at 45.43% examples, 851807 words/s, in_qsize 8, out_qsize 0\n",
      "2020-03-31 19:15:13,644 - INFO - EPOCH 2 - PROGRESS: at 52.90% examples, 850366 words/s, in_qsize 7, out_qsize 0\n",
      "2020-03-31 19:15:14,650 - INFO - EPOCH 2 - PROGRESS: at 60.03% examples, 848305 words/s, in_qsize 7, out_qsize 0\n",
      "2020-03-31 19:15:15,675 - INFO - EPOCH 2 - PROGRESS: at 67.47% examples, 846700 words/s, in_qsize 8, out_qsize 0\n",
      "2020-03-31 19:15:16,681 - INFO - EPOCH 2 - PROGRESS: at 75.40% examples, 846323 words/s, in_qsize 7, out_qsize 0\n",
      "2020-03-31 19:15:17,699 - INFO - EPOCH 2 - PROGRESS: at 82.82% examples, 843786 words/s, in_qsize 7, out_qsize 0\n",
      "2020-03-31 19:15:18,703 - INFO - EPOCH 2 - PROGRESS: at 90.91% examples, 842809 words/s, in_qsize 7, out_qsize 0\n",
      "2020-03-31 19:15:19,706 - INFO - EPOCH 2 - PROGRESS: at 98.31% examples, 840901 words/s, in_qsize 7, out_qsize 0\n",
      "2020-03-31 19:15:19,899 - INFO - worker thread finished; awaiting finish of 3 more threads\n",
      "2020-03-31 19:15:19,909 - INFO - worker thread finished; awaiting finish of 2 more threads\n",
      "2020-03-31 19:15:19,923 - INFO - worker thread finished; awaiting finish of 1 more threads\n",
      "2020-03-31 19:15:19,928 - INFO - worker thread finished; awaiting finish of 0 more threads\n",
      "2020-03-31 19:15:19,929 - INFO - EPOCH - 2 : training on 12652090 raw words (12078407 effective words) took 14.4s, 841529 effective words/s\n",
      "2020-03-31 19:15:20,939 - INFO - EPOCH 3 - PROGRESS: at 3.67% examples, 949529 words/s, in_qsize 7, out_qsize 0\n",
      "2020-03-31 19:15:21,940 - INFO - EPOCH 3 - PROGRESS: at 7.37% examples, 971680 words/s, in_qsize 7, out_qsize 0\n",
      "2020-03-31 19:15:22,948 - INFO - EPOCH 3 - PROGRESS: at 14.10% examples, 933200 words/s, in_qsize 7, out_qsize 0\n",
      "2020-03-31 19:15:23,955 - INFO - EPOCH 3 - PROGRESS: at 21.99% examples, 896949 words/s, in_qsize 7, out_qsize 0\n",
      "2020-03-31 19:15:24,957 - INFO - EPOCH 3 - PROGRESS: at 29.87% examples, 877000 words/s, in_qsize 7, out_qsize 0\n",
      "2020-03-31 19:15:25,967 - INFO - EPOCH 3 - PROGRESS: at 37.96% examples, 864864 words/s, in_qsize 7, out_qsize 0\n",
      "2020-03-31 19:15:26,997 - INFO - EPOCH 3 - PROGRESS: at 45.66% examples, 857366 words/s, in_qsize 8, out_qsize 0\n",
      "2020-03-31 19:15:27,997 - INFO - EPOCH 3 - PROGRESS: at 53.18% examples, 855201 words/s, in_qsize 7, out_qsize 0\n",
      "2020-03-31 19:15:29,006 - INFO - EPOCH 3 - PROGRESS: at 60.47% examples, 852239 words/s, in_qsize 7, out_qsize 0\n",
      "2020-03-31 19:15:30,013 - INFO - EPOCH 3 - PROGRESS: at 67.47% examples, 848254 words/s, in_qsize 8, out_qsize 0\n",
      "2020-03-31 19:15:31,019 - INFO - EPOCH 3 - PROGRESS: at 75.02% examples, 845194 words/s, in_qsize 8, out_qsize 0\n",
      "2020-03-31 19:15:32,041 - INFO - EPOCH 3 - PROGRESS: at 82.41% examples, 841635 words/s, in_qsize 7, out_qsize 0\n",
      "2020-03-31 19:15:33,045 - INFO - EPOCH 3 - PROGRESS: at 90.42% examples, 840135 words/s, in_qsize 7, out_qsize 0\n",
      "2020-03-31 19:15:34,063 - INFO - EPOCH 3 - PROGRESS: at 98.04% examples, 838188 words/s, in_qsize 7, out_qsize 0\n",
      "2020-03-31 19:15:34,285 - INFO - worker thread finished; awaiting finish of 3 more threads\n",
      "2020-03-31 19:15:34,291 - INFO - worker thread finished; awaiting finish of 2 more threads\n",
      "2020-03-31 19:15:34,304 - INFO - worker thread finished; awaiting finish of 1 more threads\n",
      "2020-03-31 19:15:34,313 - INFO - worker thread finished; awaiting finish of 0 more threads\n",
      "2020-03-31 19:15:34,313 - INFO - EPOCH - 3 : training on 12652090 raw words (12078751 effective words) took 14.4s, 839755 effective words/s\n",
      "2020-03-31 19:15:35,317 - INFO - EPOCH 4 - PROGRESS: at 3.78% examples, 985877 words/s, in_qsize 7, out_qsize 0\n",
      "2020-03-31 19:15:36,324 - INFO - EPOCH 4 - PROGRESS: at 7.45% examples, 982694 words/s, in_qsize 7, out_qsize 0\n",
      "2020-03-31 19:15:37,338 - INFO - EPOCH 4 - PROGRESS: at 14.21% examples, 934988 words/s, in_qsize 7, out_qsize 0\n",
      "2020-03-31 19:15:38,338 - INFO - EPOCH 4 - PROGRESS: at 22.24% examples, 904502 words/s, in_qsize 8, out_qsize 0\n",
      "2020-03-31 19:15:39,349 - INFO - EPOCH 4 - PROGRESS: at 30.25% examples, 885055 words/s, in_qsize 7, out_qsize 0\n",
      "2020-03-31 19:15:40,355 - INFO - EPOCH 4 - PROGRESS: at 38.10% examples, 867540 words/s, in_qsize 7, out_qsize 0\n",
      "2020-03-31 19:15:41,360 - INFO - EPOCH 4 - PROGRESS: at 45.33% examples, 851951 words/s, in_qsize 8, out_qsize 0\n",
      "2020-03-31 19:15:42,369 - INFO - EPOCH 4 - PROGRESS: at 52.34% examples, 845053 words/s, in_qsize 7, out_qsize 0\n",
      "2020-03-31 19:15:43,373 - INFO - EPOCH 4 - PROGRESS: at 58.98% examples, 837570 words/s, in_qsize 7, out_qsize 0\n",
      "2020-03-31 19:15:44,380 - INFO - EPOCH 4 - PROGRESS: at 66.09% examples, 834883 words/s, in_qsize 7, out_qsize 0\n",
      "2020-03-31 19:15:45,389 - INFO - EPOCH 4 - PROGRESS: at 74.07% examples, 835369 words/s, in_qsize 8, out_qsize 0\n",
      "2020-03-31 19:15:46,405 - INFO - EPOCH 4 - PROGRESS: at 81.47% examples, 833799 words/s, in_qsize 7, out_qsize 0\n",
      "2020-03-31 19:15:47,409 - INFO - EPOCH 4 - PROGRESS: at 89.46% examples, 833550 words/s, in_qsize 7, out_qsize 0\n",
      "2020-03-31 19:15:48,417 - INFO - EPOCH 4 - PROGRESS: at 97.09% examples, 832720 words/s, in_qsize 7, out_qsize 0\n",
      "2020-03-31 19:15:48,764 - INFO - worker thread finished; awaiting finish of 3 more threads\n",
      "2020-03-31 19:15:48,768 - INFO - worker thread finished; awaiting finish of 2 more threads\n",
      "2020-03-31 19:15:48,781 - INFO - worker thread finished; awaiting finish of 1 more threads\n",
      "2020-03-31 19:15:48,790 - INFO - worker thread finished; awaiting finish of 0 more threads\n",
      "2020-03-31 19:15:48,791 - INFO - EPOCH - 4 : training on 12652090 raw words (12077754 effective words) took 14.5s, 834397 effective words/s\n",
      "2020-03-31 19:15:49,811 - INFO - EPOCH 5 - PROGRESS: at 3.82% examples, 979756 words/s, in_qsize 8, out_qsize 0\n",
      "2020-03-31 19:15:50,817 - INFO - EPOCH 5 - PROGRESS: at 7.62% examples, 993258 words/s, in_qsize 7, out_qsize 0\n",
      "2020-03-31 19:15:51,818 - INFO - EPOCH 5 - PROGRESS: at 14.67% examples, 945995 words/s, in_qsize 7, out_qsize 0\n",
      "2020-03-31 19:15:52,835 - INFO - EPOCH 5 - PROGRESS: at 22.90% examples, 916580 words/s, in_qsize 8, out_qsize 0\n",
      "2020-03-31 19:15:53,836 - INFO - EPOCH 5 - PROGRESS: at 31.24% examples, 900822 words/s, in_qsize 7, out_qsize 0\n",
      "2020-03-31 19:15:54,836 - INFO - EPOCH 5 - PROGRESS: at 39.37% examples, 890269 words/s, in_qsize 7, out_qsize 0\n",
      "2020-03-31 19:15:55,848 - INFO - EPOCH 5 - PROGRESS: at 47.05% examples, 881265 words/s, in_qsize 7, out_qsize 0\n",
      "2020-03-31 19:15:56,874 - INFO - EPOCH 5 - PROGRESS: at 54.68% examples, 874489 words/s, in_qsize 6, out_qsize 1\n",
      "2020-03-31 19:15:57,877 - INFO - EPOCH 5 - PROGRESS: at 61.99% examples, 870661 words/s, in_qsize 6, out_qsize 1\n",
      "2020-03-31 19:15:58,883 - INFO - EPOCH 5 - PROGRESS: at 69.48% examples, 867874 words/s, in_qsize 8, out_qsize 0\n",
      "2020-03-31 19:15:59,891 - INFO - EPOCH 5 - PROGRESS: at 77.16% examples, 865500 words/s, in_qsize 8, out_qsize 0\n",
      "2020-03-31 19:16:00,912 - INFO - EPOCH 5 - PROGRESS: at 84.94% examples, 862293 words/s, in_qsize 7, out_qsize 0\n",
      "2020-03-31 19:16:01,931 - INFO - EPOCH 5 - PROGRESS: at 92.49% examples, 856375 words/s, in_qsize 7, out_qsize 0\n",
      "2020-03-31 19:16:02,900 - INFO - worker thread finished; awaiting finish of 3 more threads\n",
      "2020-03-31 19:16:02,904 - INFO - worker thread finished; awaiting finish of 2 more threads\n",
      "2020-03-31 19:16:02,917 - INFO - worker thread finished; awaiting finish of 1 more threads\n",
      "2020-03-31 19:16:02,926 - INFO - worker thread finished; awaiting finish of 0 more threads\n",
      "2020-03-31 19:16:02,927 - INFO - EPOCH - 5 : training on 12652090 raw words (12078868 effective words) took 14.1s, 854623 effective words/s\n",
      "2020-03-31 19:16:02,927 - INFO - training on a 63260450 raw words (60393351 effective words) took 71.6s, 843802 effective words/s\n",
      "2020-03-31 19:16:02,928 - WARNING - Effective 'alpha' higher than previous training cycles\n",
      "2020-03-31 19:16:02,928 - INFO - training model with 4 workers on 248540 vocabulary and 200 features, using sg=0 hs=0 sample=0.001 negative=5 window=3\n",
      "2020-03-31 19:16:03,933 - INFO - EPOCH 1 - PROGRESS: at 3.58% examples, 935886 words/s, in_qsize 6, out_qsize 1\n",
      "2020-03-31 19:16:04,934 - INFO - EPOCH 1 - PROGRESS: at 7.32% examples, 964765 words/s, in_qsize 7, out_qsize 0\n",
      "2020-03-31 19:16:05,939 - INFO - EPOCH 1 - PROGRESS: at 13.60% examples, 920176 words/s, in_qsize 7, out_qsize 0\n",
      "2020-03-31 19:16:06,942 - INFO - EPOCH 1 - PROGRESS: at 21.52% examples, 890670 words/s, in_qsize 6, out_qsize 1\n",
      "2020-03-31 19:16:07,956 - INFO - EPOCH 1 - PROGRESS: at 29.83% examples, 875156 words/s, in_qsize 7, out_qsize 0\n",
      "2020-03-31 19:16:08,963 - INFO - EPOCH 1 - PROGRESS: at 37.88% examples, 863815 words/s, in_qsize 7, out_qsize 0\n",
      "2020-03-31 19:16:09,963 - INFO - EPOCH 1 - PROGRESS: at 45.43% examples, 856079 words/s, in_qsize 7, out_qsize 0\n",
      "2020-03-31 19:16:10,965 - INFO - EPOCH 1 - PROGRESS: at 52.83% examples, 852812 words/s, in_qsize 7, out_qsize 0\n",
      "2020-03-31 19:16:11,973 - INFO - EPOCH 1 - PROGRESS: at 59.86% examples, 849236 words/s, in_qsize 7, out_qsize 0\n",
      "2020-03-31 19:16:12,994 - INFO - EPOCH 1 - PROGRESS: at 66.51% examples, 839618 words/s, in_qsize 7, out_qsize 0\n",
      "2020-03-31 19:16:14,007 - INFO - EPOCH 1 - PROGRESS: at 74.34% examples, 838526 words/s, in_qsize 7, out_qsize 0\n",
      "2020-03-31 19:16:15,013 - INFO - EPOCH 1 - PROGRESS: at 81.91% examples, 838087 words/s, in_qsize 7, out_qsize 0\n",
      "2020-03-31 19:16:16,021 - INFO - EPOCH 1 - PROGRESS: at 89.92% examples, 837374 words/s, in_qsize 7, out_qsize 0\n",
      "2020-03-31 19:16:17,025 - INFO - EPOCH 1 - PROGRESS: at 97.69% examples, 837122 words/s, in_qsize 7, out_qsize 0\n",
      "2020-03-31 19:16:17,318 - INFO - worker thread finished; awaiting finish of 3 more threads\n",
      "2020-03-31 19:16:17,322 - INFO - worker thread finished; awaiting finish of 2 more threads\n",
      "2020-03-31 19:16:17,335 - INFO - worker thread finished; awaiting finish of 1 more threads\n",
      "2020-03-31 19:16:17,343 - INFO - worker thread finished; awaiting finish of 0 more threads\n",
      "2020-03-31 19:16:17,344 - INFO - EPOCH - 1 : training on 12652090 raw words (12079832 effective words) took 14.4s, 838069 effective words/s\n",
      "2020-03-31 19:16:18,353 - INFO - EPOCH 2 - PROGRESS: at 3.78% examples, 980114 words/s, in_qsize 7, out_qsize 0\n",
      "2020-03-31 19:16:19,363 - INFO - EPOCH 2 - PROGRESS: at 7.49% examples, 982403 words/s, in_qsize 7, out_qsize 0\n",
      "2020-03-31 19:16:20,381 - INFO - EPOCH 2 - PROGRESS: at 14.53% examples, 939917 words/s, in_qsize 7, out_qsize 0\n",
      "2020-03-31 19:16:21,389 - INFO - EPOCH 2 - PROGRESS: at 22.24% examples, 900035 words/s, in_qsize 7, out_qsize 0\n",
      "2020-03-31 19:16:22,394 - INFO - EPOCH 2 - PROGRESS: at 29.94% examples, 874987 words/s, in_qsize 7, out_qsize 0\n",
      "2020-03-31 19:16:23,408 - INFO - EPOCH 2 - PROGRESS: at 37.88% examples, 859653 words/s, in_qsize 8, out_qsize 0\n",
      "2020-03-31 19:16:24,410 - INFO - EPOCH 2 - PROGRESS: at 45.30% examples, 849629 words/s, in_qsize 6, out_qsize 1\n",
      "2020-03-31 19:16:25,415 - INFO - EPOCH 2 - PROGRESS: at 52.09% examples, 839979 words/s, in_qsize 7, out_qsize 0\n",
      "2020-03-31 19:16:26,432 - INFO - EPOCH 2 - PROGRESS: at 59.38% examples, 839013 words/s, in_qsize 7, out_qsize 0\n",
      "2020-03-31 19:16:27,435 - INFO - EPOCH 2 - PROGRESS: at 66.76% examples, 840314 words/s, in_qsize 7, out_qsize 0\n",
      "2020-03-31 19:16:28,436 - INFO - EPOCH 2 - PROGRESS: at 74.49% examples, 839119 words/s, in_qsize 7, out_qsize 0\n",
      "2020-03-31 19:16:29,455 - INFO - EPOCH 2 - PROGRESS: at 82.12% examples, 838636 words/s, in_qsize 7, out_qsize 0\n",
      "2020-03-31 19:16:30,458 - INFO - EPOCH 2 - PROGRESS: at 89.78% examples, 834576 words/s, in_qsize 8, out_qsize 0\n",
      "2020-03-31 19:16:31,464 - INFO - EPOCH 2 - PROGRESS: at 97.24% examples, 832407 words/s, in_qsize 7, out_qsize 0\n",
      "2020-03-31 19:16:31,833 - INFO - worker thread finished; awaiting finish of 3 more threads\n",
      "2020-03-31 19:16:31,842 - INFO - worker thread finished; awaiting finish of 2 more threads\n",
      "2020-03-31 19:16:31,852 - INFO - worker thread finished; awaiting finish of 1 more threads\n",
      "2020-03-31 19:16:31,863 - INFO - worker thread finished; awaiting finish of 0 more threads\n",
      "2020-03-31 19:16:31,864 - INFO - EPOCH - 2 : training on 12652090 raw words (12079134 effective words) took 14.5s, 832006 effective words/s\n",
      "2020-03-31 19:16:32,880 - INFO - EPOCH 3 - PROGRESS: at 3.58% examples, 924620 words/s, in_qsize 7, out_qsize 0\n",
      "2020-03-31 19:16:33,897 - INFO - EPOCH 3 - PROGRESS: at 7.22% examples, 938742 words/s, in_qsize 7, out_qsize 0\n",
      "2020-03-31 19:16:34,905 - INFO - EPOCH 3 - PROGRESS: at 13.76% examples, 917114 words/s, in_qsize 8, out_qsize 0\n",
      "2020-03-31 19:16:35,913 - INFO - EPOCH 3 - PROGRESS: at 21.42% examples, 880415 words/s, in_qsize 8, out_qsize 0\n",
      "2020-03-31 19:16:36,920 - INFO - EPOCH 3 - PROGRESS: at 29.70% examples, 864451 words/s, in_qsize 8, out_qsize 0\n",
      "2020-03-31 19:16:37,932 - INFO - EPOCH 3 - PROGRESS: at 37.88% examples, 858987 words/s, in_qsize 7, out_qsize 0\n",
      "2020-03-31 19:16:38,961 - INFO - EPOCH 3 - PROGRESS: at 45.44% examples, 848454 words/s, in_qsize 7, out_qsize 0\n",
      "2020-03-31 19:16:39,986 - INFO - EPOCH 3 - PROGRESS: at 52.70% examples, 842459 words/s, in_qsize 7, out_qsize 0\n",
      "2020-03-31 19:16:41,000 - INFO - EPOCH 3 - PROGRESS: at 59.86% examples, 840627 words/s, in_qsize 7, out_qsize 0\n",
      "2020-03-31 19:16:42,010 - INFO - EPOCH 3 - PROGRESS: at 67.07% examples, 839309 words/s, in_qsize 7, out_qsize 0\n",
      "2020-03-31 19:16:43,011 - INFO - EPOCH 3 - PROGRESS: at 74.87% examples, 839191 words/s, in_qsize 8, out_qsize 0\n",
      "2020-03-31 19:16:44,019 - INFO - EPOCH 3 - PROGRESS: at 82.19% examples, 836248 words/s, in_qsize 7, out_qsize 0\n",
      "2020-03-31 19:16:45,025 - INFO - EPOCH 3 - PROGRESS: at 89.75% examples, 831464 words/s, in_qsize 7, out_qsize 0\n",
      "2020-03-31 19:16:46,026 - INFO - EPOCH 3 - PROGRESS: at 97.39% examples, 831238 words/s, in_qsize 7, out_qsize 0\n",
      "2020-03-31 19:16:46,337 - INFO - worker thread finished; awaiting finish of 3 more threads\n",
      "2020-03-31 19:16:46,344 - INFO - worker thread finished; awaiting finish of 2 more threads\n",
      "2020-03-31 19:16:46,358 - INFO - worker thread finished; awaiting finish of 1 more threads\n",
      "2020-03-31 19:16:46,367 - INFO - worker thread finished; awaiting finish of 0 more threads\n",
      "2020-03-31 19:16:46,367 - INFO - EPOCH - 3 : training on 12652090 raw words (12078593 effective words) took 14.5s, 832902 effective words/s\n",
      "2020-03-31 19:16:47,374 - INFO - EPOCH 4 - PROGRESS: at 3.54% examples, 925042 words/s, in_qsize 8, out_qsize 0\n",
      "2020-03-31 19:16:48,379 - INFO - EPOCH 4 - PROGRESS: at 7.16% examples, 940045 words/s, in_qsize 7, out_qsize 0\n",
      "2020-03-31 19:16:49,393 - INFO - EPOCH 4 - PROGRESS: at 13.12% examples, 897876 words/s, in_qsize 7, out_qsize 0\n",
      "2020-03-31 19:16:50,408 - INFO - EPOCH 4 - PROGRESS: at 21.20% examples, 875673 words/s, in_qsize 7, out_qsize 0\n",
      "2020-03-31 19:16:51,417 - INFO - EPOCH 4 - PROGRESS: at 29.57% examples, 862031 words/s, in_qsize 7, out_qsize 0\n",
      "2020-03-31 19:16:52,423 - INFO - EPOCH 4 - PROGRESS: at 37.11% examples, 846985 words/s, in_qsize 7, out_qsize 0\n",
      "2020-03-31 19:16:53,440 - INFO - EPOCH 4 - PROGRESS: at 44.79% examples, 840827 words/s, in_qsize 7, out_qsize 0\n",
      "2020-03-31 19:16:54,441 - INFO - EPOCH 4 - PROGRESS: at 52.23% examples, 840814 words/s, in_qsize 7, out_qsize 0\n",
      "2020-03-31 19:16:55,442 - INFO - EPOCH 4 - PROGRESS: at 59.13% examples, 838233 words/s, in_qsize 7, out_qsize 0\n",
      "2020-03-31 19:16:56,447 - INFO - EPOCH 4 - PROGRESS: at 65.82% examples, 830198 words/s, in_qsize 7, out_qsize 0\n",
      "2020-03-31 19:16:57,452 - INFO - EPOCH 4 - PROGRESS: at 73.30% examples, 828181 words/s, in_qsize 7, out_qsize 0\n",
      "2020-03-31 19:16:58,464 - INFO - EPOCH 4 - PROGRESS: at 80.67% examples, 826579 words/s, in_qsize 7, out_qsize 0\n",
      "2020-03-31 19:16:59,488 - INFO - EPOCH 4 - PROGRESS: at 88.52% examples, 824999 words/s, in_qsize 7, out_qsize 0\n",
      "2020-03-31 19:17:00,492 - INFO - EPOCH 4 - PROGRESS: at 96.31% examples, 825594 words/s, in_qsize 7, out_qsize 0\n",
      "2020-03-31 19:17:00,939 - INFO - worker thread finished; awaiting finish of 3 more threads\n",
      "2020-03-31 19:17:00,947 - INFO - worker thread finished; awaiting finish of 2 more threads\n",
      "2020-03-31 19:17:00,964 - INFO - worker thread finished; awaiting finish of 1 more threads\n",
      "2020-03-31 19:17:00,969 - INFO - worker thread finished; awaiting finish of 0 more threads\n",
      "2020-03-31 19:17:00,969 - INFO - EPOCH - 4 : training on 12652090 raw words (12078822 effective words) took 14.6s, 827300 effective words/s\n",
      "2020-03-31 19:17:01,976 - INFO - EPOCH 5 - PROGRESS: at 3.81% examples, 992579 words/s, in_qsize 7, out_qsize 0\n",
      "2020-03-31 19:17:02,982 - INFO - EPOCH 5 - PROGRESS: at 7.49% examples, 986077 words/s, in_qsize 8, out_qsize 0\n",
      "2020-03-31 19:17:03,993 - INFO - EPOCH 5 - PROGRESS: at 14.21% examples, 934850 words/s, in_qsize 7, out_qsize 0\n",
      "2020-03-31 19:17:04,995 - INFO - EPOCH 5 - PROGRESS: at 22.24% examples, 904268 words/s, in_qsize 7, out_qsize 0\n",
      "2020-03-31 19:17:06,000 - INFO - EPOCH 5 - PROGRESS: at 30.30% examples, 885828 words/s, in_qsize 6, out_qsize 1\n",
      "2020-03-31 19:17:07,009 - INFO - EPOCH 5 - PROGRESS: at 38.54% examples, 873931 words/s, in_qsize 8, out_qsize 0\n",
      "2020-03-31 19:17:08,025 - INFO - EPOCH 5 - PROGRESS: at 45.95% examples, 864210 words/s, in_qsize 7, out_qsize 0\n",
      "2020-03-31 19:17:09,029 - INFO - EPOCH 5 - PROGRESS: at 53.62% examples, 860621 words/s, in_qsize 8, out_qsize 0\n",
      "2020-03-31 19:17:10,036 - INFO - EPOCH 5 - PROGRESS: at 60.78% examples, 856322 words/s, in_qsize 7, out_qsize 0\n",
      "2020-03-31 19:17:11,037 - INFO - EPOCH 5 - PROGRESS: at 68.05% examples, 855149 words/s, in_qsize 7, out_qsize 0\n",
      "2020-03-31 19:17:12,048 - INFO - EPOCH 5 - PROGRESS: at 75.73% examples, 852772 words/s, in_qsize 7, out_qsize 0\n",
      "2020-03-31 19:17:13,070 - INFO - EPOCH 5 - PROGRESS: at 83.44% examples, 851552 words/s, in_qsize 7, out_qsize 0\n",
      "2020-03-31 19:17:14,092 - INFO - EPOCH 5 - PROGRESS: at 91.37% examples, 848339 words/s, in_qsize 7, out_qsize 0\n",
      "2020-03-31 19:17:15,093 - INFO - EPOCH 5 - PROGRESS: at 99.20% examples, 848572 words/s, in_qsize 7, out_qsize 0\n",
      "2020-03-31 19:17:15,178 - INFO - worker thread finished; awaiting finish of 3 more threads\n",
      "2020-03-31 19:17:15,184 - INFO - worker thread finished; awaiting finish of 2 more threads\n",
      "2020-03-31 19:17:15,195 - INFO - worker thread finished; awaiting finish of 1 more threads\n",
      "2020-03-31 19:17:15,208 - INFO - worker thread finished; awaiting finish of 0 more threads\n",
      "2020-03-31 19:17:15,209 - INFO - EPOCH - 5 : training on 12652090 raw words (12077777 effective words) took 14.2s, 848376 effective words/s\n",
      "2020-03-31 19:17:16,218 - INFO - EPOCH 6 - PROGRESS: at 3.78% examples, 979966 words/s, in_qsize 7, out_qsize 0\n",
      "2020-03-31 19:17:17,228 - INFO - EPOCH 6 - PROGRESS: at 7.45% examples, 977391 words/s, in_qsize 7, out_qsize 0\n",
      "2020-03-31 19:17:18,237 - INFO - EPOCH 6 - PROGRESS: at 14.21% examples, 933362 words/s, in_qsize 7, out_qsize 0\n",
      "2020-03-31 19:17:19,238 - INFO - EPOCH 6 - PROGRESS: at 22.54% examples, 910411 words/s, in_qsize 7, out_qsize 0\n",
      "2020-03-31 19:17:20,245 - INFO - EPOCH 6 - PROGRESS: at 30.60% examples, 891794 words/s, in_qsize 7, out_qsize 0\n",
      "2020-03-31 19:17:21,251 - INFO - EPOCH 6 - PROGRESS: at 39.01% examples, 882848 words/s, in_qsize 7, out_qsize 0\n",
      "2020-03-31 19:17:22,256 - INFO - EPOCH 6 - PROGRESS: at 46.73% examples, 875603 words/s, in_qsize 8, out_qsize 0\n",
      "2020-03-31 19:17:23,257 - INFO - EPOCH 6 - PROGRESS: at 54.28% examples, 872260 words/s, in_qsize 7, out_qsize 0\n",
      "2020-03-31 19:17:24,259 - INFO - EPOCH 6 - PROGRESS: at 61.34% examples, 867089 words/s, in_qsize 8, out_qsize 0\n",
      "2020-03-31 19:17:25,268 - INFO - EPOCH 6 - PROGRESS: at 68.70% examples, 862205 words/s, in_qsize 7, out_qsize 0\n",
      "2020-03-31 19:17:26,273 - INFO - EPOCH 6 - PROGRESS: at 76.10% examples, 858009 words/s, in_qsize 6, out_qsize 1\n",
      "2020-03-31 19:17:27,274 - INFO - EPOCH 6 - PROGRESS: at 83.51% examples, 854782 words/s, in_qsize 7, out_qsize 0\n",
      "2020-03-31 19:17:28,278 - INFO - EPOCH 6 - PROGRESS: at 91.45% examples, 852358 words/s, in_qsize 7, out_qsize 0\n",
      "2020-03-31 19:17:29,289 - INFO - EPOCH 6 - PROGRESS: at 99.00% examples, 849218 words/s, in_qsize 7, out_qsize 0\n",
      "2020-03-31 19:17:29,382 - INFO - worker thread finished; awaiting finish of 3 more threads\n",
      "2020-03-31 19:17:29,386 - INFO - worker thread finished; awaiting finish of 2 more threads\n",
      "2020-03-31 19:17:29,405 - INFO - worker thread finished; awaiting finish of 1 more threads\n",
      "2020-03-31 19:17:29,409 - INFO - worker thread finished; awaiting finish of 0 more threads\n",
      "2020-03-31 19:17:29,409 - INFO - EPOCH - 6 : training on 12652090 raw words (12078231 effective words) took 14.2s, 850603 effective words/s\n",
      "2020-03-31 19:17:30,418 - INFO - EPOCH 7 - PROGRESS: at 3.81% examples, 990788 words/s, in_qsize 7, out_qsize 0\n",
      "2020-03-31 19:17:31,421 - INFO - EPOCH 7 - PROGRESS: at 7.40% examples, 976564 words/s, in_qsize 7, out_qsize 0\n",
      "2020-03-31 19:17:32,426 - INFO - EPOCH 7 - PROGRESS: at 14.21% examples, 937124 words/s, in_qsize 7, out_qsize 0\n",
      "2020-03-31 19:17:33,426 - INFO - EPOCH 7 - PROGRESS: at 22.54% examples, 913283 words/s, in_qsize 7, out_qsize 0\n",
      "2020-03-31 19:17:34,427 - INFO - EPOCH 7 - PROGRESS: at 30.71% examples, 897033 words/s, in_qsize 7, out_qsize 0\n",
      "2020-03-31 19:17:35,431 - INFO - EPOCH 7 - PROGRESS: at 39.01% examples, 885991 words/s, in_qsize 7, out_qsize 0\n",
      "2020-03-31 19:17:36,435 - INFO - EPOCH 7 - PROGRESS: at 46.78% examples, 879581 words/s, in_qsize 7, out_qsize 0\n",
      "2020-03-31 19:17:37,445 - INFO - EPOCH 7 - PROGRESS: at 54.38% examples, 874877 words/s, in_qsize 7, out_qsize 0\n",
      "2020-03-31 19:17:38,450 - INFO - EPOCH 7 - PROGRESS: at 61.78% examples, 872048 words/s, in_qsize 7, out_qsize 0\n",
      "2020-03-31 19:17:39,461 - INFO - EPOCH 7 - PROGRESS: at 69.36% examples, 870355 words/s, in_qsize 7, out_qsize 0\n",
      "2020-03-31 19:17:40,462 - INFO - EPOCH 7 - PROGRESS: at 77.16% examples, 869269 words/s, in_qsize 7, out_qsize 0\n",
      "2020-03-31 19:17:41,468 - INFO - EPOCH 7 - PROGRESS: at 84.94% examples, 866762 words/s, in_qsize 7, out_qsize 0\n",
      "2020-03-31 19:17:42,475 - INFO - EPOCH 7 - PROGRESS: at 92.81% examples, 864894 words/s, in_qsize 7, out_qsize 0\n",
      "2020-03-31 19:17:43,352 - INFO - worker thread finished; awaiting finish of 3 more threads\n",
      "2020-03-31 19:17:43,357 - INFO - worker thread finished; awaiting finish of 2 more threads\n",
      "2020-03-31 19:17:43,371 - INFO - worker thread finished; awaiting finish of 1 more threads\n",
      "2020-03-31 19:17:43,379 - INFO - worker thread finished; awaiting finish of 0 more threads\n",
      "2020-03-31 19:17:43,380 - INFO - EPOCH - 7 : training on 12652090 raw words (12078749 effective words) took 14.0s, 864737 effective words/s\n",
      "2020-03-31 19:17:44,394 - INFO - EPOCH 8 - PROGRESS: at 3.81% examples, 984263 words/s, in_qsize 7, out_qsize 0\n",
      "2020-03-31 19:17:45,409 - INFO - EPOCH 8 - PROGRESS: at 7.66% examples, 996787 words/s, in_qsize 7, out_qsize 0\n",
      "2020-03-31 19:17:46,411 - INFO - EPOCH 8 - PROGRESS: at 14.90% examples, 950746 words/s, in_qsize 7, out_qsize 0\n",
      "2020-03-31 19:17:47,420 - INFO - EPOCH 8 - PROGRESS: at 22.99% examples, 919375 words/s, in_qsize 7, out_qsize 0\n",
      "2020-03-31 19:17:48,435 - INFO - EPOCH 8 - PROGRESS: at 31.30% examples, 900769 words/s, in_qsize 8, out_qsize 0\n",
      "2020-03-31 19:17:49,447 - INFO - EPOCH 8 - PROGRESS: at 39.47% examples, 889981 words/s, in_qsize 7, out_qsize 0\n",
      "2020-03-31 19:17:50,455 - INFO - EPOCH 8 - PROGRESS: at 47.25% examples, 882943 words/s, in_qsize 7, out_qsize 0\n",
      "2020-03-31 19:17:51,460 - INFO - EPOCH 8 - PROGRESS: at 54.85% examples, 877010 words/s, in_qsize 7, out_qsize 0\n",
      "2020-03-31 19:17:52,489 - INFO - EPOCH 8 - PROGRESS: at 62.32% examples, 872621 words/s, in_qsize 7, out_qsize 0\n",
      "2020-03-31 19:17:53,493 - INFO - EPOCH 8 - PROGRESS: at 70.03% examples, 870526 words/s, in_qsize 7, out_qsize 0\n",
      "2020-03-31 19:17:54,499 - INFO - EPOCH 8 - PROGRESS: at 77.50% examples, 867308 words/s, in_qsize 7, out_qsize 0\n",
      "2020-03-31 19:17:55,514 - INFO - EPOCH 8 - PROGRESS: at 85.20% examples, 864455 words/s, in_qsize 7, out_qsize 0\n",
      "2020-03-31 19:17:56,528 - INFO - EPOCH 8 - PROGRESS: at 92.96% examples, 860788 words/s, in_qsize 6, out_qsize 1\n",
      "2020-03-31 19:17:57,381 - INFO - worker thread finished; awaiting finish of 3 more threads\n",
      "2020-03-31 19:17:57,385 - INFO - worker thread finished; awaiting finish of 2 more threads\n",
      "2020-03-31 19:17:57,402 - INFO - worker thread finished; awaiting finish of 1 more threads\n",
      "2020-03-31 19:17:57,410 - INFO - worker thread finished; awaiting finish of 0 more threads\n",
      "2020-03-31 19:17:57,410 - INFO - EPOCH - 8 : training on 12652090 raw words (12078828 effective words) took 14.0s, 861023 effective words/s\n",
      "2020-03-31 19:17:58,413 - INFO - EPOCH 9 - PROGRESS: at 3.81% examples, 996041 words/s, in_qsize 7, out_qsize 0\n",
      "2020-03-31 19:17:59,418 - INFO - EPOCH 9 - PROGRESS: at 7.62% examples, 1002077 words/s, in_qsize 7, out_qsize 0\n",
      "2020-03-31 19:18:00,420 - INFO - EPOCH 9 - PROGRESS: at 14.67% examples, 951606 words/s, in_qsize 7, out_qsize 0\n",
      "2020-03-31 19:18:01,435 - INFO - EPOCH 9 - PROGRESS: at 22.90% examples, 920786 words/s, in_qsize 7, out_qsize 0\n",
      "2020-03-31 19:18:02,440 - INFO - EPOCH 9 - PROGRESS: at 31.24% examples, 903558 words/s, in_qsize 7, out_qsize 0\n",
      "2020-03-31 19:18:03,441 - INFO - EPOCH 9 - PROGRESS: at 39.31% examples, 890934 words/s, in_qsize 7, out_qsize 0\n",
      "2020-03-31 19:18:04,444 - INFO - EPOCH 9 - PROGRESS: at 46.98% examples, 882738 words/s, in_qsize 7, out_qsize 0\n",
      "2020-03-31 19:18:05,445 - INFO - EPOCH 9 - PROGRESS: at 54.55% examples, 878556 words/s, in_qsize 7, out_qsize 0\n",
      "2020-03-31 19:18:06,448 - INFO - EPOCH 9 - PROGRESS: at 61.95% examples, 874508 words/s, in_qsize 7, out_qsize 0\n",
      "2020-03-31 19:18:07,460 - INFO - EPOCH 9 - PROGRESS: at 69.36% examples, 870564 words/s, in_qsize 8, out_qsize 0\n",
      "2020-03-31 19:18:08,480 - INFO - EPOCH 9 - PROGRESS: at 77.20% examples, 868750 words/s, in_qsize 7, out_qsize 0\n",
      "2020-03-31 19:18:09,483 - INFO - EPOCH 9 - PROGRESS: at 84.04% examples, 859880 words/s, in_qsize 7, out_qsize 0\n",
      "2020-03-31 19:18:10,485 - INFO - EPOCH 9 - PROGRESS: at 92.25% examples, 857825 words/s, in_qsize 8, out_qsize 0\n",
      "2020-03-31 19:18:11,470 - INFO - worker thread finished; awaiting finish of 3 more threads\n",
      "2020-03-31 19:18:11,473 - INFO - worker thread finished; awaiting finish of 2 more threads\n",
      "2020-03-31 19:18:11,488 - INFO - EPOCH 9 - PROGRESS: at 99.85% examples, 857546 words/s, in_qsize 1, out_qsize 1\n",
      "2020-03-31 19:18:11,489 - INFO - worker thread finished; awaiting finish of 1 more threads\n",
      "2020-03-31 19:18:11,497 - INFO - worker thread finished; awaiting finish of 0 more threads\n",
      "2020-03-31 19:18:11,498 - INFO - EPOCH - 9 : training on 12652090 raw words (12079565 effective words) took 14.1s, 857588 effective words/s\n",
      "2020-03-31 19:18:12,504 - INFO - EPOCH 10 - PROGRESS: at 3.82% examples, 992360 words/s, in_qsize 7, out_qsize 0\n",
      "2020-03-31 19:18:13,505 - INFO - EPOCH 10 - PROGRESS: at 7.62% examples, 1001974 words/s, in_qsize 7, out_qsize 0\n",
      "2020-03-31 19:18:14,509 - INFO - EPOCH 10 - PROGRESS: at 14.90% examples, 957158 words/s, in_qsize 8, out_qsize 0\n",
      "2020-03-31 19:18:15,513 - INFO - EPOCH 10 - PROGRESS: at 22.99% examples, 925302 words/s, in_qsize 8, out_qsize 0\n",
      "2020-03-31 19:18:16,515 - INFO - EPOCH 10 - PROGRESS: at 31.30% examples, 907616 words/s, in_qsize 7, out_qsize 0\n",
      "2020-03-31 19:18:17,528 - INFO - EPOCH 10 - PROGRESS: at 39.47% examples, 895353 words/s, in_qsize 7, out_qsize 0\n",
      "2020-03-31 19:18:18,532 - INFO - EPOCH 10 - PROGRESS: at 47.25% examples, 888008 words/s, in_qsize 7, out_qsize 0\n",
      "2020-03-31 19:18:19,534 - INFO - EPOCH 10 - PROGRESS: at 54.74% examples, 880654 words/s, in_qsize 7, out_qsize 0\n",
      "2020-03-31 19:18:20,539 - INFO - EPOCH 10 - PROGRESS: at 62.26% examples, 878132 words/s, in_qsize 7, out_qsize 0\n",
      "2020-03-31 19:18:21,551 - INFO - EPOCH 10 - PROGRESS: at 69.92% examples, 873811 words/s, in_qsize 8, out_qsize 0\n",
      "2020-03-31 19:18:22,558 - INFO - EPOCH 10 - PROGRESS: at 77.34% examples, 871155 words/s, in_qsize 8, out_qsize 0\n",
      "2020-03-31 19:18:23,561 - INFO - EPOCH 10 - PROGRESS: at 85.04% examples, 868025 words/s, in_qsize 7, out_qsize 0\n",
      "2020-03-31 19:18:24,581 - INFO - EPOCH 10 - PROGRESS: at 93.03% examples, 865101 words/s, in_qsize 7, out_qsize 0\n",
      "2020-03-31 19:18:25,434 - INFO - worker thread finished; awaiting finish of 3 more threads\n",
      "2020-03-31 19:18:25,442 - INFO - worker thread finished; awaiting finish of 2 more threads\n",
      "2020-03-31 19:18:25,459 - INFO - worker thread finished; awaiting finish of 1 more threads\n",
      "2020-03-31 19:18:25,464 - INFO - worker thread finished; awaiting finish of 0 more threads\n",
      "2020-03-31 19:18:25,465 - INFO - EPOCH - 10 : training on 12652090 raw words (12079004 effective words) took 14.0s, 864935 effective words/s\n",
      "2020-03-31 19:18:25,465 - INFO - training on a 126520900 raw words (120788535 effective words) took 142.5s, 847418 effective words/s\n",
      "2020-03-31 19:18:25,465 - INFO - saving Doc2Vec object under doc2vec_model, separately None\n",
      "2020-03-31 19:18:25,466 - INFO - storing np array 'syn1neg' to doc2vec_model.trainables.syn1neg.npy\n",
      "2020-03-31 19:18:25,675 - INFO - storing np array 'vectors' to doc2vec_model.wv.vectors.npy\n",
      "2020-03-31 19:18:25,875 - INFO - storing np array 'vectors_docs' to doc2vec_model.docvecs.vectors_docs.npy\n",
      "2020-03-31 19:18:26,329 - INFO - saved doc2vec_model\n"
     ]
    }
   ],
   "source": [
    "# doc2vec训练模型函数\n",
    "def doc2vec_train(infile, size, window, min_count):\n",
    "    '''train the doc vectors by doc2vec'''\n",
    "    data = TaggedLineDocument(infile)\n",
    "    model = doc2vec.Doc2Vec(data, vector_size = size, window = window, min_count = min_count, sample=1e-3, negative=5, workers=4)\n",
    "    model.train(data, total_examples=model.corpus_count, epochs=10)\n",
    "    # 保存模型\n",
    "    model.save('doc2vec_model')\n",
    "    return model\n",
    "       \n",
    "if __name__ == '__main__':\n",
    "    # logging.basicConfig函数中，可以指定日志的输出格式format，这个参数可以输出很多有用的信息\n",
    "    # %(asctime)s: 打印日志的时间     %(levelname)s: 打印日志级别名称      %(message)s: 打印日志信息\n",
    "    logging.basicConfig(level = logging.INFO, format = '%(asctime)s - %(levelname)s - %(message)s')\n",
    "    # logging.getLogger(name)方法进行初始化，name可以不填。通常logger的名字我们对应模块名\n",
    "    logger = logging.getLogger()  # logging.getLogger(logger_name)\n",
    "    # logger.info打印程序运行是的正常的信息，用于替代print输出\n",
    "    logger.info('running')    \n",
    "    # 运行程序主函数\n",
    "    doc2vec_train(infile = 'new_X_d2v.txt',size = 200, window = 3, min_count = 1)"
   ]
  },
  {
   "cell_type": "code",
   "execution_count": 19,
   "metadata": {},
   "outputs": [],
   "source": [
    "# 加载保存的模型文件\n",
    "doc2vec_model = Doc2Vec.load('doc2vec_model')"
   ]
  },
  {
   "cell_type": "markdown",
   "metadata": {},
   "source": [
    "### 划分数据集"
   ]
  },
  {
   "cell_type": "code",
   "execution_count": 20,
   "metadata": {},
   "outputs": [],
   "source": [
    "# 划分数据集8:2，由于数据集不均衡，所以使用stratify=y_c，让划分的数据集比例保持原来的数据分布\n",
    "X_train_vec, X_test_vec ,y_train_vec, y_test_vec = train_test_split(new_X_d2v['content'], y_c,test_size = 0.2,random_state = 1,stratify=y_c)"
   ]
  },
  {
   "cell_type": "code",
   "execution_count": 21,
   "metadata": {},
   "outputs": [
    {
     "name": "stdout",
     "output_type": "stream",
     "text": [
      "Wall time: 3min 37s\n"
     ]
    }
   ],
   "source": [
    "%%time\n",
    "# 把训练集转成向量\n",
    "X_train_vectors = [doc2vec_model.infer_vector(x.split(' ')) for x in X_train_vec]"
   ]
  },
  {
   "cell_type": "code",
   "execution_count": 22,
   "metadata": {},
   "outputs": [],
   "source": [
    "X_train_vectors = np.array(X_train_vectors)"
   ]
  },
  {
   "cell_type": "code",
   "execution_count": 23,
   "metadata": {},
   "outputs": [
    {
     "name": "stdout",
     "output_type": "stream",
     "text": [
      "Wall time: 54.4 s\n"
     ]
    }
   ],
   "source": [
    "%%time\n",
    "# 把测试集转成向量\n",
    "X_test_vectors = [doc2vec_model.infer_vector(x.split(' ')) for x in X_test_vec]"
   ]
  },
  {
   "cell_type": "code",
   "execution_count": 24,
   "metadata": {},
   "outputs": [],
   "source": [
    "X_test_vectors = np.array(X_test_vectors)"
   ]
  },
  {
   "cell_type": "markdown",
   "metadata": {},
   "source": [
    "### 支持向量机SVM（默认参数）"
   ]
  },
  {
   "cell_type": "code",
   "execution_count": 58,
   "metadata": {},
   "outputs": [
    {
     "name": "stderr",
     "output_type": "stream",
     "text": [
      "D:\\Users\\Jerry\\anaconda3\\lib\\site-packages\\sklearn\\svm\\_base.py:947: ConvergenceWarning: Liblinear failed to converge, increase the number of iterations.\n",
      "  \"the number of iterations.\", ConvergenceWarning)\n"
     ]
    },
    {
     "data": {
      "text/plain": [
       "LinearSVC(C=1.0, class_weight=None, dual=True, fit_intercept=True,\n",
       "          intercept_scaling=1, loss='squared_hinge', max_iter=1000,\n",
       "          multi_class='ovr', penalty='l2', random_state=None, tol=0.0001,\n",
       "          verbose=0)"
      ]
     },
     "execution_count": 58,
     "metadata": {},
     "output_type": "execute_result"
    }
   ],
   "source": [
    "lsvc_vec = LinearSVC()\n",
    "lsvc_vec.fit(X_train_vectors, y_train_vec)"
   ]
  },
  {
   "cell_type": "code",
   "execution_count": 59,
   "metadata": {},
   "outputs": [],
   "source": [
    "lsvc_vec_y_pred = lsvc_vec.predict(X_test_vectors)\n",
    "lsvc_vec_y_prod = lsvc_vec.decision_function(X_test_vectors)"
   ]
  },
  {
   "cell_type": "code",
   "execution_count": 60,
   "metadata": {},
   "outputs": [
    {
     "name": "stdout",
     "output_type": "stream",
     "text": [
      "精度:0.894\n",
      "召回:0.904\n",
      "f1-score:0.883\n",
      "AUC:0.863\n"
     ]
    }
   ],
   "source": [
    "lsvc_vec_ms = metrics_result(y_test_vec, lsvc_vec_y_pred, lsvc_vec_y_prod)"
   ]
  },
  {
   "cell_type": "code",
   "execution_count": 61,
   "metadata": {},
   "outputs": [
    {
     "data": {
      "image/png": "[encoded data removed]",
      "text/plain": [
       "<Figure size 720x432 with 1 Axes>"
      ]
     },
     "metadata": {
      "needs_background": "light"
     },
     "output_type": "display_data"
    }
   ],
   "source": [
    "lsvc_vec_fpr, lsvc_vec_tpr = roc_curve_plot(y_test_vec,lsvc_vec_y_prod)"
   ]
  },
  {
   "cell_type": "markdown",
   "metadata": {},
   "source": [
    "### 随机森林RandomForestClassifier（默认参数）"
   ]
  },
  {
   "cell_type": "code",
   "execution_count": 62,
   "metadata": {},
   "outputs": [
    {
     "data": {
      "text/plain": [
       "RandomForestClassifier(bootstrap=True, ccp_alpha=0.0, class_weight=None,\n",
       "                       criterion='gini', max_depth=None, max_features='auto',\n",
       "                       max_leaf_nodes=None, max_samples=None,\n",
       "                       min_impurity_decrease=0.0, min_impurity_split=None,\n",
       "                       min_samples_leaf=1, min_samples_split=2,\n",
       "                       min_weight_fraction_leaf=0.0, n_estimators=100, n_jobs=4,\n",
       "                       oob_score=False, random_state=0, verbose=0,\n",
       "                       warm_start=False)"
      ]
     },
     "execution_count": 62,
     "metadata": {},
     "output_type": "execute_result"
    }
   ],
   "source": [
    "rfc_vec = RandomForestClassifier(n_jobs=4,random_state=0)\n",
    "rfc_vec.fit(X_train_vectors, y_train_vec)"
   ]
  },
  {
   "cell_type": "code",
   "execution_count": 63,
   "metadata": {
    "scrolled": true
   },
   "outputs": [],
   "source": [
    "rfc_vec_y_pred = rfc_vec.predict(X_test_vectors)\n",
    "rfc_vec_y_prob = rfc_vec.predict_proba(X_test_vectors)[:,1]"
   ]
  },
  {
   "cell_type": "code",
   "execution_count": 64,
   "metadata": {},
   "outputs": [
    {
     "name": "stdout",
     "output_type": "stream",
     "text": [
      "精度:0.930\n",
      "召回:0.930\n",
      "f1-score:0.920\n",
      "AUC:0.943\n"
     ]
    }
   ],
   "source": [
    "rfc_vec_ms = metrics_result(y_test_vec, rfc_vec_y_pred, rfc_vec_y_prob)"
   ]
  },
  {
   "cell_type": "code",
   "execution_count": 65,
   "metadata": {},
   "outputs": [
    {
     "data": {
      "image/png": "[encoded data removed]",
      "text/plain": [
       "<Figure size 720x432 with 1 Axes>"
      ]
     },
     "metadata": {
      "needs_background": "light"
     },
     "output_type": "display_data"
    }
   ],
   "source": [
    "rfc_vec_fpr, rfc_vec_tpr = roc_curve_plot(y_test_vec, rfc_vec_y_prob)"
   ]
  },
  {
   "cell_type": "markdown",
   "metadata": {},
   "source": [
    "### XGBOOST , sklearn接口，使用默认参数"
   ]
  },
  {
   "cell_type": "code",
   "execution_count": 66,
   "metadata": {},
   "outputs": [],
   "source": [
    "xgb_vec = XGBClassifier(n_estimatores=2000)"
   ]
  },
  {
   "cell_type": "code",
   "execution_count": 67,
   "metadata": {},
   "outputs": [
    {
     "name": "stdout",
     "output_type": "stream",
     "text": [
      "[0]\tvalidation_0-auc:0.89645\tvalidation_1-auc:0.88630\n",
      "Multiple eval metrics have been passed: 'validation_1-auc' will be used for early stopping.\n",
      "\n",
      "Will train until validation_1-auc hasn't improved in 100 rounds.\n",
      "[99]\tvalidation_0-auc:0.99951\tvalidation_1-auc:0.96878\n"
     ]
    },
    {
     "data": {
      "text/plain": [
       "0.9440941806617196"
      ]
     },
     "execution_count": 67,
     "metadata": {},
     "output_type": "execute_result"
    }
   ],
   "source": [
    "xgb_vec.fit(X_train_vectors, \n",
    "            y_train_vec,\n",
    "            eval_metric='auc',\n",
    "            early_stopping_rounds=100,\n",
    "            eval_set=[(X_train_vectors, y_train_vec),(X_test_vectors, y_test_vec)],\n",
    "            verbose=100)\n",
    "xgb_vec.score(X_test_vectors, y_test_vec)"
   ]
  },
  {
   "cell_type": "code",
   "execution_count": 68,
   "metadata": {},
   "outputs": [],
   "source": [
    "xgb_vec_y_pred = xgb_vec.predict(X_test_vectors)"
   ]
  },
  {
   "cell_type": "code",
   "execution_count": 69,
   "metadata": {},
   "outputs": [],
   "source": [
    "xgb_vec_y_prod = xgb_vec.predict_proba(X_test_vectors)[:,-1]"
   ]
  },
  {
   "cell_type": "code",
   "execution_count": 70,
   "metadata": {},
   "outputs": [
    {
     "name": "stdout",
     "output_type": "stream",
     "text": [
      "精度:0.941\n",
      "召回:0.944\n",
      "f1-score:0.941\n",
      "AUC:0.969\n"
     ]
    },
    {
     "data": {
      "text/plain": [
       "(0.9412433263393044,\n",
       " 0.9440941806617196,\n",
       " 0.9409146779030276,\n",
       " 0.9688318942211163)"
      ]
     },
     "execution_count": 70,
     "metadata": {},
     "output_type": "execute_result"
    }
   ],
   "source": [
    "metrics_result(y_test_vec, xgb_vec_y_pred, xgb_vec_y_prod)"
   ]
  },
  {
   "cell_type": "code",
   "execution_count": 71,
   "metadata": {
    "scrolled": false
   },
   "outputs": [
    {
     "data": {
      "image/png": "[encoded data removed]",
      "text/plain": [
       "<Figure size 720x432 with 1 Axes>"
      ]
     },
     "metadata": {
      "needs_background": "light"
     },
     "output_type": "display_data"
    }
   ],
   "source": [
    "xgb_vec_fpr, xgb_vec_tpr = roc_curve_plot(y_test_vec, xgb_vec_y_prod)"
   ]
  },
  {
   "cell_type": "markdown",
   "metadata": {},
   "source": [
    "### LightGBM , sklearn接口，使用默认参数"
   ]
  },
  {
   "cell_type": "code",
   "execution_count": 72,
   "metadata": {},
   "outputs": [],
   "source": [
    "lgb_vec = lgb.LGBMClassifier(n_estimators=2000,objective='binary')"
   ]
  },
  {
   "cell_type": "code",
   "execution_count": 73,
   "metadata": {},
   "outputs": [
    {
     "name": "stdout",
     "output_type": "stream",
     "text": [
      "Training until validation scores don't improve for 100 rounds\n",
      "[100]\ttraining's auc: 0.987647\ttraining's binary_logloss: 0.103406\tvalid_1's auc: 0.960554\tvalid_1's binary_logloss: 0.150552\n",
      "[200]\ttraining's auc: 0.99712\ttraining's binary_logloss: 0.0664036\tvalid_1's auc: 0.967512\tvalid_1's binary_logloss: 0.13716\n",
      "[300]\ttraining's auc: 0.999472\ttraining's binary_logloss: 0.0457303\tvalid_1's auc: 0.970153\tvalid_1's binary_logloss: 0.132358\n",
      "[400]\ttraining's auc: 0.999967\ttraining's binary_logloss: 0.0319544\tvalid_1's auc: 0.971729\tvalid_1's binary_logloss: 0.129916\n",
      "[500]\ttraining's auc: 0.999999\ttraining's binary_logloss: 0.022534\tvalid_1's auc: 0.972702\tvalid_1's binary_logloss: 0.129387\n",
      "Early stopping, best iteration is:\n",
      "[464]\ttraining's auc: 0.999996\ttraining's binary_logloss: 0.0257833\tvalid_1's auc: 0.972447\tvalid_1's binary_logloss: 0.129174\n"
     ]
    },
    {
     "data": {
      "text/plain": [
       "LGBMClassifier(boosting_type='gbdt', class_weight=None, colsample_bytree=1.0,\n",
       "               importance_type='split', learning_rate=0.1, max_depth=-1,\n",
       "               min_child_samples=20, min_child_weight=0.001, min_split_gain=0.0,\n",
       "               n_estimators=2000, n_jobs=-1, num_leaves=31, objective='binary',\n",
       "               random_state=None, reg_alpha=0.0, reg_lambda=0.0, silent=True,\n",
       "               subsample=1.0, subsample_for_bin=200000, subsample_freq=0)"
      ]
     },
     "execution_count": 73,
     "metadata": {},
     "output_type": "execute_result"
    }
   ],
   "source": [
    "lgb_vec.fit(X_train_vectors, \n",
    "            y_train_vec,\n",
    "            eval_metric='auc',\n",
    "            early_stopping_rounds=100,\n",
    "            eval_set=[(X_train_vectors, y_train_vec),(X_test_vectors, y_test_vec)],\n",
    "            verbose=100)"
   ]
  },
  {
   "cell_type": "code",
   "execution_count": 74,
   "metadata": {},
   "outputs": [],
   "source": [
    "lgb_vec_y_pred = lgb_vec.predict(X_test_vectors)\n",
    "lgb_vec_y_prob = lgb_vec.predict_proba(X_test_vectors)[:,1]"
   ]
  },
  {
   "cell_type": "code",
   "execution_count": 75,
   "metadata": {},
   "outputs": [
    {
     "name": "stdout",
     "output_type": "stream",
     "text": [
      "精度:0.945\n",
      "召回:0.948\n",
      "f1-score:0.944\n",
      "AUC:0.972\n"
     ]
    }
   ],
   "source": [
    "lgb_vec_ms = metrics_result(y_test_vec, lgb_vec_y_pred, lgb_vec_y_prob)"
   ]
  },
  {
   "cell_type": "code",
   "execution_count": 76,
   "metadata": {},
   "outputs": [
    {
     "data": {
      "image/png": "[encoded data removed]",
      "text/plain": [
       "<Figure size 720x432 with 1 Axes>"
      ]
     },
     "metadata": {
      "needs_background": "light"
     },
     "output_type": "display_data"
    }
   ],
   "source": [
    "lgb_vec_fpr, lgb_vec_tpr = roc_curve_plot(y_test_vec,lgb_vec_y_prob)"
   ]
  },
  {
   "cell_type": "markdown",
   "metadata": {},
   "source": [
    "### XGBOOST原生接口，使用贝叶斯调参"
   ]
  },
  {
   "cell_type": "code",
   "execution_count": 25,
   "metadata": {},
   "outputs": [],
   "source": [
    "# 把数据转成原生接口的数据形式\n",
    "dtrain = xgb.DMatrix(X_train_vectors, label=y_train_vec)\n",
    "dtest = xgb.DMatrix(X_test_vectors,label = y_test_vec)"
   ]
  },
  {
   "cell_type": "code",
   "execution_count": 32,
   "metadata": {},
   "outputs": [],
   "source": [
    "# 定义一个XGBOOST，为使用贝叶斯调参做准备\n",
    "def XGB_CV(max_depth,\n",
    "          gamma,\n",
    "          eta,\n",
    "          min_child_weight,\n",
    "          max_delta_step,\n",
    "          subsample,\n",
    "          colsample_bytree):\n",
    "    # 定义接收的参数\n",
    "    params = { 'booster' : 'gbtree',\n",
    "              'objective' : 'binary:logistic',\n",
    "              'nthread' : 4,\n",
    "              'silent' : True,\n",
    "              'eval_metric': 'auc',\n",
    "              'max_depth' : int(max_depth),\n",
    "              'gamma' : gamma,\n",
    "              'eta' : eta,              \n",
    "              'subsample' : max(min(subsample, 1), 0),\n",
    "              'colsample_bytree' : max(min(colsample_bytree, 1), 0),\n",
    "              'min_child_weight' : min_child_weight,\n",
    "              'max_delta_step' : int(max_delta_step),\n",
    "              'seed' : 1001}\n",
    "\n",
    "    # 在整个模型中使用了大约1000个助推轮\n",
    "    cv_result = xgb.cv(params, \n",
    "                       dtrain,                     \n",
    "                       num_boost_round = 20000,\n",
    "                       #stratified = True,\n",
    "                       nfold = 3,\n",
    "                       verbose_eval = 100,\n",
    "                       early_stopping_rounds = 50,\n",
    "                       metrics = 'auc',\n",
    "                       show_stdv = True,\n",
    "                       seed=0)    \n",
    "    \n",
    "    # 贝叶斯优化只知道如何最大化，而不是最小化，\n",
    "    return max(cv_result['test-auc-mean'])"
   ]
  },
  {
   "cell_type": "code",
   "execution_count": 33,
   "metadata": {},
   "outputs": [],
   "source": [
    "# 设定参数范围\n",
    "XGB_BO = BayesianOptimization(XGB_CV, {\n",
    "                                     'max_depth': (6, 12),\n",
    "                                     'gamma': (0.001, 10.0),\n",
    "                                     'eta': (0.04, 0.3),\n",
    "                                     'min_child_weight': (0, 20),\n",
    "                                     'max_delta_step': (0, 10),\n",
    "                                     'subsample': (0.4, 1.0),\n",
    "                                     'colsample_bytree' :(0.4, 1.0)\n",
    "                                    })"
   ]
  },
  {
   "cell_type": "markdown",
   "metadata": {},
   "source": [
    "### 由于调参时间过长，所以这里只调4次参数"
   ]
  },
  {
   "cell_type": "code",
   "execution_count": 34,
   "metadata": {},
   "outputs": [
    {
     "name": "stdout",
     "output_type": "stream",
     "text": [
      "|   iter    |  target   | colsam... |    eta    |   gamma   | max_de... | max_depth | min_ch... | subsample |\n",
      "-------------------------------------------------------------------------------------------------------------\n",
      "[0]\ttrain-auc:0.92357+0.00312\ttest-auc:0.89391+0.00264\n",
      "[100]\ttrain-auc:1.00000+0.00000\ttest-auc:0.96596+0.00057\n",
      "[200]\ttrain-auc:1.00000+0.00000\ttest-auc:0.96788+0.00073\n",
      "[300]\ttrain-auc:1.00000+0.00000\ttest-auc:0.96844+0.00066\n",
      "[400]\ttrain-auc:1.00000+0.00000\ttest-auc:0.96865+0.00063\n",
      "[500]\ttrain-auc:1.00000+0.00000\ttest-auc:0.96874+0.00060\n",
      "[600]\ttrain-auc:1.00000+0.00000\ttest-auc:0.96881+0.00068\n",
      "[700]\ttrain-auc:1.00000+0.00000\ttest-auc:0.96887+0.00064\n",
      "[800]\ttrain-auc:1.00000+0.00000\ttest-auc:0.96891+0.00060\n",
      "[900]\ttrain-auc:1.00000+0.00000\ttest-auc:0.96896+0.00057\n",
      "[1000]\ttrain-auc:1.00000+0.00000\ttest-auc:0.96903+0.00060\n",
      "| \u001b[0m 1       \u001b[0m | \u001b[0m 0.9691  \u001b[0m | \u001b[0m 0.7638  \u001b[0m | \u001b[0m 0.2166  \u001b[0m | \u001b[0m 1.748   \u001b[0m | \u001b[0m 7.189   \u001b[0m | \u001b[0m 11.64   \u001b[0m | \u001b[0m 6.942   \u001b[0m | \u001b[0m 0.7136  \u001b[0m |\n",
      "[0]\ttrain-auc:0.90760+0.00101\ttest-auc:0.88294+0.00453\n",
      "[100]\ttrain-auc:0.99966+0.00008\ttest-auc:0.96347+0.00135\n",
      "[200]\ttrain-auc:0.99982+0.00004\ttest-auc:0.96434+0.00112\n",
      "[300]\ttrain-auc:0.99986+0.00003\ttest-auc:0.96484+0.00108\n",
      "[400]\ttrain-auc:0.99990+0.00002\ttest-auc:0.96511+0.00112\n",
      "[500]\ttrain-auc:0.99991+0.00002\ttest-auc:0.96532+0.00110\n",
      "[600]\ttrain-auc:0.99992+0.00001\ttest-auc:0.96540+0.00102\n",
      "[700]\ttrain-auc:0.99993+0.00001\ttest-auc:0.96545+0.00106\n",
      "[800]\ttrain-auc:0.99994+0.00001\ttest-auc:0.96556+0.00100\n",
      "[900]\ttrain-auc:0.99994+0.00001\ttest-auc:0.96563+0.00094\n",
      "[1000]\ttrain-auc:0.99995+0.00001\ttest-auc:0.96570+0.00090\n",
      "| \u001b[0m 2       \u001b[0m | \u001b[0m 0.9657  \u001b[0m | \u001b[0m 0.4168  \u001b[0m | \u001b[0m 0.2598  \u001b[0m | \u001b[0m 4.537   \u001b[0m | \u001b[0m 4.618   \u001b[0m | \u001b[0m 8.275   \u001b[0m | \u001b[0m 1.458   \u001b[0m | \u001b[0m 0.9566  \u001b[0m |\n",
      "[0]\ttrain-auc:0.90241+0.00082\ttest-auc:0.88998+0.00119\n",
      "[100]\ttrain-auc:0.98608+0.00037\ttest-auc:0.95866+0.00164\n",
      "[200]\ttrain-auc:0.99389+0.00013\ttest-auc:0.96547+0.00080\n",
      "[300]\ttrain-auc:0.99569+0.00017\ttest-auc:0.96732+0.00061\n",
      "[400]\ttrain-auc:0.99653+0.00009\ttest-auc:0.96821+0.00055\n",
      "[500]\ttrain-auc:0.99701+0.00009\ttest-auc:0.96859+0.00051\n",
      "[600]\ttrain-auc:0.99727+0.00011\ttest-auc:0.96887+0.00050\n",
      "[700]\ttrain-auc:0.99745+0.00012\ttest-auc:0.96908+0.00040\n",
      "[800]\ttrain-auc:0.99765+0.00006\ttest-auc:0.96925+0.00031\n",
      "[900]\ttrain-auc:0.99779+0.00006\ttest-auc:0.96938+0.00025\n",
      "[1000]\ttrain-auc:0.99793+0.00009\ttest-auc:0.96948+0.00025\n",
      "[1100]\ttrain-auc:0.99803+0.00009\ttest-auc:0.96957+0.00023\n",
      "[1200]\ttrain-auc:0.99809+0.00009\ttest-auc:0.96967+0.00025\n",
      "[1300]\ttrain-auc:0.99820+0.00009\ttest-auc:0.96976+0.00028\n",
      "[1400]\ttrain-auc:0.99826+0.00006\ttest-auc:0.96984+0.00025\n",
      "[1500]\ttrain-auc:0.99829+0.00007\ttest-auc:0.96989+0.00025\n",
      "[1600]\ttrain-auc:0.99834+0.00006\ttest-auc:0.96992+0.00028\n",
      "[1700]\ttrain-auc:0.99842+0.00006\ttest-auc:0.97000+0.00030\n",
      "[1800]\ttrain-auc:0.99844+0.00006\ttest-auc:0.97004+0.00030\n",
      "[1900]\ttrain-auc:0.99849+0.00006\ttest-auc:0.97014+0.00031\n",
      "[2000]\ttrain-auc:0.99853+0.00005\ttest-auc:0.97018+0.00032\n",
      "[2100]\ttrain-auc:0.99854+0.00005\ttest-auc:0.97020+0.00032\n",
      "[2200]\ttrain-auc:0.99856+0.00003\ttest-auc:0.97023+0.00030\n",
      "| \u001b[95m 3       \u001b[0m | \u001b[95m 0.9702  \u001b[0m | \u001b[95m 0.8019  \u001b[0m | \u001b[95m 0.08223 \u001b[0m | \u001b[95m 9.172   \u001b[0m | \u001b[95m 0.02141 \u001b[0m | \u001b[95m 10.24   \u001b[0m | \u001b[95m 19.78   \u001b[0m | \u001b[95m 0.5801  \u001b[0m |\n",
      "[0]\ttrain-auc:0.88684+0.00565\ttest-auc:0.87798+0.00551\n",
      "[100]\ttrain-auc:0.97222+0.00063\ttest-auc:0.95059+0.00142\n",
      "[200]\ttrain-auc:0.98669+0.00036\ttest-auc:0.96148+0.00154\n",
      "[300]\ttrain-auc:0.99288+0.00021\ttest-auc:0.96625+0.00115\n",
      "[400]\ttrain-auc:0.99615+0.00031\ttest-auc:0.96881+0.00101\n",
      "[500]\ttrain-auc:0.99791+0.00018\ttest-auc:0.97044+0.00088\n",
      "[600]\ttrain-auc:0.99890+0.00013\ttest-auc:0.97164+0.00082\n",
      "[700]\ttrain-auc:0.99944+0.00007\ttest-auc:0.97225+0.00075\n",
      "[800]\ttrain-auc:0.99972+0.00006\ttest-auc:0.97280+0.00078\n",
      "[900]\ttrain-auc:0.99987+0.00003\ttest-auc:0.97316+0.00078\n",
      "[1000]\ttrain-auc:0.99994+0.00001\ttest-auc:0.97351+0.00085\n",
      "[1100]\ttrain-auc:0.99998+0.00001\ttest-auc:0.97377+0.00081\n",
      "[1200]\ttrain-auc:0.99999+0.00000\ttest-auc:0.97395+0.00076\n",
      "[1300]\ttrain-auc:1.00000+0.00000\ttest-auc:0.97412+0.00079\n",
      "[1400]\ttrain-auc:1.00000+0.00000\ttest-auc:0.97429+0.00075\n",
      "[1500]\ttrain-auc:1.00000+0.00000\ttest-auc:0.97437+0.00071\n",
      "[1600]\ttrain-auc:1.00000+0.00000\ttest-auc:0.97446+0.00071\n",
      "| \u001b[95m 4       \u001b[0m | \u001b[95m 0.9745  \u001b[0m | \u001b[95m 0.6188  \u001b[0m | \u001b[95m 0.04942 \u001b[0m | \u001b[95m 0.1113  \u001b[0m | \u001b[95m 9.848   \u001b[0m | \u001b[95m 7.35    \u001b[0m | \u001b[95m 19.28   \u001b[0m | \u001b[95m 0.4555  \u001b[0m |\n",
      "=============================================================================================================\n",
      "Wall time: 1h 31min 11s\n"
     ]
    }
   ],
   "source": [
    "%%time\n",
    "# init_points为随机尝试次数，n_iter为优化尝试次数，次数越多，调参时间越长\n",
    "with warnings.catch_warnings():\n",
    "    warnings.filterwarnings('ignore') # 忽视一些警告，当然可以注释掉\n",
    "    XGB_BO.maximize(init_points=2, n_iter=2, acq='ucb', xi=0.0,alpha=1e-6)"
   ]
  },
  {
   "cell_type": "code",
   "execution_count": 35,
   "metadata": {},
   "outputs": [
    {
     "data": {
      "text/plain": [
       "{'colsample_bytree': 0.6188214895961991,\n",
       " 'eta': 0.04941666755125003,\n",
       " 'gamma': 0.11127192776979741,\n",
       " 'max_delta_step': 9.848335430625735,\n",
       " 'max_depth': 7.349595691259216,\n",
       " 'min_child_weight': 19.282370863502962,\n",
       " 'subsample': 0.4554948522237676}"
      ]
     },
     "execution_count": 35,
     "metadata": {},
     "output_type": "execute_result"
    }
   ],
   "source": [
    "# 显示最好的参数，当然你也可以查看XGB_BO的所有参数\n",
    "XGB_BO.max['params']"
   ]
  },
  {
   "cell_type": "code",
   "execution_count": 36,
   "metadata": {},
   "outputs": [],
   "source": [
    "# 把上面调参过程得到的最好参数拿来用\n",
    "params = {\n",
    "    'booster': 'gbtree',\n",
    "    'objective' : 'binary:logistic',\n",
    "    'nthread' : 4,\n",
    "    'silent' : True,\n",
    "    'eval_metric':'auc',\n",
    "    'max_depth': int(XGB_BO.max['params']['max_depth']),\n",
    "    'gamma' : XGB_BO.max['params']['gamma'],\n",
    "    'gamma' : XGB_BO.max['params']['gamma'],\n",
    "    'eta' : XGB_BO.max['params']['eta'],    \n",
    "    'subsample' : XGB_BO.max['params']['subsample'],\n",
    "    'colsample_bytree': XGB_BO.max['params']['colsample_bytree'],\n",
    "    'min_child_weight' : XGB_BO.max['params']['min_child_weight'],\n",
    "    'max_delta_step' : int(XGB_BO.max['params']['max_delta_step']),\n",
    "    'verbose': 100,\n",
    "    'seed' : 0\n",
    "            }"
   ]
  },
  {
   "cell_type": "code",
   "execution_count": 37,
   "metadata": {},
   "outputs": [
    {
     "name": "stdout",
     "output_type": "stream",
     "text": [
      "[0]\ttrain-auc:0.89881\ttest-auc:0.89154\n",
      "Multiple eval metrics have been passed: 'test-auc' will be used for early stopping.\n",
      "\n",
      "Will train until test-auc hasn't improved in 100 rounds.\n",
      "[100]\ttrain-auc:0.97149\ttest-auc:0.95171\n",
      "[200]\ttrain-auc:0.98581\ttest-auc:0.96389\n",
      "[300]\ttrain-auc:0.99140\ttest-auc:0.96861\n",
      "[400]\ttrain-auc:0.99473\ttest-auc:0.97136\n",
      "[500]\ttrain-auc:0.99682\ttest-auc:0.97318\n",
      "[600]\ttrain-auc:0.99811\ttest-auc:0.97440\n",
      "[700]\ttrain-auc:0.99890\ttest-auc:0.97531\n",
      "[800]\ttrain-auc:0.99935\ttest-auc:0.97591\n",
      "[900]\ttrain-auc:0.99966\ttest-auc:0.97628\n",
      "[1000]\ttrain-auc:0.99981\ttest-auc:0.97667\n",
      "[1100]\ttrain-auc:0.99991\ttest-auc:0.97697\n",
      "[1200]\ttrain-auc:0.99996\ttest-auc:0.97735\n",
      "[1300]\ttrain-auc:0.99999\ttest-auc:0.97767\n",
      "[1400]\ttrain-auc:1.00000\ttest-auc:0.97782\n",
      "[1500]\ttrain-auc:1.00000\ttest-auc:0.97801\n",
      "[1600]\ttrain-auc:1.00000\ttest-auc:0.97812\n",
      "[1700]\ttrain-auc:1.00000\ttest-auc:0.97824\n",
      "[1800]\ttrain-auc:1.00000\ttest-auc:0.97830\n",
      "[1900]\ttrain-auc:1.00000\ttest-auc:0.97840\n",
      "[2000]\ttrain-auc:1.00000\ttest-auc:0.97846\n",
      "[2100]\ttrain-auc:1.00000\ttest-auc:0.97851\n",
      "[2200]\ttrain-auc:1.00000\ttest-auc:0.97861\n",
      "[2300]\ttrain-auc:1.00000\ttest-auc:0.97872\n",
      "[2400]\ttrain-auc:1.00000\ttest-auc:0.97877\n",
      "[2500]\ttrain-auc:1.00000\ttest-auc:0.97890\n",
      "[2600]\ttrain-auc:1.00000\ttest-auc:0.97896\n",
      "[2700]\ttrain-auc:1.00000\ttest-auc:0.97903\n",
      "Stopping. Best iteration:\n",
      "[2673]\ttrain-auc:1.00000\ttest-auc:0.97906\n",
      "\n"
     ]
    }
   ],
   "source": [
    "# 显示训练过程中需要监控的数据\n",
    "watchlist=[(dtrain,'train'),(dtest,'test')]\n",
    "# 记录训练过程中监控的数据，需要定义一个空的dict\n",
    "progress = dict()\n",
    "# 用搜索得到的最佳参数训练新模型\n",
    "xgb_model = xgb.train(params, \n",
    "                      dtrain, \n",
    "                      num_boost_round = 5000,\n",
    "                      early_stopping_rounds = 100,\n",
    "                      evals = watchlist,\n",
    "                      verbose_eval = 100,\n",
    "                      evals_result = progress)"
   ]
  },
  {
   "cell_type": "code",
   "execution_count": 38,
   "metadata": {},
   "outputs": [
    {
     "data": {
      "text/plain": [
       "2673"
      ]
     },
     "execution_count": 38,
     "metadata": {},
     "output_type": "execute_result"
    }
   ],
   "source": [
    "# 显示best_iteration\n",
    "xgb_model.best_iteration"
   ]
  },
  {
   "cell_type": "code",
   "execution_count": 39,
   "metadata": {},
   "outputs": [
    {
     "data": {
      "image/png": "[encoded data removed]",
      "text/plain": [
       "<Figure size 720x432 with 1 Axes>"
      ]
     },
     "metadata": {
      "needs_background": "light"
     },
     "output_type": "display_data"
    }
   ],
   "source": [
    "# 绘制在训练过程中的AUC变化\n",
    "plt.figure(figsize=(10,6))\n",
    "plt.plot(progress['train']['auc'],linestyle='-.',label='Train',color='r')\n",
    "plt.plot(progress['test']['auc'],linestyle='-.',label='Test',color='g')\n",
    "plt.xlabel('num_boost_round')\n",
    "plt.ylabel('AUC')\n",
    "plt.title('XGBoost AUC')\n",
    "plt.legend()\n",
    "plt.show()"
   ]
  },
  {
   "cell_type": "code",
   "execution_count": 40,
   "metadata": {},
   "outputs": [],
   "source": [
    "# 使用best_iteration来做预测\n",
    "xgb_vec_bay_y_pred = xgb_model.predict(dtest, ntree_limit = xgb_model.best_iteration)"
   ]
  },
  {
   "cell_type": "code",
   "execution_count": 41,
   "metadata": {},
   "outputs": [],
   "source": [
    "# 由于预测值为0-1的浮点数，概率值，需要转成0或1\n",
    "xgb_vec_bay_predictions = [int(round(value)) for value in xgb_vec_bay_y_pred]"
   ]
  },
  {
   "cell_type": "code",
   "execution_count": 42,
   "metadata": {},
   "outputs": [
    {
     "name": "stdout",
     "output_type": "stream",
     "text": [
      "精度:0.952\n",
      "召回:0.954\n",
      "f1-score:0.952\n",
      "AUC:0.979\n"
     ]
    }
   ],
   "source": [
    "xgb_vec_bay_ms = metrics_result(y_test_vec, xgb_vec_bay_predictions, xgb_vec_bay_y_pred)"
   ]
  },
  {
   "cell_type": "code",
   "execution_count": 43,
   "metadata": {},
   "outputs": [
    {
     "data": {
      "image/png": "[encoded data removed]",
      "text/plain": [
       "<Figure size 720x432 with 1 Axes>"
      ]
     },
     "metadata": {
      "needs_background": "light"
     },
     "output_type": "display_data"
    }
   ],
   "source": [
    "xgb_vec_bay_fpr, xgb_vec_bay_tpr = roc_curve_plot(y_test_vec ,xgb_vec_bay_y_pred)"
   ]
  },
  {
   "cell_type": "markdown",
   "metadata": {},
   "source": [
    "### LightGBM原生接口，使用贝叶斯调参"
   ]
  },
  {
   "cell_type": "code",
   "execution_count": 44,
   "metadata": {},
   "outputs": [],
   "source": [
    "# 把数据转成原生接口的数据形式\n",
    "lgb_dtrain = lgb.Dataset(X_train_vectors, y_train_vec)\n",
    "lgb_dtest = lgb.Dataset(X_test_vectors, y_test_vec, reference=lgb_dtrain)"
   ]
  },
  {
   "cell_type": "code",
   "execution_count": 45,
   "metadata": {},
   "outputs": [],
   "source": [
    "# 定义LightGBM调参函数\n",
    "def LGB_CV(num_leaves, learning_rate, feature_fraction,\n",
    "                lambda_l1, lambda_l2, max_depth, bagging_fraction, bagging_freq):\n",
    "    \n",
    "    # LightGBM希望接下来的三个参数是整数。所以我们把它们设为整数\n",
    "    num_leaves = int(num_leaves)\n",
    "    max_depth = int(max_depth)\n",
    "    bagging_freq = int(bagging_freq)\n",
    "    \n",
    "    assert type(num_leaves) == int\n",
    "    assert type(max_depth) == int\n",
    "    assert type(bagging_freq) == int\n",
    "    # 定义接收的参数\n",
    "    param = {\n",
    "        'num_leaves': num_leaves,\n",
    "        'learning_rate': learning_rate,\n",
    "        'bagging_fraction': bagging_fraction,\n",
    "        'bagging_freq': bagging_freq,\n",
    "        'feature_fraction': feature_fraction,\n",
    "        'lambda_l1': lambda_l1,\n",
    "        'lambda_l2': lambda_l2,\n",
    "        'max_depth': max_depth,\n",
    "        'save_binary': True, \n",
    "        'seed': 1337,\n",
    "        'feature_fraction_seed': 1337,\n",
    "        'bagging_seed': 1337,\n",
    "        'drop_seed': 1337,\n",
    "        'data_random_seed': 1337,\n",
    "        'objective': 'binary',\n",
    "        'boosting_type': 'gbdt',\n",
    "        'verbose': 1,\n",
    "        'metric': 'auc',\n",
    "        'is_unbalance': True,\n",
    "        'boost_from_average': False }    \n",
    "        \n",
    "    xg_train = lgb_dtrain     #lgb.Dataset(X_train, label=y_train)\n",
    "    xg_valid = lgb_dtest      #lgb.Dataset(X_test, label=y_test)   \n",
    "\n",
    "    num_round = 10000    \n",
    "    lgb_cv_result = lgb.cv(param,\n",
    "                       xg_train, \n",
    "                       num_round,\n",
    "                       nfold = 5,\n",
    "                       stratified=False,\n",
    "                       metrics='auc',\n",
    "                       early_stopping_rounds=100,\n",
    "                       seed=0\n",
    "                              )\n",
    "    \n",
    "    return max(lgb_cv_result['auc-mean'])"
   ]
  },
  {
   "cell_type": "code",
   "execution_count": 46,
   "metadata": {},
   "outputs": [
    {
     "name": "stdout",
     "output_type": "stream",
     "text": [
      "|   iter    |  target   | baggin... | baggin... | featur... | lambda_l1 | lambda_l2 | learni... | max_depth | num_le... |\n",
      "-------------------------------------------------------------------------------------------------------------------------\n",
      "| \u001b[0m 1       \u001b[0m | \u001b[0m 0.977   \u001b[0m | \u001b[0m 0.8222  \u001b[0m | \u001b[0m 3.138   \u001b[0m | \u001b[0m 0.8419  \u001b[0m | \u001b[0m 9.657   \u001b[0m | \u001b[0m 9.726   \u001b[0m | \u001b[0m 0.04808 \u001b[0m | \u001b[0m 10.31   \u001b[0m | \u001b[0m 43.27   \u001b[0m |\n",
      "| \u001b[95m 2       \u001b[0m | \u001b[95m 0.9775  \u001b[0m | \u001b[95m 0.9769  \u001b[0m | \u001b[95m 3.779   \u001b[0m | \u001b[95m 0.9245  \u001b[0m | \u001b[95m 2.631   \u001b[0m | \u001b[95m 3.299   \u001b[0m | \u001b[95m 0.03831 \u001b[0m | \u001b[95m 5.202   \u001b[0m | \u001b[95m 29.5    \u001b[0m |\n",
      "| \u001b[0m 3       \u001b[0m | \u001b[0m 0.9761  \u001b[0m | \u001b[0m 0.4855  \u001b[0m | \u001b[0m 9.714   \u001b[0m | \u001b[0m 0.7505  \u001b[0m | \u001b[0m 7.058   \u001b[0m | \u001b[0m 0.01647 \u001b[0m | \u001b[0m 0.06549 \u001b[0m | \u001b[0m 14.3    \u001b[0m | \u001b[0m 20.32   \u001b[0m |\n",
      "| \u001b[0m 4       \u001b[0m | \u001b[0m 0.9728  \u001b[0m | \u001b[0m 0.6501  \u001b[0m | \u001b[0m 8.338   \u001b[0m | \u001b[0m 0.1118  \u001b[0m | \u001b[0m 1.836   \u001b[0m | \u001b[0m 9.788   \u001b[0m | \u001b[0m 0.09634 \u001b[0m | \u001b[0m 3.433   \u001b[0m | \u001b[0m 49.55   \u001b[0m |\n",
      "=========================================================================================================================\n"
     ]
    }
   ],
   "source": [
    "#参数范围设定\n",
    "bounds_LGB = {\n",
    "    'num_leaves': (20, 50), \n",
    "    'learning_rate': (0.005, 0.1),   \n",
    "    'feature_fraction': (0.1, 1),\n",
    "    'lambda_l1': (0, 10.0), \n",
    "    'lambda_l2': (0, 10.0), \n",
    "    'max_depth':(3,15),\n",
    "    'bagging_fraction':(0.2,1),\n",
    "    'bagging_freq':(1,10),\n",
    "}\n",
    "\n",
    "#优化器\n",
    "LGB_BO = BayesianOptimization(LGB_CV, bounds_LGB, random_state=13)\n",
    "\n",
    "# 初始随机尝试\n",
    "init_points = 1 \n",
    "# 优化尝试\n",
    "n_iter = 3    \n",
    "\n",
    "with warnings.catch_warnings():\n",
    "    warnings.filterwarnings('ignore') # 忽视一些警告，当然可以注释掉\n",
    "    LGB_BO.maximize(init_points=init_points, n_iter=n_iter, acq='ucb', xi=0.0, alpha=1e-6)\n"
   ]
  },
  {
   "cell_type": "code",
   "execution_count": 47,
   "metadata": {},
   "outputs": [
    {
     "data": {
      "text/plain": [
       "{'target': 0.9775296097850908,\n",
       " 'params': {'bagging_fraction': 0.976886840339686,\n",
       "  'bagging_freq': 3.7794443034967404,\n",
       "  'feature_fraction': 0.9244541780563676,\n",
       "  'lambda_l1': 2.6305718118512567,\n",
       "  'lambda_l2': 3.298969537381815,\n",
       "  'learning_rate': 0.03830852803767568,\n",
       "  'max_depth': 5.202204519504758,\n",
       "  'num_leaves': 29.50015214170596}}"
      ]
     },
     "execution_count": 47,
     "metadata": {},
     "output_type": "execute_result"
    }
   ],
   "source": [
    "LGB_BO.max"
   ]
  },
  {
   "cell_type": "code",
   "execution_count": 48,
   "metadata": {},
   "outputs": [],
   "source": [
    "params = {\n",
    "    'num_leaves': int(LGB_BO.max['params']['num_leaves']), \n",
    "    'learning_rate': LGB_BO.max['params']['learning_rate'],   \n",
    "    'feature_fraction': LGB_BO.max['params']['feature_fraction'],\n",
    "    'lambda_l1': LGB_BO.max['params']['lambda_l1'], \n",
    "    'lambda_l2': LGB_BO.max['params']['lambda_l2'], \n",
    "    'max_depth':int(LGB_BO.max['params']['max_depth']),\n",
    "    'bagging_fraction':LGB_BO.max['params']['bagging_fraction'],\n",
    "    'bagging_freq':int(LGB_BO.max['params']['bagging_freq']),\n",
    "    'save_binary': True, \n",
    "    'seed': 1337,\n",
    "    'feature_fraction_seed': 1337,\n",
    "    'bagging_seed': 1337,\n",
    "    'drop_seed': 1337,\n",
    "    'data_random_seed': 1337,\n",
    "    'objective': 'binary',\n",
    "    'boosting_type': 'gbdt',\n",
    "    'verbose': 1,\n",
    "    'metric': 'auc',\n",
    "    'is_unbalance': True,\n",
    "    'boost_from_average': False \n",
    "}"
   ]
  },
  {
   "cell_type": "code",
   "execution_count": 51,
   "metadata": {
    "scrolled": true
   },
   "outputs": [
    {
     "name": "stdout",
     "output_type": "stream",
     "text": [
      "Training until validation scores don't improve for 100 rounds\n",
      "[100]\ttrain's auc: 0.959359\ttest's auc: 0.944624\n",
      "[200]\ttrain's auc: 0.975431\ttest's auc: 0.956591\n",
      "[300]\ttrain's auc: 0.983703\ttest's auc: 0.962298\n",
      "[400]\ttrain's auc: 0.988882\ttest's auc: 0.965849\n",
      "[500]\ttrain's auc: 0.992207\ttest's auc: 0.968034\n",
      "[600]\ttrain's auc: 0.994578\ttest's auc: 0.969693\n",
      "[700]\ttrain's auc: 0.996193\ttest's auc: 0.971116\n",
      "[800]\ttrain's auc: 0.997339\ttest's auc: 0.972119\n",
      "[900]\ttrain's auc: 0.998163\ttest's auc: 0.973015\n",
      "[1000]\ttrain's auc: 0.998715\ttest's auc: 0.973692\n",
      "[1100]\ttrain's auc: 0.999136\ttest's auc: 0.97431\n",
      "[1200]\ttrain's auc: 0.999445\ttest's auc: 0.974779\n",
      "[1300]\ttrain's auc: 0.999651\ttest's auc: 0.975272\n",
      "[1400]\ttrain's auc: 0.999784\ttest's auc: 0.975735\n",
      "[1500]\ttrain's auc: 0.999869\ttest's auc: 0.976168\n",
      "[1600]\ttrain's auc: 0.999922\ttest's auc: 0.976544\n",
      "[1700]\ttrain's auc: 0.999956\ttest's auc: 0.976816\n",
      "[1800]\ttrain's auc: 0.999976\ttest's auc: 0.976979\n",
      "[1900]\ttrain's auc: 0.999989\ttest's auc: 0.977234\n",
      "[2000]\ttrain's auc: 0.999995\ttest's auc: 0.977418\n",
      "[2100]\ttrain's auc: 0.999998\ttest's auc: 0.977552\n",
      "[2200]\ttrain's auc: 0.999999\ttest's auc: 0.977683\n",
      "[2300]\ttrain's auc: 1\ttest's auc: 0.977897\n",
      "[2400]\ttrain's auc: 1\ttest's auc: 0.978075\n",
      "[2500]\ttrain's auc: 1\ttest's auc: 0.978241\n",
      "[2600]\ttrain's auc: 1\ttest's auc: 0.978435\n",
      "[2700]\ttrain's auc: 1\ttest's auc: 0.978548\n",
      "[2800]\ttrain's auc: 1\ttest's auc: 0.978664\n",
      "[2900]\ttrain's auc: 1\ttest's auc: 0.978797\n",
      "[3000]\ttrain's auc: 1\ttest's auc: 0.978831\n",
      "[3100]\ttrain's auc: 1\ttest's auc: 0.978954\n",
      "[3200]\ttrain's auc: 1\ttest's auc: 0.978965\n",
      "[3300]\ttrain's auc: 1\ttest's auc: 0.978983\n",
      "Early stopping, best iteration is:\n",
      "[3247]\ttrain's auc: 1\ttest's auc: 0.979011\n"
     ]
    }
   ],
   "source": [
    "# 显示训练过程中需要监控的数据\n",
    "#lgb_watchlist=[(lgb_dtrain,'train'),(lgb_dtest,'test')]\n",
    "lgb_watchlist=[lgb_dtest,lgb_dtrain]\n",
    "# 记录训练过程中监控的数据，需要定义一个空的dict\n",
    "lgb_progress = dict()\n",
    "# 用搜索得到的最佳参数训练新模型\n",
    "lgb_model = lgb.train(params, \n",
    "                      lgb_dtrain, \n",
    "                      num_boost_round = 20000,\n",
    "                      early_stopping_rounds = 100,\n",
    "                      valid_sets = [lgb_dtest,lgb_dtrain],\n",
    "                      valid_names=['test', 'train'],\n",
    "                      evals_result =lgb_progress ,\n",
    "                      verbose_eval = 100)"
   ]
  },
  {
   "cell_type": "code",
   "execution_count": 52,
   "metadata": {},
   "outputs": [],
   "source": [
    "# 使用best_iteration来做预测\n",
    "lgb_vec_bay_y_pred = lgb_model.predict(X_test_vectors, ntree_limit = lgb_model.best_iteration)"
   ]
  },
  {
   "cell_type": "code",
   "execution_count": 53,
   "metadata": {},
   "outputs": [],
   "source": [
    "# 由于预测值为0-1的浮点数，概率值，需要转成0或1\n",
    "lgb_vec_bay_predictions = [int(round(value)) for value in lgb_vec_bay_y_pred]"
   ]
  },
  {
   "cell_type": "code",
   "execution_count": 54,
   "metadata": {},
   "outputs": [
    {
     "data": {
      "image/png": "[encoded data removed]",
      "text/plain": [
       "<Figure size 720x432 with 1 Axes>"
      ]
     },
     "metadata": {
      "needs_background": "light"
     },
     "output_type": "display_data"
    }
   ],
   "source": [
    "# 绘制在训练过程中的AUC变化\n",
    "plt.figure(figsize=(10,6))\n",
    "plt.plot(lgb_progress['train']['auc'],label='Train',color='r')\n",
    "plt.plot(lgb_progress['test']['auc'],label='Test',color='g')\n",
    "plt.xlabel('num_boost_round')\n",
    "plt.ylabel('AUC')\n",
    "plt.title('LightGBM AUC')\n",
    "plt.legend()\n",
    "plt.show()"
   ]
  },
  {
   "cell_type": "code",
   "execution_count": 55,
   "metadata": {},
   "outputs": [
    {
     "name": "stdout",
     "output_type": "stream",
     "text": [
      "精度:0.954\n",
      "召回:0.954\n",
      "f1-score:0.954\n",
      "AUC:0.979\n"
     ]
    }
   ],
   "source": [
    "lgb_vec_bay_ms = metrics_result(y_test_vec, lgb_vec_bay_predictions ,lgb_vec_bay_y_pred)"
   ]
  },
  {
   "cell_type": "code",
   "execution_count": 56,
   "metadata": {},
   "outputs": [
    {
     "data": {
      "image/png": "[encoded data removed]",
      "text/plain": [
       "<Figure size 720x432 with 1 Axes>"
      ]
     },
     "metadata": {
      "needs_background": "light"
     },
     "output_type": "display_data"
    }
   ],
   "source": [
    "lgb_vec_bay_fpr, lgb_vec_bay_tpr = roc_curve_plot(y_test_vec,lgb_vec_bay_y_pred)"
   ]
  },
  {
   "cell_type": "markdown",
   "metadata": {},
   "source": [
    "### 基于Doc2Vec ，把所用到的机器学习模型的roc_curve放在一起对比一下"
   ]
  },
  {
   "cell_type": "code",
   "execution_count": 77,
   "metadata": {},
   "outputs": [
    {
     "data": {
      "image/png": "[encoded data removed]",
      "text/plain": [
       "<Figure size 720x432 with 1 Axes>"
      ]
     },
     "metadata": {
      "needs_background": "light"
     },
     "output_type": "display_data"
    }
   ],
   "source": [
    "# 定义roc_curve_plot函数，用于绘制roc_curve图\n",
    "from sklearn.metrics import auc\n",
    "\n",
    "fig, ax = plt.subplots(figsize=(10, 6))\n",
    "ax.plot(lsvc_vec_fpr, lsvc_vec_tpr, color='red', label='SVM({:.5f})'.format(auc(lsvc_vec_fpr, lsvc_vec_tpr)))\n",
    "ax.plot(rfc_vec_fpr, rfc_vec_tpr, color='green', label='Random Forest({:.5f})'.format(auc(rfc_vec_fpr, rfc_vec_tpr)))\n",
    "ax.plot(xgb_vec_fpr, xgb_vec_tpr, color='blue', label='XGBoost({:.5f})'.format(auc(xgb_vec_fpr, xgb_vec_tpr)))\n",
    "ax.plot(lgb_vec_fpr, lgb_vec_tpr, color='lightcoral', label='LightGBM({:.5f})'.format(auc(lgb_vec_fpr, lgb_vec_tpr)))\n",
    "ax.plot(xgb_vec_bay_fpr, xgb_vec_bay_tpr, color='aqua', label='XGBoost_bay({:.5f})'.format(auc(xgb_vec_bay_fpr, xgb_vec_bay_tpr)))\n",
    "ax.plot(lgb_vec_bay_fpr, lgb_vec_bay_tpr, color='dimgray', label='LightGBM_bay({:.5f})'.format(auc(lgb_vec_bay_fpr, lgb_vec_bay_tpr)))\n",
    "ax.plot([-0.005,1.01],[-0.005,1.01], ls='--',color='gray')\n",
    "plt.xlim([-0.005,1.01])\n",
    "plt.ylim([-0.005,1.01])\n",
    "plt.title('ROC Curve')\n",
    "plt.xlabel('False Positive Rate')\n",
    "plt.ylabel('True Positive Rate')\n",
    "plt.legend()\n",
    "plt.show()"
   ]
  },
  {
   "cell_type": "markdown",
   "metadata": {},
   "source": [
    "##  总结"
   ]
  },
  {
   "cell_type": "markdown",
   "metadata": {},
   "source": [
    " ### VSM（vector space model）向量空间模型 和   Doc2Vec模型\n",
    " >1. 使用了SVM、Random Forest、XGBoost、LightGBM这四种算法，其中XGBoost和LightGBM都使用了调参；\n",
    " >\n",
    " >2. 在VSM向量空间模型中的表现都非常不错，很容易就达到AUC 99%;而在Doc2Vec中，使用同样的参数，表现都不如VSM\n",
    " >\n",
    " >3. 在划分数据集的时候，由于正样本和负样本不均衡，所以采用了分层划分，划分后正负样本的比例跟原来的分布相同\n",
    " >\n",
    " >4. 在本数据集中，经过调参后的模型，提升不明显，但还是调参后的AUC最高\n",
    " >\n",
    " >>LightGBM_bay > XGBoost_bay > LightGBM > XGBoost > Random Forest > SVM\n",
    " >\n",
    " >5. 在四个算法当中，LightGBM的表现是最好的，无论是运算速度，内存占用，还是预测的结果\n",
    " >\n",
    " >6. 有条件的，还是使用GPU进行运算会好很多，XGBoost和LightGBM都支持GPU了"
   ]
  },
  {
   "cell_type": "code",
   "execution_count": null,
   "metadata": {},
   "outputs": [],
   "source": []
  }
 ],
 "metadata": {
  "kernelspec": {
   "display_name": "Python 3",
   "language": "python",
   "name": "python3"
  },
  "language_info": {
   "codemirror_mode": {
    "name": "ipython",
    "version": 3
   },
   "file_extension": ".py",
   "mimetype": "text/x-python",
   "name": "python",
   "nbconvert_exporter": "python",
   "pygments_lexer": "ipython3",
   "version": "3.7.6"
  }
 },
 "nbformat": 4,
 "nbformat_minor": 2
}
