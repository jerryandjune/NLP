{
 "cells": [
  {
   "cell_type": "markdown",
   "metadata": {},
   "source": [
    "# Assignment 15"
   ]
  },
  {
   "cell_type": "markdown",
   "metadata": {},
   "source": [
    "### 1. What’s the relationship of  word embedding and multi-task learning? "
   ]
  },
  {
   "cell_type": "markdown",
   "metadata": {},
   "source": [
    ">回答：在NLP中，需要对文本进行Word Embedding，提取文本特征，把文本转成向量形式进行训练，将向量应用于多任务学习中；现在有很多预训练的模型都开源了，不需要重新训练词向量，可以基于预训练模型进行增量训练，把业务中需要用到的文本加入预训练模型中，更好地应用于多任务学习"
   ]
  },
  {
   "cell_type": "markdown",
   "metadata": {},
   "source": [
    "### 2. Why do we need some super tasks  to make multi-task learning possible? "
   ]
  },
  {
   "cell_type": "markdown",
   "metadata": {},
   "source": [
    ">回答：在NLP中，有3个Super Tasks，分别是语言模型、问答系统、对话系统，需要判断文本语义，语法和逻辑是否合适，做好这些，都是实现多任务学习的基础。"
   ]
  },
  {
   "cell_type": "markdown",
   "metadata": {},
   "source": [
    "### 3. Why is transfer learning in NLP harder than Computer Vision?"
   ]
  },
  {
   "cell_type": "markdown",
   "metadata": {},
   "source": [
    ">回答：\n",
    ">\n",
    ">在CV中，许多预训练好的模型中，卷积网络所提取的特征（方向梯度直方图(HoG)特征、颜色特征）都比较相似，可以让训练那些将原始图像作为输入的模型；\n",
    ">\n",
    ">而在NLP中存在语义、语法、逻辑、情绪问题，特征都不通用"
   ]
  },
  {
   "cell_type": "markdown",
   "metadata": {},
   "source": [
    "### 4. What’s the reinforcement learning, and the differences compared to Supervised learning? "
   ]
  },
  {
   "cell_type": "markdown",
   "metadata": {},
   "source": [
    ">回答：\n",
    ">\n",
    ">1、有监督学习的训练样本是有标签的，强化学习的训练是没有标签的，它是通过环境给出的奖惩来学习\n",
    ">\n",
    ">2、有监督学习的学习过程是静态的，强化学习的学习过程是动态的。这里静态与动态的区别在于是否会与环境进行交互，有监督学习是给什么样本就学什么，而强化学习是要和环境进行交互，再通过环境给出的奖惩来学习\n",
    ">\n",
    ">3、有监督学习解决的更多是感知问题，尤其是深度学习，强化学习解决的主要是决策问题。因此有监督学习更像是五官，而强化学习更像大脑。\n"
   ]
  },
  {
   "cell_type": "markdown",
   "metadata": {},
   "source": [
    "### 5. What’s Graph Neural Network? Note the similarity of word-2-vec"
   ]
  },
  {
   "cell_type": "markdown",
   "metadata": {},
   "source": [
    ">回答：GNN是一种作用在图像领域的深度学习方法，GNN的一个基本思想，就是基于节点的局部邻居信息对节点进行embedding。直观来讲，就是通过神经网络来聚合每个节点及其周围节点的信息。\n",
    ">图神经网络的几个性质如下：\n",
    ">\n",
    ">>1. 节点在每一层都会有embedding\n",
    ">>2. 模型可以达到任意深度\n",
    ">>3. 第零层的节点的embedding就是他的输入特征向量\n",
    ">\n",
    ">word2vec相似性：Word2vec的训练方式是通过中心词预测窗口内的词"
   ]
  },
  {
   "cell_type": "markdown",
   "metadata": {},
   "source": [
    "### 6. What’s the semi-supervised learning and activate learning? "
   ]
  },
  {
   "cell_type": "markdown",
   "metadata": {},
   "source": [
    ">回答：\n",
    ">\n",
    ">### 半监督学习与主动学习的区别\n",
    ">半监督学习，尤其是对于自学习模型，对于未标注数据而言，是选择最不容易判断错误的样例来加入到已标注数据中，这个过程，是一个自动的过程，是筛选最好的数据的过程，然后不需要互动，不需要人工干预，基于自身对于未标记数据加以利用，来提高学习模型的泛化性能。\n",
    ">\n",
    ">主动学习，在利用未标注数据的时候，是从未标注数据中找到最容易判断错误的样例来交由专家进行标注，这个过程是一个筛选差数据的过程，也是一个互动交互的过程，引入了额外的专家的知识。\n",
    ">\n",
    ">### 主动学习与半监督学习的联系\n",
    ">\n",
    ">二者都利用到了未标注的数据和已标注的数据，然后提高学习能力。只是二者的学习思想不同。"
   ]
  },
  {
   "cell_type": "markdown",
   "metadata": {},
   "source": [
    "### 7. What’s the problems when AI models became bigger and bigger?"
   ]
  },
  {
   "cell_type": "markdown",
   "metadata": {},
   "source": [
    ">回答：模型越来越大，导致竞争壁垒越来越高，导致只有少数的技术公司才能玩得起，圈子封闭，解决不了实际问题，导致AI行业发展缓慢，所以目前很多预训练的模型，都分了mini，base，large参数的模型，还有往模型压缩方向发展"
   ]
  },
  {
   "cell_type": "markdown",
   "metadata": {},
   "source": [
    "### 8. Please give some scenarios about Adversarial Attacking Examples"
   ]
  },
  {
   "cell_type": "markdown",
   "metadata": {},
   "source": [
    ">回答：\n",
    ">\n",
    ">在CV中，原本是识别人类的模型中，人类用手拿着一幅画，导致模型不能识别，即对人类来说看似正常的输入，但却可以欺骗系统从而使它输出错误预测。"
   ]
  },
  {
   "cell_type": "markdown",
   "metadata": {},
   "source": [
    "### 9. Why is common sense reasoning  so hard? "
   ]
  },
  {
   "cell_type": "markdown",
   "metadata": {},
   "source": [
    ">回答：\n",
    ">\n",
    ">常识推理是人工智能中的一个领域，旨在帮助计算机更好地理解人类，以一种更加自然的方式与人类进行交流。它需要找到一些方法去收集交流背景假设，再把这些教给计算机。常识推理最成功的一个领域是自然语言处理（NLP）。\n",
    ">\n",
    ">但在现实生活中的常识很多且很难形容，每个人对常识理解都不一致，导致很多基于常识的问题很难做。"
   ]
  },
  {
   "cell_type": "markdown",
   "metadata": {},
   "source": [
    "### 10. 如果你要选择一个细分进行持续研究，你对哪个方面感兴趣？为什么？ "
   ]
  },
  {
   "cell_type": "markdown",
   "metadata": {},
   "source": [
    ">回答：NLP方向，选学的时候，就从CV和NLP中，选择了NLP，原因的话，我也不知道，就是比较喜欢吧！！"
   ]
  },
  {
   "cell_type": "code",
   "execution_count": null,
   "metadata": {},
   "outputs": [],
   "source": []
  }
 ],
 "metadata": {
  "kernelspec": {
   "display_name": "Python 3",
   "language": "python",
   "name": "python3"
  },
  "language_info": {
   "codemirror_mode": {
    "name": "ipython",
    "version": 3
   },
   "file_extension": ".py",
   "mimetype": "text/x-python",
   "name": "python",
   "nbconvert_exporter": "python",
   "pygments_lexer": "ipython3",
   "version": "3.6.10"
  }
 },
 "nbformat": 4,
 "nbformat_minor": 4
}
