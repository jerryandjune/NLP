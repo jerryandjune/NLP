{
 "cells": [
  {
   "cell_type": "markdown",
   "metadata": {},
   "source": [
    "# Assignment_11"
   ]
  },
  {
   "cell_type": "markdown",
   "metadata": {},
   "source": [
    "## 代码复现"
   ]
  },
  {
   "cell_type": "markdown",
   "metadata": {},
   "source": [
    "### Dynamic Programming"
   ]
  },
  {
   "cell_type": "markdown",
   "metadata": {},
   "source": [
    "### 基本思想：\n",
    ">把一个较复杂的问题按照阶段划分，分解为若干个较小的局部问题，然后按照局部问题的递推关系，依次作出一系列决策，直至整个问题达到总体最优的目标。\n",
    "\n",
    "### 动态规划包含三个重要的概念：\n",
    "\n",
    ">* 最优子结构\n",
    ">* 边界\n",
    ">* 状态转移方程\n",
    "\n",
    "### 解题的一般步骤是：\n",
    "\n",
    ">1. 找出最优解的性质，刻画其结构特征和最优子结构特征；\n",
    ">2. 递归地定义最优值，刻画原问题解与子问题解间的关系；\n",
    ">3. 以自底向上的方式计算出各个子问题、原问题的最优值，并避免子问题的重复计算；\n",
    ">4. 根据计算最优值时得到的信息，构造最优解。\n",
    "### 使用动态规划特征：\n",
    "\n",
    ">1. 求一个问题的最优解\n",
    ">2. 大问题可以分解为子问题，子问题还有重叠的更小的子问题\n",
    ">3. 整体问题最优解取决于子问题的最优解（状态转移方程）\n",
    ">4. 从上往下分析问题，从下往上解决问题\n",
    ">5. 讨论底层的边界问题\n"
   ]
  },
  {
   "cell_type": "markdown",
   "metadata": {},
   "source": [
    "#### 问题一：现在要求一段长度N的钢筋最佳切法，使得利益最大化"
   ]
  },
  {
   "cell_type": "code",
   "execution_count": 1,
   "metadata": {},
   "outputs": [],
   "source": [
    "from collections import defaultdict"
   ]
  },
  {
   "cell_type": "code",
   "execution_count": 2,
   "metadata": {},
   "outputs": [],
   "source": [
    "# 钢筋米数对应价目表\n",
    "original_price = [1, 5, 8, 9, 10, 17, 17, 20, 24, 30, 35]\n",
    "price = defaultdict(int)"
   ]
  },
  {
   "cell_type": "code",
   "execution_count": 3,
   "metadata": {},
   "outputs": [],
   "source": [
    "# 这里用defaultdict用处是当输入不存在的键返回0\n",
    "for i,p in enumerate(original_price):\n",
    "    #print(i+1,p)\n",
    "    price[i+1] = p"
   ]
  },
  {
   "cell_type": "code",
   "execution_count": 4,
   "metadata": {},
   "outputs": [
    {
     "data": {
      "text/plain": [
       "35"
      ]
     },
     "execution_count": 4,
     "metadata": {},
     "output_type": "execute_result"
    }
   ],
   "source": [
    "# 显示钢筋米数对应的价格\n",
    "price[11]"
   ]
  },
  {
   "cell_type": "code",
   "execution_count": 5,
   "metadata": {},
   "outputs": [
    {
     "data": {
      "text/plain": [
       "defaultdict(int,\n",
       "            {1: 1,\n",
       "             2: 5,\n",
       "             3: 8,\n",
       "             4: 9,\n",
       "             5: 10,\n",
       "             6: 17,\n",
       "             7: 17,\n",
       "             8: 20,\n",
       "             9: 24,\n",
       "             10: 30,\n",
       "             11: 35})"
      ]
     },
     "execution_count": 5,
     "metadata": {},
     "output_type": "execute_result"
    }
   ],
   "source": [
    "# 钢筋米数对应价目表\n",
    "price"
   ]
  },
  {
   "cell_type": "code",
   "execution_count": 6,
   "metadata": {},
   "outputs": [],
   "source": [
    "# 求出最大价钱，但是切法却没有求出\n",
    "def r(n):  \n",
    "    return max([price[n]] + [r(i) + r(n-i) for i in range(1,n)])"
   ]
  },
  {
   "cell_type": "code",
   "execution_count": 7,
   "metadata": {},
   "outputs": [
    {
     "name": "stdout",
     "output_type": "stream",
     "text": [
      "Wall time: 997 µs\n"
     ]
    },
    {
     "data": {
      "text/plain": [
       "22"
      ]
     },
     "execution_count": 7,
     "metadata": {},
     "output_type": "execute_result"
    }
   ],
   "source": [
    "%%time\n",
    "\n",
    "r(8)"
   ]
  },
  {
   "cell_type": "code",
   "execution_count": 8,
   "metadata": {},
   "outputs": [
    {
     "name": "stdout",
     "output_type": "stream",
     "text": [
      "Wall time: 2.94 s\n"
     ]
    },
    {
     "data": {
      "text/plain": [
       "45"
      ]
     },
     "execution_count": 8,
     "metadata": {},
     "output_type": "execute_result"
    }
   ],
   "source": [
    "%%time\n",
    "r(15)"
   ]
  },
  {
   "cell_type": "code",
   "execution_count": 9,
   "metadata": {},
   "outputs": [],
   "source": [
    "import time"
   ]
  },
  {
   "cell_type": "code",
   "execution_count": 10,
   "metadata": {},
   "outputs": [],
   "source": [
    "#@get_time\n",
    "# 斐波纳契数列\n",
    "def fibonacci(n):\n",
    "    if n  <= 2:\n",
    "        return 1\n",
    "    else:\n",
    "        return fibonacci(n-1) + fibonacci(n-2)"
   ]
  },
  {
   "cell_type": "code",
   "execution_count": 11,
   "metadata": {},
   "outputs": [
    {
     "name": "stdout",
     "output_type": "stream",
     "text": [
      "5702887\n",
      "0.927476167678833\n"
     ]
    }
   ],
   "source": [
    "start = time.time()\n",
    "print(fibonacci(34))\n",
    "end = time.time()\n",
    "print(end-start)"
   ]
  },
  {
   "cell_type": "code",
   "execution_count": 12,
   "metadata": {},
   "outputs": [],
   "source": [
    "mem = defaultdict()\n",
    "def fibonacci_op(n):\n",
    "    if n in mem:\n",
    "        return mem[n]\n",
    "    else: \n",
    "        if n <= 2:\n",
    "            mem[n] = 1\n",
    "            return n\n",
    "        else:\n",
    "            result = fibonacci_op(n-1) + fibonacci_op(n-2)\n",
    "            mem[n] = result\n",
    "            return result"
   ]
  },
  {
   "cell_type": "code",
   "execution_count": 13,
   "metadata": {},
   "outputs": [
    {
     "name": "stdout",
     "output_type": "stream",
     "text": [
      "14662949395604\n",
      "0.0\n"
     ]
    }
   ],
   "source": [
    "start = time.time()\n",
    "print(fibonacci_op(64))\n",
    "end = time.time()\n",
    "print(end-start)"
   ]
  },
  {
   "cell_type": "markdown",
   "metadata": {},
   "source": [
    "# Analysis: How to optimize"
   ]
  },
  {
   "cell_type": "markdown",
   "metadata": {},
   "source": [
    "## A Simpler Problem"
   ]
  },
  {
   "cell_type": "markdown",
   "metadata": {},
   "source": [
    "### Decorator"
   ]
  },
  {
   "cell_type": "code",
   "execution_count": 14,
   "metadata": {},
   "outputs": [],
   "source": [
    "def get_time(func):\n",
    "    def wrapper(*args):\n",
    "        start = time.time()\n",
    "        func(*args)\n",
    "        end = time.time()\n",
    "        print('used time : {}'.format(end-start))\n",
    "    return wrapper"
   ]
  },
  {
   "cell_type": "code",
   "execution_count": 15,
   "metadata": {},
   "outputs": [],
   "source": [
    "from functools import wraps"
   ]
  },
  {
   "cell_type": "code",
   "execution_count": 16,
   "metadata": {},
   "outputs": [],
   "source": [
    "# 减少重复计算次数，把已经计算过的存入字典，再次访问时先查字典，\n",
    "# 如果有就直接读取，没有再去计算\n",
    "def memo(f):\n",
    "    memo.already_computed = {}\n",
    "    @wraps(f)\n",
    "    def _wrap(arg):\n",
    "        if arg in memo.already_computed:\n",
    "            result = memo.already_computed[arg]\n",
    "        else:\n",
    "            result = f(arg)\n",
    "            memo.already_computed[arg] = result\n",
    "        return result\n",
    "    return _wrap"
   ]
  },
  {
   "cell_type": "markdown",
   "metadata": {},
   "source": [
    "# We use this method to solve Cut Rod probelm¶"
   ]
  },
  {
   "cell_type": "code",
   "execution_count": 17,
   "metadata": {},
   "outputs": [],
   "source": [
    "# solution记录每个长度的最佳切法\n",
    "solution = {}"
   ]
  },
  {
   "cell_type": "code",
   "execution_count": 18,
   "metadata": {},
   "outputs": [],
   "source": [
    "@memo\n",
    "def r(n):\n",
    "    \"\"\"\n",
    "    Args: n is the iron length\n",
    "    Return: the max revenue \n",
    "    \"\"\"\n",
    "    max_price, max_split = max([(price[n], 0)] + [(r(i) + r(n-i), i) for i in range(1, n)], key=lambda x: x[0])\n",
    "\n",
    "    solution[n] = (n - max_split, max_split)\n",
    "    \n",
    "    return max_price"
   ]
  },
  {
   "cell_type": "code",
   "execution_count": 19,
   "metadata": {},
   "outputs": [
    {
     "data": {
      "text/plain": [
       "60"
      ]
     },
     "execution_count": 19,
     "metadata": {},
     "output_type": "execute_result"
    }
   ],
   "source": [
    "r(20)"
   ]
  },
  {
   "cell_type": "code",
   "execution_count": 20,
   "metadata": {},
   "outputs": [
    {
     "data": {
      "text/plain": [
       "defaultdict(int,\n",
       "            {1: 1,\n",
       "             2: 5,\n",
       "             3: 8,\n",
       "             4: 9,\n",
       "             5: 10,\n",
       "             6: 17,\n",
       "             7: 17,\n",
       "             8: 20,\n",
       "             9: 24,\n",
       "             10: 30,\n",
       "             11: 35,\n",
       "             15: 0,\n",
       "             14: 0,\n",
       "             13: 0,\n",
       "             12: 0,\n",
       "             20: 0,\n",
       "             19: 0,\n",
       "             18: 0,\n",
       "             17: 0,\n",
       "             16: 0})"
      ]
     },
     "execution_count": 20,
     "metadata": {},
     "output_type": "execute_result"
    }
   ],
   "source": [
    "price"
   ]
  },
  {
   "cell_type": "code",
   "execution_count": 21,
   "metadata": {},
   "outputs": [
    {
     "data": {
      "text/plain": [
       "{1: (1, 0),\n",
       " 2: (2, 0),\n",
       " 3: (3, 0),\n",
       " 4: (2, 2),\n",
       " 5: (3, 2),\n",
       " 6: (6, 0),\n",
       " 7: (6, 1),\n",
       " 8: (6, 2),\n",
       " 9: (6, 3),\n",
       " 10: (10, 0),\n",
       " 11: (11, 0),\n",
       " 12: (11, 1),\n",
       " 13: (11, 2),\n",
       " 14: (11, 3),\n",
       " 15: (13, 2),\n",
       " 16: (14, 2),\n",
       " 17: (11, 6),\n",
       " 18: (17, 1),\n",
       " 19: (17, 2),\n",
       " 20: (17, 3)}"
      ]
     },
     "execution_count": 21,
     "metadata": {},
     "output_type": "execute_result"
    }
   ],
   "source": [
    "solution"
   ]
  },
  {
   "cell_type": "markdown",
   "metadata": {},
   "source": [
    "# How do we parse solution?¶"
   ]
  },
  {
   "cell_type": "code",
   "execution_count": 22,
   "metadata": {},
   "outputs": [],
   "source": [
    "def parse_solution(n):\n",
    "    left_split, right_split = solution[n]\n",
    "    \n",
    "    if right_split == 0: return [left_split]\n",
    "    \n",
    "    return parse_solution(left_split) + parse_solution(right_split)"
   ]
  },
  {
   "cell_type": "code",
   "execution_count": 23,
   "metadata": {},
   "outputs": [
    {
     "data": {
      "text/plain": [
       "60"
      ]
     },
     "execution_count": 23,
     "metadata": {},
     "output_type": "execute_result"
    }
   ],
   "source": [
    "r(20)"
   ]
  },
  {
   "cell_type": "code",
   "execution_count": 24,
   "metadata": {},
   "outputs": [
    {
     "data": {
      "text/plain": [
       "[11, 6, 3]"
      ]
     },
     "execution_count": 24,
     "metadata": {},
     "output_type": "execute_result"
    }
   ],
   "source": [
    "parse_solution(20)"
   ]
  },
  {
   "cell_type": "markdown",
   "metadata": {},
   "source": [
    "# Edit Distance"
   ]
  },
  {
   "cell_type": "code",
   "execution_count": 25,
   "metadata": {},
   "outputs": [],
   "source": [
    "solution = {}"
   ]
  },
  {
   "cell_type": "code",
   "execution_count": 26,
   "metadata": {},
   "outputs": [],
   "source": [
    "from functools import lru_cache"
   ]
  },
  {
   "cell_type": "code",
   "execution_count": 27,
   "metadata": {},
   "outputs": [],
   "source": [
    "@lru_cache(maxsize=2**10)\n",
    "def edit_distance(string1, string2):\n",
    "    if len(string1)==0: return len(string2)\n",
    "    if len(string2)==0: return len(string1)\n",
    "    \n",
    "    tail_s1 = string1[-1]\n",
    "    tail_s2 = string2[-1]\n",
    "    \n",
    "    candidates = [\n",
    "        (edit_distance(string1[:-1], string2) + 1, 'DEL {}'.format(tail_s1)),\n",
    "        (edit_distance(string1, string2[:-1]) + 1, 'ADD {}'.format(tail_s2))\n",
    "    ]\n",
    "    \n",
    "    if tail_s1 == tail_s2:\n",
    "        both_forward = (edit_distance(string1[:-1], string2[:-1]) + 0, '')\n",
    "    else:\n",
    "        both_forward = (edit_distance(string1[:-1], string2[:-1]) + 1, 'SUB: {} = {}'\\\n",
    "                        .format(tail_s1, tail_s2))\n",
    "        \n",
    "    candidates.append(both_forward)    \n",
    "    min_distance, operation = min(candidates, key = lambda x: x[0])   \n",
    "    solution[(string1, string2)] = operation\n",
    "    return min_distance"
   ]
  },
  {
   "cell_type": "code",
   "execution_count": 28,
   "metadata": {},
   "outputs": [
    {
     "data": {
      "text/plain": [
       "4"
      ]
     },
     "execution_count": 28,
     "metadata": {},
     "output_type": "execute_result"
    }
   ],
   "source": [
    "edit_distance('ABCDECG','ABCEFkk')"
   ]
  },
  {
   "cell_type": "code",
   "execution_count": 29,
   "metadata": {
    "scrolled": true
   },
   "outputs": [
    {
     "data": {
      "text/plain": [
       "{('A', 'A'): '',\n",
       " ('A', 'AB'): 'ADD B',\n",
       " ('A', 'ABC'): 'ADD C',\n",
       " ('A', 'ABCE'): 'ADD E',\n",
       " ('A', 'ABCEF'): 'ADD F',\n",
       " ('A', 'ABCEFk'): 'ADD k',\n",
       " ('A', 'ABCEFkk'): 'ADD k',\n",
       " ('AB', 'A'): 'DEL B',\n",
       " ('AB', 'AB'): '',\n",
       " ('AB', 'ABC'): 'ADD C',\n",
       " ('AB', 'ABCE'): 'ADD E',\n",
       " ('AB', 'ABCEF'): 'ADD F',\n",
       " ('AB', 'ABCEFk'): 'ADD k',\n",
       " ('AB', 'ABCEFkk'): 'ADD k',\n",
       " ('ABC', 'A'): 'DEL C',\n",
       " ('ABC', 'AB'): 'DEL C',\n",
       " ('ABC', 'ABC'): '',\n",
       " ('ABC', 'ABCE'): 'ADD E',\n",
       " ('ABC', 'ABCEF'): 'ADD F',\n",
       " ('ABC', 'ABCEFk'): 'ADD k',\n",
       " ('ABC', 'ABCEFkk'): 'ADD k',\n",
       " ('ABCD', 'A'): 'DEL D',\n",
       " ('ABCD', 'AB'): 'DEL D',\n",
       " ('ABCD', 'ABC'): 'DEL D',\n",
       " ('ABCD', 'ABCE'): 'SUB: D = E',\n",
       " ('ABCD', 'ABCEF'): 'ADD F',\n",
       " ('ABCD', 'ABCEFk'): 'ADD k',\n",
       " ('ABCD', 'ABCEFkk'): 'ADD k',\n",
       " ('ABCDE', 'A'): 'DEL E',\n",
       " ('ABCDE', 'AB'): 'DEL E',\n",
       " ('ABCDE', 'ABC'): 'DEL E',\n",
       " ('ABCDE', 'ABCE'): '',\n",
       " ('ABCDE', 'ABCEF'): 'ADD F',\n",
       " ('ABCDE', 'ABCEFk'): 'ADD k',\n",
       " ('ABCDE', 'ABCEFkk'): 'ADD k',\n",
       " ('ABCDEC', 'A'): 'DEL C',\n",
       " ('ABCDEC', 'AB'): 'DEL C',\n",
       " ('ABCDEC', 'ABC'): 'DEL C',\n",
       " ('ABCDEC', 'ABCE'): 'DEL C',\n",
       " ('ABCDEC', 'ABCEF'): 'SUB: C = F',\n",
       " ('ABCDEC', 'ABCEFk'): 'ADD k',\n",
       " ('ABCDEC', 'ABCEFkk'): 'ADD k',\n",
       " ('ABCDECG', 'A'): 'DEL G',\n",
       " ('ABCDECG', 'AB'): 'DEL G',\n",
       " ('ABCDECG', 'ABC'): 'DEL G',\n",
       " ('ABCDECG', 'ABCE'): 'DEL G',\n",
       " ('ABCDECG', 'ABCEF'): 'DEL G',\n",
       " ('ABCDECG', 'ABCEFk'): 'SUB: G = k',\n",
       " ('ABCDECG', 'ABCEFkk'): 'ADD k'}"
      ]
     },
     "execution_count": 29,
     "metadata": {},
     "output_type": "execute_result"
    }
   ],
   "source": [
    "solution"
   ]
  },
  {
   "cell_type": "markdown",
   "metadata": {},
   "source": [
    "## Todo: Parse Solution is our homework"
   ]
  },
  {
   "cell_type": "code",
   "execution_count": 30,
   "metadata": {},
   "outputs": [
    {
     "name": "stdout",
     "output_type": "stream",
     "text": [
      "编辑距离为：6\n",
      "编辑记录为：['ADD k', 'SUB p => k', 'ADD g', 'SUB r => g', 'ADD n', 'SUB e => n', 'ADD n', 'SUB t => n', 'ADD b', 'ADD l']\n"
     ]
    }
   ],
   "source": [
    "@lru_cache(maxsize=2 ** 10)\n",
    "def edit_distance(string1, string2):\n",
    "    if len(string1) == 0: return len(string2)\n",
    "    if len(string2) == 0: return len(string1)\n",
    "\n",
    "    tail_s1 = string1[-1]       # 获取A串最后字符\n",
    "    tail_s2 = string2[-1]       # 获取B串最后字符\n",
    "\n",
    "    candidates = [\n",
    "        # 给A减一位，编辑距离+1\n",
    "        (edit_distance(string1[:-1], string2) + 1, 'DEL {}'.format(tail_s1)),\n",
    "        # 给B加一位，编辑距离+1\n",
    "        (edit_distance(string1, string2[:-1]) + 1, 'ADD {}'.format(tail_s2)),\n",
    "    ]\n",
    "\n",
    "    if tail_s1 == tail_s2:\n",
    "        # 如果AB最后字符相同则向前推移一位继续比较，该位不需要计算编辑距离\n",
    "        both_forward = (edit_distance(string1[:-1], string2[:-1]) + 0, '')\n",
    "    else:\n",
    "        # 否则则需要进行替换操作，该位编辑距离+1\n",
    "        both_forward = (edit_distance(string1[:-1], string2[:-1]) + 1, 'SUB {} => {}'.format(tail_s1, tail_s2))\n",
    "\n",
    "    # 增加做过的全部操作\n",
    "    candidates.append(both_forward)\n",
    "\n",
    "    # 全部操作中次数最小的就是可实现的最小编辑距离次数及操作\n",
    "    min_distance, operation = min(candidates, key=lambda x: x[0])\n",
    "\n",
    "    solution[(string1, string2)] = operation\n",
    "\n",
    "    return min_distance\n",
    "\n",
    "\n",
    "def parse_solution(string1, string2):\n",
    "    \"\"\"\n",
    "    解析solution结果\n",
    "    :param n: 总长度\n",
    "    :return:\n",
    "    \"\"\"\n",
    "    if string1 == string2: return []\n",
    "    if len(string1) == 0: return ['ADD {}'.format(i) for i in string2]\n",
    "    if len(string2) == 0: return ['DEL {}'.format(i) for i in string1]\n",
    "\n",
    "    operation = solution.get((string1, string2))\n",
    "\n",
    "    if operation == '':\n",
    "        string1, right_str = string1[:-1], string2[:-1]\n",
    "        return parse_solution(string1, right_str)\n",
    "    elif 'ADD' in operation:\n",
    "        string2 = string2[:-1]\n",
    "    elif 'DEL' in operation:\n",
    "        string1 = string1[:-1]\n",
    "    else:\n",
    "        string1, right_str = string1[:-1], string2[:-1]\n",
    "    parse_solution(string1, string2)\n",
    "    return parse_solution(string1, string2) + [operation]\n",
    "\n",
    "solution = {}\n",
    "string1 = 'interpretation'\n",
    "string2 = 'interkgnnblation'\n",
    "min_distance = edit_distance(string1, string2)\n",
    "edit_parse_solution = parse_solution(string1, string2)\n",
    "print('编辑距离为：{}'.format(min_distance))\n",
    "print('编辑记录为：{}'.format(edit_parse_solution))"
   ]
  },
  {
   "cell_type": "markdown",
   "metadata": {},
   "source": [
    "# Problem Case 3: Pinyin Auto Correction Problem"
   ]
  },
  {
   "cell_type": "code",
   "execution_count": 31,
   "metadata": {},
   "outputs": [],
   "source": [
    "chinese_dataset = 'article_9k.txt'"
   ]
  },
  {
   "cell_type": "code",
   "execution_count": 32,
   "metadata": {},
   "outputs": [],
   "source": [
    "CHINESE_CHARATERS = open(chinese_dataset).read()"
   ]
  },
  {
   "cell_type": "code",
   "execution_count": 33,
   "metadata": {},
   "outputs": [
    {
     "data": {
      "text/plain": [
       "'此外自本周6月12日起除小米手机6等15款机型外其余机型已暂停更新发布含开发版体'"
      ]
     },
     "execution_count": 33,
     "metadata": {},
     "output_type": "execute_result"
    }
   ],
   "source": [
    "CHINESE_CHARATERS[:40]"
   ]
  },
  {
   "cell_type": "code",
   "execution_count": 34,
   "metadata": {},
   "outputs": [],
   "source": [
    "import pinyin"
   ]
  },
  {
   "cell_type": "code",
   "execution_count": 35,
   "metadata": {},
   "outputs": [
    {
     "data": {
      "text/plain": [
       "'ni hao ， zhong guo'"
      ]
     },
     "execution_count": 35,
     "metadata": {},
     "output_type": "execute_result"
    }
   ],
   "source": [
    "pinyin.get('你好，中国',format='strip',delimiter=' ')"
   ]
  },
  {
   "cell_type": "code",
   "execution_count": 36,
   "metadata": {},
   "outputs": [],
   "source": [
    "def chinese_to_pinyin(character):\n",
    "    return pinyin.get(character, format='strip', delimiter=' ')"
   ]
  },
  {
   "cell_type": "code",
   "execution_count": 37,
   "metadata": {},
   "outputs": [],
   "source": [
    "CHINESE_CHARATERS_COPYS = chinese_to_pinyin(CHINESE_CHARATERS)"
   ]
  },
  {
   "cell_type": "code",
   "execution_count": 38,
   "metadata": {},
   "outputs": [
    {
     "data": {
      "text/plain": [
       "129433059"
      ]
     },
     "execution_count": 38,
     "metadata": {},
     "output_type": "execute_result"
    }
   ],
   "source": [
    "len(CHINESE_CHARATERS_COPYS)"
   ]
  },
  {
   "cell_type": "code",
   "execution_count": 39,
   "metadata": {},
   "outputs": [],
   "source": [
    "import re"
   ]
  },
  {
   "cell_type": "code",
   "execution_count": 40,
   "metadata": {},
   "outputs": [],
   "source": [
    "def tokens(text):\n",
    "    \"List all the pinyin characters\"\n",
    "    return re.findall('[a-z]+',text.lower())"
   ]
  },
  {
   "cell_type": "code",
   "execution_count": 41,
   "metadata": {},
   "outputs": [
    {
     "data": {
      "text/plain": [
       "'ci wai zi ben zhou 6 yue 1 2 ri qi chu xiao mi shou ji 6 deng 1 5 kuan ji xing wai qi yu ji xing yi '"
      ]
     },
     "execution_count": 41,
     "metadata": {},
     "output_type": "execute_result"
    }
   ],
   "source": [
    "CHINESE_CHARATERS_COPYS[:100]"
   ]
  },
  {
   "cell_type": "code",
   "execution_count": 42,
   "metadata": {},
   "outputs": [
    {
     "data": {
      "text/plain": [
       "['ci',\n",
       " 'wai',\n",
       " 'zi',\n",
       " 'ben',\n",
       " 'zhou',\n",
       " 'yue',\n",
       " 'ri',\n",
       " 'qi',\n",
       " 'chu',\n",
       " 'xiao',\n",
       " 'mi',\n",
       " 'shou',\n",
       " 'ji',\n",
       " 'deng',\n",
       " 'kuan',\n",
       " 'ji',\n",
       " 'xing',\n",
       " 'wai',\n",
       " 'qi',\n",
       " 'yu',\n",
       " 'ji',\n",
       " 'xing',\n",
       " 'yi',\n",
       " 'zan',\n",
       " 'ting',\n",
       " 'geng',\n",
       " 'xin',\n",
       " 'fa',\n",
       " 'bu',\n",
       " 'han',\n",
       " 'kai',\n",
       " 'fa',\n",
       " 'ban',\n",
       " 'ti',\n",
       " 'yan',\n",
       " 'ban',\n",
       " 'nei',\n",
       " 'ce',\n",
       " 'wen',\n",
       " 'ding',\n",
       " 'ban',\n",
       " 'zan',\n",
       " 'bu',\n",
       " 'shou',\n",
       " 'ying',\n",
       " 'xiang',\n",
       " 'yi',\n",
       " 'que',\n",
       " 'bao',\n",
       " 'gong',\n",
       " 'cheng',\n",
       " 'shi',\n",
       " 'ke',\n",
       " 'yi',\n",
       " 'ji',\n",
       " 'zhong',\n",
       " 'quan',\n",
       " 'bu',\n",
       " 'jing',\n",
       " 'li',\n",
       " 'jin',\n",
       " 'xing',\n",
       " 'xi',\n",
       " 'tong',\n",
       " 'you',\n",
       " 'hua',\n",
       " 'gong',\n",
       " 'zuo',\n",
       " 'you',\n",
       " 'ren',\n",
       " 'cai',\n",
       " 'ce',\n",
       " 'zhe',\n",
       " 'ye',\n",
       " 'shi',\n",
       " 'jiang',\n",
       " 'jing',\n",
       " 'li',\n",
       " 'zhu',\n",
       " 'yao',\n",
       " 'yong',\n",
       " 'dao',\n",
       " 'm',\n",
       " 'i',\n",
       " 'u',\n",
       " 'i',\n",
       " 'de',\n",
       " 'yan',\n",
       " 'fa',\n",
       " 'zhi',\n",
       " 'zhong',\n",
       " 'm',\n",
       " 'i',\n",
       " 'u',\n",
       " 'i',\n",
       " 'qu',\n",
       " 'nian',\n",
       " 'yue',\n",
       " 'fa',\n",
       " 'bu',\n",
       " 'ju',\n",
       " 'jin',\n",
       " 'yi',\n",
       " 'you',\n",
       " 'yi',\n",
       " 'nian',\n",
       " 'you',\n",
       " 'yu',\n",
       " 'ye',\n",
       " 'shi',\n",
       " 'shi',\n",
       " 'hou',\n",
       " 'geng',\n",
       " 'xin',\n",
       " 'huan',\n",
       " 'dai',\n",
       " 'le',\n",
       " 'dang',\n",
       " 'ran',\n",
       " 'guan',\n",
       " 'yu',\n",
       " 'm',\n",
       " 'i',\n",
       " 'u',\n",
       " 'i',\n",
       " 'de',\n",
       " 'que',\n",
       " 'qie',\n",
       " 'xin',\n",
       " 'xi',\n",
       " 'wo',\n",
       " 'men',\n",
       " 'huan',\n",
       " 'shi',\n",
       " 'deng',\n",
       " 'dai',\n",
       " 'guan',\n",
       " 'fang',\n",
       " 'xiao',\n",
       " 'xi',\n",
       " 'xiao',\n",
       " 'long',\n",
       " 'zuo',\n",
       " 'wei',\n",
       " 'wei',\n",
       " 'yi',\n",
       " 'tong',\n",
       " 'guo',\n",
       " 'w',\n",
       " 'i',\n",
       " 'n',\n",
       " 'd',\n",
       " 'o',\n",
       " 'w',\n",
       " 's',\n",
       " 'zhuo',\n",
       " 'mian',\n",
       " 'ping',\n",
       " 'tai',\n",
       " 'ren',\n",
       " 'zheng',\n",
       " 'de',\n",
       " 'a',\n",
       " 'r',\n",
       " 'm',\n",
       " 'chu',\n",
       " 'li',\n",
       " 'qi',\n",
       " 'gao',\n",
       " 'tong',\n",
       " 'qiang',\n",
       " 'diao',\n",
       " 'bu',\n",
       " 'hui',\n",
       " 'yin',\n",
       " 'wei',\n",
       " 'zhi',\n",
       " 'kao',\n",
       " 'lv',\n",
       " 'xing',\n",
       " 'neng',\n",
       " 'er',\n",
       " 'qu',\n",
       " 'ping',\n",
       " 'bi',\n",
       " 'diao',\n",
       " 'xiao',\n",
       " 'he',\n",
       " 'xin',\n",
       " 'xiang',\n",
       " 'fan',\n",
       " 'ta',\n",
       " 'men',\n",
       " 'zheng',\n",
       " 'lian',\n",
       " 'shou',\n",
       " 'wei',\n",
       " 'ruan',\n",
       " 'zhao',\n",
       " 'dao',\n",
       " 'yi',\n",
       " 'zhong',\n",
       " 'shi',\n",
       " 'he',\n",
       " 'zhuo',\n",
       " 'mian',\n",
       " 'ping',\n",
       " 'tai',\n",
       " 'de',\n",
       " 'jian',\n",
       " 'gu',\n",
       " 'xing',\n",
       " 'neng',\n",
       " 'he',\n",
       " 'gong',\n",
       " 'hao',\n",
       " 'de',\n",
       " 'wan',\n",
       " 'mei',\n",
       " 'fang',\n",
       " 'an',\n",
       " 'bao',\n",
       " 'dao',\n",
       " 'cheng',\n",
       " 'wei',\n",
       " 'ruan',\n",
       " 'yi',\n",
       " 'jing',\n",
       " 'na',\n",
       " 'dao',\n",
       " 'le',\n",
       " 'yi',\n",
       " 'xie',\n",
       " 'xin',\n",
       " 'de',\n",
       " 'yuan',\n",
       " 'ma',\n",
       " 'yi',\n",
       " 'bian',\n",
       " 'w',\n",
       " 'i',\n",
       " 'n',\n",
       " 'd',\n",
       " 'o',\n",
       " 'w',\n",
       " 's',\n",
       " 'geng',\n",
       " 'hao',\n",
       " 'di',\n",
       " 'li',\n",
       " 'jie',\n",
       " 'b',\n",
       " 'i',\n",
       " 'g',\n",
       " 'l',\n",
       " 'i',\n",
       " 't',\n",
       " 't',\n",
       " 'l',\n",
       " 'e',\n",
       " 'jia',\n",
       " 'gou',\n",
       " 'zi',\n",
       " 'liao',\n",
       " 'xian',\n",
       " 'shi',\n",
       " 'xiao',\n",
       " 'long',\n",
       " 'zuo',\n",
       " 'wei',\n",
       " 'yi',\n",
       " 'kuan',\n",
       " 'ji',\n",
       " 'cheng',\n",
       " 'le',\n",
       " 'c',\n",
       " 'p',\n",
       " 'u',\n",
       " 'g',\n",
       " 'p',\n",
       " 'u',\n",
       " 'ji',\n",
       " 'dai',\n",
       " 'lan',\n",
       " 'ya',\n",
       " 'w',\n",
       " 'i',\n",
       " 'f',\n",
       " 'i',\n",
       " 'de',\n",
       " 's',\n",
       " 'o',\n",
       " 'c',\n",
       " 'bi',\n",
       " 'chuan',\n",
       " 'tong',\n",
       " 'de',\n",
       " 'w',\n",
       " 'i',\n",
       " 'n',\n",
       " 't',\n",
       " 'e',\n",
       " 'l',\n",
       " 'fang',\n",
       " 'an',\n",
       " 'ke',\n",
       " 'yi',\n",
       " 'jie',\n",
       " 'sheng',\n",
       " 'zhi',\n",
       " 'shao',\n",
       " 'de',\n",
       " 'p',\n",
       " 'c',\n",
       " 'b',\n",
       " 'kong',\n",
       " 'jian',\n",
       " 'an',\n",
       " 'ji',\n",
       " 'hua',\n",
       " 'jin',\n",
       " 'nian',\n",
       " 'q',\n",
       " 'hua',\n",
       " 'shuo',\n",
       " 'hui',\n",
       " 'pu',\n",
       " 'lian',\n",
       " 'xiang',\n",
       " 'jiang',\n",
       " 'shou',\n",
       " 'fa',\n",
       " 'xiao',\n",
       " 'long',\n",
       " 'w',\n",
       " 'i',\n",
       " 'n',\n",
       " 'dian',\n",
       " 'nao',\n",
       " 'yu',\n",
       " 'ji',\n",
       " 'jun',\n",
       " 'shi',\n",
       " 'er',\n",
       " 'he',\n",
       " 'yi',\n",
       " 'xing',\n",
       " 'tai',\n",
       " 'de',\n",
       " 'chan',\n",
       " 'pin',\n",
       " 'dang',\n",
       " 'ran',\n",
       " 'gao',\n",
       " 'tong',\n",
       " 'xiao',\n",
       " 'long',\n",
       " 'zhi',\n",
       " 'shi',\n",
       " 'ge',\n",
       " 'kai',\n",
       " 'shi',\n",
       " 'wei',\n",
       " 'lai',\n",
       " 'ye',\n",
       " 'xu',\n",
       " 'huan',\n",
       " 'neng',\n",
       " 'jian',\n",
       " 'dao',\n",
       " 'san',\n",
       " 'xing',\n",
       " 'e',\n",
       " 'x',\n",
       " 'y',\n",
       " 'n',\n",
       " 'o',\n",
       " 's',\n",
       " 'lian',\n",
       " 'fa',\n",
       " 'ke',\n",
       " 'hua',\n",
       " 'wei',\n",
       " 'qi',\n",
       " 'lin',\n",
       " 'xiao',\n",
       " 'mi',\n",
       " 'peng',\n",
       " 'pai',\n",
       " 'deng',\n",
       " 'jin',\n",
       " 'ru',\n",
       " 'w',\n",
       " 'i',\n",
       " 'n',\n",
       " 'd',\n",
       " 'o',\n",
       " 'w',\n",
       " 's',\n",
       " 'zhuo',\n",
       " 'mian',\n",
       " 'ping',\n",
       " 'tai',\n",
       " 'ci',\n",
       " 'qian',\n",
       " 'de',\n",
       " 'yi',\n",
       " 'jia',\n",
       " 't',\n",
       " 'da',\n",
       " 'zai',\n",
       " 'de',\n",
       " 'shi',\n",
       " 'm',\n",
       " 'a',\n",
       " 'h',\n",
       " 'dian',\n",
       " 'chi',\n",
       " 'd',\n",
       " 'a',\n",
       " 's',\n",
       " 'h',\n",
       " 'c',\n",
       " 'h',\n",
       " 'a',\n",
       " 'r',\n",
       " 'g',\n",
       " 'e',\n",
       " 'kuai',\n",
       " 'chong',\n",
       " 'gui',\n",
       " 'ge',\n",
       " 'wei',\n",
       " 'v',\n",
       " 'a',\n",
       " 'zhi',\n",
       " 'yu',\n",
       " 'dian',\n",
       " 'chi',\n",
       " 'suo',\n",
       " 'shui',\n",
       " 'ke',\n",
       " 'neng',\n",
       " 'yu',\n",
       " 'liu',\n",
       " 'zuo',\n",
       " 'hu',\n",
       " 'suo',\n",
       " 'shuo',\n",
       " 'yi',\n",
       " 'jia',\n",
       " 'shou',\n",
       " 'ji',\n",
       " 'yao',\n",
       " 'zuo',\n",
       " 'shi',\n",
       " 'mian',\n",
       " 'zui',\n",
       " 'qing',\n",
       " 'bo',\n",
       " 'da',\n",
       " 'ping',\n",
       " 'qi',\n",
       " 'jian',\n",
       " 'de',\n",
       " 'she',\n",
       " 'ding',\n",
       " 'you',\n",
       " 'guan',\n",
       " 'an',\n",
       " 'zhao',\n",
       " 'mu',\n",
       " 'qian',\n",
       " 'zhang',\n",
       " 'wo',\n",
       " 'de',\n",
       " 'zi',\n",
       " 'liao',\n",
       " 'yi',\n",
       " 'jia',\n",
       " 'shou',\n",
       " 'ji',\n",
       " 'yong',\n",
       " 'you',\n",
       " 'cun',\n",
       " 'p',\n",
       " 'san',\n",
       " 'xing',\n",
       " 'a',\n",
       " 'm',\n",
       " 'o',\n",
       " 'l',\n",
       " 'e',\n",
       " 'd',\n",
       " 'xian',\n",
       " 'shi',\n",
       " 'ping',\n",
       " 'g',\n",
       " 'g',\n",
       " 'b',\n",
       " 'r',\n",
       " 'a',\n",
       " 'm',\n",
       " 'g',\n",
       " 'b',\n",
       " 'g',\n",
       " 'b',\n",
       " 'r',\n",
       " 'o',\n",
       " 'm',\n",
       " 'shuang',\n",
       " 'wan',\n",
       " 'she',\n",
       " 'xiang',\n",
       " 'tou',\n",
       " 'bei',\n",
       " 'huo',\n",
       " 'liang',\n",
       " 'liang',\n",
       " 'xi',\n",
       " 'gen',\n",
       " 'ju',\n",
       " 'jing',\n",
       " 'dong',\n",
       " 'xie',\n",
       " 'lu',\n",
       " 'de',\n",
       " 'xin',\n",
       " 'xi',\n",
       " 'yi',\n",
       " 'jia',\n",
       " 'qi',\n",
       " 'shou',\n",
       " 'jia',\n",
       " 'shi',\n",
       " 'x',\n",
       " 'x',\n",
       " 'yuan',\n",
       " 'ying',\n",
       " 'gai',\n",
       " 'shi',\n",
       " 'zai',\n",
       " 'zhong',\n",
       " 'de',\n",
       " 'mou',\n",
       " 'ge',\n",
       " 'zhe',\n",
       " 'shi',\n",
       " 'yue',\n",
       " 'ri',\n",
       " 'zai',\n",
       " 'pu',\n",
       " 'tao',\n",
       " 'ya',\n",
       " 'zhong',\n",
       " 'bu',\n",
       " 'da',\n",
       " 'pei',\n",
       " 'de',\n",
       " 'luo',\n",
       " 'gang',\n",
       " 'di',\n",
       " 'qu',\n",
       " 'pai',\n",
       " 'she',\n",
       " 'de',\n",
       " 'bei',\n",
       " 'sen',\n",
       " 'lin',\n",
       " 'da',\n",
       " 'huo',\n",
       " 'shao',\n",
       " 'hui',\n",
       " 'de',\n",
       " 'qi',\n",
       " 'che',\n",
       " 'xin',\n",
       " 'hua',\n",
       " 'she',\n",
       " 'ji',\n",
       " 'zhe',\n",
       " 'zhang',\n",
       " 'li',\n",
       " 'yun',\n",
       " 'she',\n",
       " 'yuan',\n",
       " 'biao',\n",
       " 'ti',\n",
       " 'sui',\n",
       " 'nv',\n",
       " 'zi',\n",
       " 'pao',\n",
       " 'shen',\n",
       " 'zhen',\n",
       " 'yue',\n",
       " 'hui',\n",
       " 'wang',\n",
       " 'you',\n",
       " 'bei',\n",
       " 'ju',\n",
       " 'bao',\n",
       " 'yu',\n",
       " 'zhong',\n",
       " 'luo',\n",
       " 'shen',\n",
       " 'ben',\n",
       " 'zou',\n",
       " 'shen',\n",
       " 'zhen',\n",
       " 'jiao',\n",
       " 'jing',\n",
       " 'wei',\n",
       " 'bo',\n",
       " 'cheng',\n",
       " 'zuo',\n",
       " 'ri',\n",
       " 'qing',\n",
       " 'chen',\n",
       " 'jiao',\n",
       " 'jing',\n",
       " 'fa',\n",
       " 'xian',\n",
       " 'you',\n",
       " 'yi',\n",
       " 'nv',\n",
       " 'zi',\n",
       " 'chi',\n",
       " 'luo',\n",
       " 'shang',\n",
       " 'shen',\n",
       " 'xing',\n",
       " 'zou',\n",
       " 'zai',\n",
       " 'nan',\n",
       " 'ping',\n",
       " 'kuai',\n",
       " 'su',\n",
       " 'shang',\n",
       " 'qi',\n",
       " 'jian',\n",
       " 'huan',\n",
       " 'qi',\n",
       " 'le',\n",
       " 'qing',\n",
       " 'sheng',\n",
       " 'nian',\n",
       " 'tou',\n",
       " 'yi',\n",
       " 'fu',\n",
       " 'jing',\n",
       " 'fa',\n",
       " 'xian',\n",
       " 'hou',\n",
       " 'gan',\n",
       " 'jin',\n",
       " 'wei',\n",
       " 'qi',\n",
       " 'pi',\n",
       " 'shang',\n",
       " 'huang',\n",
       " 'yi',\n",
       " 'bing',\n",
       " 'yi',\n",
       " 'lu',\n",
       " 'quan',\n",
       " 'shuo',\n",
       " 'ta',\n",
       " 'na',\n",
       " 'yao',\n",
       " 'shi',\n",
       " 'fa',\n",
       " 'shi',\n",
       " 'dao',\n",
       " 'di',\n",
       " 'du',\n",
       " 'fa',\n",
       " 'sheng',\n",
       " 'le',\n",
       " 'xie',\n",
       " 'shi',\n",
       " 'yao',\n",
       " 'ni',\n",
       " 'nan',\n",
       " 'du',\n",
       " 'ji',\n",
       " 'zhe',\n",
       " 'dai',\n",
       " 'nin',\n",
       " 'yi',\n",
       " 'qi',\n",
       " 'huan',\n",
       " 'yuan',\n",
       " 'xian',\n",
       " 'chang',\n",
       " 'nan',\n",
       " 'du',\n",
       " 'ji',\n",
       " 'zhe',\n",
       " 'zai',\n",
       " 'long',\n",
       " 'gang',\n",
       " 'da',\n",
       " 'dui',\n",
       " 'ban',\n",
       " 'tian',\n",
       " 'zhong',\n",
       " 'dui',\n",
       " 'jian',\n",
       " 'dao',\n",
       " 'le',\n",
       " 'fu',\n",
       " 'jing',\n",
       " 'liu',\n",
       " 'qing',\n",
       " 'fa',\n",
       " 'xian',\n",
       " 'nv',\n",
       " 'sheng',\n",
       " 'de',\n",
       " 'fu',\n",
       " 'jing',\n",
       " 'yi',\n",
       " 'wei',\n",
       " 'wai',\n",
       " 'biao',\n",
       " 'gao',\n",
       " 'da',\n",
       " 'shuai',\n",
       " 'qi',\n",
       " 'shuo',\n",
       " 'hua',\n",
       " 'lve',\n",
       " 'dai',\n",
       " 'xie',\n",
       " 'mian',\n",
       " 'tian',\n",
       " 'de',\n",
       " 'hou',\n",
       " 'qing',\n",
       " 'nian',\n",
       " 'liu',\n",
       " 'qing',\n",
       " 'jie',\n",
       " 'shao',\n",
       " 'yue',\n",
       " 'ri',\n",
       " 'zao',\n",
       " 'shang',\n",
       " 'shi',\n",
       " 'fen',\n",
       " 'ta',\n",
       " 'zheng',\n",
       " 'zai',\n",
       " 'huan',\n",
       " 'cheng',\n",
       " 'nan',\n",
       " 'lu',\n",
       " 'fu',\n",
       " 'jin',\n",
       " 'zhi',\n",
       " 'qin',\n",
       " 'jie',\n",
       " 'dao',\n",
       " 'zhong',\n",
       " 'dui',\n",
       " 'guan',\n",
       " 'yu',\n",
       " 'yi',\n",
       " 'wei',\n",
       " 'nv',\n",
       " 'zi',\n",
       " 'luo',\n",
       " 'shen',\n",
       " 'jin',\n",
       " 'ru',\n",
       " 'ji',\n",
       " 'dong',\n",
       " 'che',\n",
       " 'ke',\n",
       " 'neng',\n",
       " 'you',\n",
       " 'wei',\n",
       " 'xian',\n",
       " 'de',\n",
       " 'jing',\n",
       " 'qing',\n",
       " 'sui',\n",
       " 'hou',\n",
       " 'qi',\n",
       " 'zhao',\n",
       " 'xiao',\n",
       " 'tie',\n",
       " 'qi',\n",
       " 'kai',\n",
       " 'shi',\n",
       " 'yan',\n",
       " 'lu',\n",
       " 'xun',\n",
       " 'zhao',\n",
       " 'da',\n",
       " 'gai',\n",
       " 'hua',\n",
       " 'le',\n",
       " 'shi',\n",
       " 'duo',\n",
       " 'fen',\n",
       " 'zhong',\n",
       " 'zai',\n",
       " 'nan',\n",
       " 'ping',\n",
       " 'da',\n",
       " 'dao',\n",
       " 'ban',\n",
       " 'tian',\n",
       " 'chu',\n",
       " 'kou',\n",
       " 'wang',\n",
       " 'long',\n",
       " 'gang',\n",
       " 'fang',\n",
       " 'xiang',\n",
       " 'de',\n",
       " 'ni',\n",
       " 'xing',\n",
       " 'fu',\n",
       " 'dao',\n",
       " 'shang',\n",
       " 'fa',\n",
       " 'xian',\n",
       " 'gai',\n",
       " 'nv',\n",
       " 'zi',\n",
       " 'nv',\n",
       " 'zi',\n",
       " 'shen',\n",
       " 'shang',\n",
       " 'yi',\n",
       " 'si',\n",
       " 'bu',\n",
       " 'gua',\n",
       " 'di',\n",
       " 'ni',\n",
       " 'che',\n",
       " 'liu',\n",
       " 'er',\n",
       " 'xing',\n",
       " 'shi',\n",
       " 'zou',\n",
       " 'shi',\n",
       " 'ting',\n",
       " 'shi',\n",
       " 'zuo',\n",
       " 'shi',\n",
       " 'tang',\n",
       " 'xian',\n",
       " 'xiang',\n",
       " 'huan',\n",
       " 'sheng',\n",
       " 'liu',\n",
       " 'qing',\n",
       " 'ting',\n",
       " 'hao',\n",
       " 'xiao',\n",
       " 'tie',\n",
       " 'qi',\n",
       " 'he',\n",
       " 'ling',\n",
       " 'wai',\n",
       " 'yi',\n",
       " 'ming',\n",
       " 'xun',\n",
       " 'fang',\n",
       " 'yuan',\n",
       " 'zhui',\n",
       " 'le',\n",
       " 'shang',\n",
       " 'qu',\n",
       " 'fa',\n",
       " 'xian',\n",
       " 'nv',\n",
       " 'zi',\n",
       " 'de',\n",
       " 'qing',\n",
       " 'xu',\n",
       " 'hen',\n",
       " 'di',\n",
       " 'luo',\n",
       " 'hua',\n",
       " 'bu',\n",
       " 'duo',\n",
       " 'liu',\n",
       " 'qing',\n",
       " 'chang',\n",
       " 'shi',\n",
       " 'he',\n",
       " 'nv',\n",
       " 'zi',\n",
       " 'jiao',\n",
       " 'liu',\n",
       " 'quan',\n",
       " 'shuo',\n",
       " 'nv',\n",
       " 'zi',\n",
       " 'li',\n",
       " 'kai',\n",
       " 'ke',\n",
       " 'nv',\n",
       " 'zi',\n",
       " 'bing',\n",
       " 'bu',\n",
       " 'yuan',\n",
       " 'yi',\n",
       " 'jie',\n",
       " 'shou',\n",
       " 'ji',\n",
       " 'xu',\n",
       " 'huan',\n",
       " 'man',\n",
       " 'di',\n",
       " 'wang',\n",
       " 'nan',\n",
       " 'ping',\n",
       " 'kuai',\n",
       " 'su',\n",
       " 'lu',\n",
       " 'de',\n",
       " 'zhu',\n",
       " 'gan',\n",
       " 'dao',\n",
       " 'shang',\n",
       " 'zou',\n",
       " 'qu',\n",
       " 'ci',\n",
       " 'shi',\n",
       " 'lu',\n",
       " 'bian',\n",
       " 'shang',\n",
       " 'yi',\n",
       " 'jing',\n",
       " 'ju',\n",
       " 'ji',\n",
       " 'le',\n",
       " 'hen',\n",
       " 'shi',\n",
       " 'min',\n",
       " 'wei',\n",
       " 'guan',\n",
       " 'wei',\n",
       " 'le',\n",
       " 'bu',\n",
       " 'ci',\n",
       " 'ji',\n",
       " 'nv',\n",
       " 'zi',\n",
       " 'de',\n",
       " 'qing',\n",
       " 'xu',\n",
       " 'liu',\n",
       " 'qing',\n",
       " 'he',\n",
       " 'xun',\n",
       " 'fang',\n",
       " 'yuan',\n",
       " 'yi',\n",
       " 'bian',\n",
       " 'ding',\n",
       " 'zhao',\n",
       " 'nv',\n",
       " 'zi',\n",
       " 'yi',\n",
       " 'bian',\n",
       " 'qu',\n",
       " 'gan',\n",
       " 'zhao',\n",
       " 'wei',\n",
       " 'guan',\n",
       " 'de',\n",
       " 'qun',\n",
       " 'zhong',\n",
       " 'xian',\n",
       " 'chang',\n",
       " 'huan',\n",
       " 'yuan',\n",
       " 'cong',\n",
       " 'jing',\n",
       " 'fang',\n",
       " 'ti',\n",
       " 'gong',\n",
       " 'de',\n",
       " 'yi',\n",
       " 'fen',\n",
       " 'shi',\n",
       " 'pin',\n",
       " 'le',\n",
       " 'jie',\n",
       " 'dao',\n",
       " 'ri',\n",
       " 'zao',\n",
       " 'shang',\n",
       " 'shi',\n",
       " ...]"
      ]
     },
     "execution_count": 42,
     "metadata": {},
     "output_type": "execute_result"
    }
   ],
   "source": [
    "tokens(CHINESE_CHARATERS_COPYS[:-100])"
   ]
  },
  {
   "cell_type": "code",
   "execution_count": 43,
   "metadata": {},
   "outputs": [],
   "source": [
    "from collections import Counter, defaultdict"
   ]
  },
  {
   "cell_type": "code",
   "execution_count": 44,
   "metadata": {},
   "outputs": [],
   "source": [
    "PINYIN_COUNT = Counter(tokens(CHINESE_CHARATERS_COPYS))"
   ]
  },
  {
   "cell_type": "code",
   "execution_count": 45,
   "metadata": {
    "scrolled": true
   },
   "outputs": [
    {
     "data": {
      "text/plain": [
       "Counter({'ci': 95927,\n",
       "         'wai': 131353,\n",
       "         'zi': 192620,\n",
       "         'ben': 55466,\n",
       "         'zhou': 80326,\n",
       "         'yue': 258519,\n",
       "         'ri': 278379,\n",
       "         'qi': 251164,\n",
       "         'chu': 156005,\n",
       "         'xiao': 126736,\n",
       "         'mi': 40857,\n",
       "         'shou': 175635,\n",
       "         'ji': 645276,\n",
       "         'deng': 77672,\n",
       "         'kuan': 13631,\n",
       "         'xing': 241741,\n",
       "         'yu': 302949,\n",
       "         'yi': 682476,\n",
       "         'zan': 6671,\n",
       "         'ting': 31732,\n",
       "         'geng': 35528,\n",
       "         'xin': 359619,\n",
       "         'fa': 233137,\n",
       "         'bu': 281533,\n",
       "         'han': 39849,\n",
       "         'kai': 94310,\n",
       "         'ban': 83215,\n",
       "         'ti': 176853,\n",
       "         'yan': 125085,\n",
       "         'nei': 55595,\n",
       "         'ce': 30897,\n",
       "         'wen': 121636,\n",
       "         'ding': 60586,\n",
       "         'ying': 140071,\n",
       "         'xiang': 196711,\n",
       "         'que': 26243,\n",
       "         'bao': 132256,\n",
       "         'gong': 259593,\n",
       "         'cheng': 210265,\n",
       "         'shi': 860634,\n",
       "         'ke': 173705,\n",
       "         'zhong': 409418,\n",
       "         'quan': 122978,\n",
       "         'jing': 220467,\n",
       "         'li': 355446,\n",
       "         'jin': 278141,\n",
       "         'xi': 217848,\n",
       "         'tong': 166443,\n",
       "         'you': 277726,\n",
       "         'hua': 304941,\n",
       "         'zuo': 143828,\n",
       "         'ren': 257321,\n",
       "         'cai': 61649,\n",
       "         'zhe': 205224,\n",
       "         'ye': 197406,\n",
       "         'jiang': 139873,\n",
       "         'zhu': 191577,\n",
       "         'yao': 113571,\n",
       "         'yong': 84428,\n",
       "         'dao': 167050,\n",
       "         'm': 9553,\n",
       "         'i': 18582,\n",
       "         'u': 5749,\n",
       "         'de': 809887,\n",
       "         'zhi': 398612,\n",
       "         'qu': 134248,\n",
       "         'nian': 231398,\n",
       "         'ju': 173114,\n",
       "         'hou': 81943,\n",
       "         'huan': 85167,\n",
       "         'dai': 171074,\n",
       "         'le': 166313,\n",
       "         'dang': 97034,\n",
       "         'ran': 31255,\n",
       "         'guan': 164991,\n",
       "         'qie': 19339,\n",
       "         'wo': 64661,\n",
       "         'men': 85361,\n",
       "         'fang': 161433,\n",
       "         'long': 24681,\n",
       "         'wei': 326301,\n",
       "         'guo': 430042,\n",
       "         'w': 3392,\n",
       "         'n': 691114,\n",
       "         'd': 7013,\n",
       "         'o': 15167,\n",
       "         's': 11952,\n",
       "         'zhuo': 3423,\n",
       "         'mian': 63247,\n",
       "         'ping': 79401,\n",
       "         'tai': 76995,\n",
       "         'zheng': 160688,\n",
       "         'a': 56097,\n",
       "         'r': 9789,\n",
       "         'gao': 103450,\n",
       "         'qiang': 49757,\n",
       "         'diao': 33303,\n",
       "         'hui': 187634,\n",
       "         'yin': 91363,\n",
       "         'kao': 23915,\n",
       "         'lv': 58491,\n",
       "         'neng': 73153,\n",
       "         'er': 208539,\n",
       "         'bi': 131886,\n",
       "         'he': 285681,\n",
       "         'fan': 56555,\n",
       "         'ta': 94143,\n",
       "         'lian': 102755,\n",
       "         'ruan': 3579,\n",
       "         'zhao': 125457,\n",
       "         'jian': 248173,\n",
       "         'gu': 71739,\n",
       "         'hao': 64391,\n",
       "         'wan': 97245,\n",
       "         'mei': 145101,\n",
       "         'an': 90356,\n",
       "         'na': 50163,\n",
       "         'xie': 70147,\n",
       "         'yuan': 248823,\n",
       "         'ma': 61893,\n",
       "         'bian': 55446,\n",
       "         'di': 221266,\n",
       "         'jie': 208675,\n",
       "         'b': 11759,\n",
       "         'g': 6150,\n",
       "         'l': 6926,\n",
       "         't': 11825,\n",
       "         'e': 47625,\n",
       "         'jia': 239795,\n",
       "         'gou': 43841,\n",
       "         'liao': 23609,\n",
       "         'xian': 269055,\n",
       "         'c': 15442,\n",
       "         'p': 12319,\n",
       "         'lan': 49977,\n",
       "         'ya': 77529,\n",
       "         'f': 4848,\n",
       "         'chuan': 45328,\n",
       "         'sheng': 211580,\n",
       "         'shao': 34721,\n",
       "         'kong': 44384,\n",
       "         'q': 854,\n",
       "         'shuo': 58205,\n",
       "         'pu': 35531,\n",
       "         'dian': 125203,\n",
       "         'nao': 5209,\n",
       "         'jun': 55519,\n",
       "         'chan': 67157,\n",
       "         'pin': 72590,\n",
       "         'ge': 191779,\n",
       "         'lai': 104997,\n",
       "         'xu': 81654,\n",
       "         'san': 42992,\n",
       "         'x': 2464,\n",
       "         'y': 2408,\n",
       "         'lin': 34671,\n",
       "         'peng': 13337,\n",
       "         'pai': 42251,\n",
       "         'ru': 77086,\n",
       "         'qian': 107612,\n",
       "         'da': 247785,\n",
       "         'zai': 334105,\n",
       "         'h': 7299,\n",
       "         'chi': 48566,\n",
       "         'kuai': 22115,\n",
       "         'chong': 16869,\n",
       "         'gui': 51986,\n",
       "         'v': 2696,\n",
       "         'suo': 47392,\n",
       "         'shui': 50990,\n",
       "         'liu': 54770,\n",
       "         'hu': 88138,\n",
       "         'zui': 52532,\n",
       "         'qing': 95699,\n",
       "         'bo': 54349,\n",
       "         'she': 293312,\n",
       "         'mu': 98791,\n",
       "         'zhang': 54556,\n",
       "         'cun': 39815,\n",
       "         'shuang': 18391,\n",
       "         'tou': 62353,\n",
       "         'bei': 133864,\n",
       "         'huo': 105706,\n",
       "         'liang': 101795,\n",
       "         'gen': 18393,\n",
       "         'dong': 142750,\n",
       "         'lu': 103611,\n",
       "         'gai': 54883,\n",
       "         'mou': 11153,\n",
       "         'tao': 23543,\n",
       "         'pei': 24575,\n",
       "         'luo': 70710,\n",
       "         'gang': 42651,\n",
       "         'sen': 9157,\n",
       "         'che': 51184,\n",
       "         'yun': 47373,\n",
       "         'biao': 87671,\n",
       "         'sui': 31407,\n",
       "         'nv': 24378,\n",
       "         'pao': 9251,\n",
       "         'shen': 82053,\n",
       "         'zhen': 52175,\n",
       "         'wang': 106302,\n",
       "         'zou': 20935,\n",
       "         'jiao': 114201,\n",
       "         'chen': 22240,\n",
       "         'shang': 178941,\n",
       "         'nan': 73866,\n",
       "         'su': 56942,\n",
       "         'fu': 194850,\n",
       "         'gan': 40076,\n",
       "         'pi': 22168,\n",
       "         'huang': 23291,\n",
       "         'bing': 62256,\n",
       "         'du': 125547,\n",
       "         'ni': 41237,\n",
       "         'nin': 737,\n",
       "         'chang': 193611,\n",
       "         'dui': 182885,\n",
       "         'tian': 64685,\n",
       "         'shuai': 3948,\n",
       "         'lve': 9851,\n",
       "         'zao': 45572,\n",
       "         'fen': 105101,\n",
       "         'qin': 18027,\n",
       "         'tie': 18972,\n",
       "         'xun': 38827,\n",
       "         'duo': 94887,\n",
       "         'kou': 24597,\n",
       "         'si': 175066,\n",
       "         'gua': 5745,\n",
       "         'tang': 13190,\n",
       "         'ling': 58903,\n",
       "         'ming': 101077,\n",
       "         'zhui': 6638,\n",
       "         'hen': 21310,\n",
       "         'man': 29201,\n",
       "         'min': 75446,\n",
       "         'qun': 14543,\n",
       "         'cong': 43473,\n",
       "         'xue': 90928,\n",
       "         'bai': 39411,\n",
       "         'se': 19140,\n",
       "         'ku': 14978,\n",
       "         'feng': 50140,\n",
       "         'zu': 89638,\n",
       "         'dan': 85678,\n",
       "         'xia': 76389,\n",
       "         'kan': 30486,\n",
       "         'yang': 79502,\n",
       "         'kuang': 19987,\n",
       "         'pa': 5395,\n",
       "         'bie': 18958,\n",
       "         'niu': 13444,\n",
       "         'jue': 49487,\n",
       "         'ga': 649,\n",
       "         'rang': 22941,\n",
       "         'tu': 58771,\n",
       "         'tiao': 24252,\n",
       "         'mang': 4776,\n",
       "         'la': 48821,\n",
       "         'ai': 28530,\n",
       "         'ba': 68917,\n",
       "         'reng': 8160,\n",
       "         'nai': 6184,\n",
       "         'duan': 43754,\n",
       "         'tuo': 23502,\n",
       "         'jiu': 92105,\n",
       "         'shun': 6373,\n",
       "         'bang': 16868,\n",
       "         'mao': 28512,\n",
       "         'pian': 74571,\n",
       "         'pang': 8421,\n",
       "         'niang': 1904,\n",
       "         'shu': 110081,\n",
       "         'lao': 29267,\n",
       "         'cuo': 10467,\n",
       "         'song': 19461,\n",
       "         'kang': 14053,\n",
       "         'shan': 54211,\n",
       "         'nuan': 2504,\n",
       "         'z': 909,\n",
       "         'piao': 12301,\n",
       "         'lang': 19944,\n",
       "         'sa': 11606,\n",
       "         'mo': 49000,\n",
       "         'dun': 19333,\n",
       "         'cha': 48661,\n",
       "         'j': 1181,\n",
       "         'hai': 77075,\n",
       "         'wu': 194660,\n",
       "         'huai': 6450,\n",
       "         'guai': 1021,\n",
       "         'rong': 38777,\n",
       "         'pan': 18978,\n",
       "         'hong': 24568,\n",
       "         'zhuang': 43810,\n",
       "         'xiu': 25777,\n",
       "         'fei': 69077,\n",
       "         'chao': 31798,\n",
       "         'die': 9410,\n",
       "         'xuan': 63887,\n",
       "         'zhan': 155206,\n",
       "         'tuan': 24587,\n",
       "         'zeng': 33555,\n",
       "         'guang': 47297,\n",
       "         're': 14519,\n",
       "         'teng': 3659,\n",
       "         'nuo': 13496,\n",
       "         'qiao': 12691,\n",
       "         'po': 20933,\n",
       "         'tui': 39023,\n",
       "         'zen': 2746,\n",
       "         'k': 2860,\n",
       "         'qiu': 129226,\n",
       "         'chuai': 161,\n",
       "         'sha': 22362,\n",
       "         'xiong': 11973,\n",
       "         'chou': 10792,\n",
       "         'hei': 8962,\n",
       "         'lei': 34697,\n",
       "         'hang': 24149,\n",
       "         'zong': 61540,\n",
       "         'zhai': 15281,\n",
       "         'zhun': 19159,\n",
       "         'lou': 7060,\n",
       "         'cao': 12233,\n",
       "         'suan': 9509,\n",
       "         'zhuan': 50099,\n",
       "         'chuang': 40373,\n",
       "         'ruo': 5375,\n",
       "         'ze': 37238,\n",
       "         'cui': 3759,\n",
       "         'luan': 3281,\n",
       "         'lun': 47136,\n",
       "         'mai': 23530,\n",
       "         'beng': 846,\n",
       "         'cu': 9712,\n",
       "         'fou': 5574,\n",
       "         'ao': 26680,\n",
       "         'tan': 41650,\n",
       "         'shua': 1871,\n",
       "         'heng': 8216,\n",
       "         'gei': 17653,\n",
       "         'chun': 14420,\n",
       "         'run': 2850,\n",
       "         'cang': 9186,\n",
       "         'zhua': 6147,\n",
       "         'kua': 5927,\n",
       "         'hun': 9054,\n",
       "         'ou': 35066,\n",
       "         'bin': 10709,\n",
       "         'ceng': 19486,\n",
       "         'zha': 12523,\n",
       "         'ne': 567,\n",
       "         'qia': 20841,\n",
       "         'te': 64610,\n",
       "         'sun': 8415,\n",
       "         'sao': 3887,\n",
       "         'rao': 4722,\n",
       "         'keng': 785,\n",
       "         'meng': 30042,\n",
       "         'ka': 3334,\n",
       "         'ca': 522,\n",
       "         'nong': 25686,\n",
       "         'chai': 2512,\n",
       "         'kuo': 15644,\n",
       "         'ning': 12436,\n",
       "         'chui': 1747,\n",
       "         'en': 5109,\n",
       "         'can': 39732,\n",
       "         'lie': 24859,\n",
       "         'leng': 3030,\n",
       "         'miao': 8525,\n",
       "         'nu': 6476,\n",
       "         'za': 3646,\n",
       "         'dou': 8805,\n",
       "         'zun': 3286,\n",
       "         'sai': 158316,\n",
       "         'kun': 13378,\n",
       "         'sang': 3927,\n",
       "         'sou': 1795,\n",
       "         'ha': 11032,\n",
       "         'rui': 8843,\n",
       "         'wa': 14877,\n",
       "         'shai': 1172,\n",
       "         'gun': 1171,\n",
       "         'fo': 2970,\n",
       "         'diu': 843,\n",
       "         'juan': 5569,\n",
       "         'nie': 1358,\n",
       "         'cou': 197,\n",
       "         'ken': 4838,\n",
       "         'kui': 2256,\n",
       "         'niao': 2981,\n",
       "         'rou': 3992,\n",
       "         'miu': 40,\n",
       "         'qiong': 2279,\n",
       "         'weng': 966,\n",
       "         'mie': 1117,\n",
       "         'nang': 580,\n",
       "         'pen': 2318,\n",
       "         'zuan': 1616,\n",
       "         'zang': 3421,\n",
       "         'ang': 3089,\n",
       "         'lia': 539,\n",
       "         'zei': 74,\n",
       "         'jiong': 213,\n",
       "         'nve': 612,\n",
       "         'cuan': 207,\n",
       "         'tun': 1824,\n",
       "         'yo': 14,\n",
       "         'chuo': 242,\n",
       "         'pie': 151,\n",
       "         'pou': 204,\n",
       "         'shuan': 171,\n",
       "         'nen': 933,\n",
       "         'seng': 211,\n",
       "         'cen': 259,\n",
       "         'dia': 34})"
      ]
     },
     "execution_count": 45,
     "metadata": {},
     "output_type": "execute_result"
    }
   ],
   "source": [
    "PINYIN_COUNT"
   ]
  },
  {
   "cell_type": "code",
   "execution_count": 46,
   "metadata": {},
   "outputs": [],
   "source": [
    "all_pinyin = tokens(CHINESE_CHARATERS_COPYS)"
   ]
  },
  {
   "cell_type": "code",
   "execution_count": 47,
   "metadata": {},
   "outputs": [
    {
     "data": {
      "text/plain": [
       "['ci',\n",
       " 'wai',\n",
       " 'zi',\n",
       " 'ben',\n",
       " 'zhou',\n",
       " 'yue',\n",
       " 'ri',\n",
       " 'qi',\n",
       " 'chu',\n",
       " 'xiao',\n",
       " 'mi',\n",
       " 'shou',\n",
       " 'ji',\n",
       " 'deng',\n",
       " 'kuan',\n",
       " 'ji',\n",
       " 'xing',\n",
       " 'wai',\n",
       " 'qi',\n",
       " 'yu']"
      ]
     },
     "execution_count": 47,
     "metadata": {},
     "output_type": "execute_result"
    }
   ],
   "source": [
    "all_pinyin[:20]"
   ]
  },
  {
   "cell_type": "code",
   "execution_count": 48,
   "metadata": {},
   "outputs": [],
   "source": [
    "def correct(word):\n",
    "    'Find the most possible pinyin based on edit distance'\n",
    "    # Prefer edit distance 0, then 1, then 2; otherwist default to word itself\n",
    "    candidates = (known(edits0(word)) or\n",
    "                  known(edits1(word)) or\n",
    "                  known(edits2(word)) or\n",
    "                  [word])\n",
    "    return max(candidates,key=PINYIN_COUNT.get)"
   ]
  },
  {
   "cell_type": "code",
   "execution_count": 49,
   "metadata": {},
   "outputs": [],
   "source": [
    "def known(words):\n",
    "    'Return the pinyin in our data'\n",
    "    return {w for w in words if w in PINYIN_COUNT}\n",
    "\n",
    "def edits0(word):\n",
    "    'Return all strings that are zero edits away from word (i.e., just word itself).'\n",
    "    return {word}\n",
    "\n",
    "def edits2(word):\n",
    "    'Return all strings that are two edits away from this pinyin.'\n",
    "    return {e2 for e1 in edits1(word) for e2 in edits1(e1)}"
   ]
  },
  {
   "cell_type": "code",
   "execution_count": 50,
   "metadata": {},
   "outputs": [],
   "source": [
    "alphabet = 'abcdefghijklmnopqrstuvwxyz'\n",
    "\n",
    "def splits(word):\n",
    "    'Return a list of all possible (first, rest) pairs that comprise pinyin.'\n",
    "    return [(word[:i], word[i:])\n",
    "           for i in range(len(word)+1)]\n",
    "\n",
    "def edits1(word):\n",
    "    'Return all strings that are one edit away from this pinyin.'\n",
    "    pairs = splits(word)\n",
    "    deletes = [a+b[1:] for (a,b) in pairs if b]\n",
    "    transposes = [a+b[1]+b[0]+b[2:] for (a,b) in pairs if len(b) > 1]\n",
    "    replaces = [a+c+b[1:] for (a,b) in pairs for c in alphabet if b]\n",
    "    inserts = [a+c+b for (a,b) in pairs for c in alphabet]\n",
    "    return set(deletes + transposes + replaces + inserts)"
   ]
  },
  {
   "cell_type": "code",
   "execution_count": 51,
   "metadata": {},
   "outputs": [
    {
     "data": {
      "text/plain": [
       "[('', 'pinyin'),\n",
       " ('p', 'inyin'),\n",
       " ('pi', 'nyin'),\n",
       " ('pin', 'yin'),\n",
       " ('piny', 'in'),\n",
       " ('pinyi', 'n'),\n",
       " ('pinyin', '')]"
      ]
     },
     "execution_count": 51,
     "metadata": {},
     "output_type": "execute_result"
    }
   ],
   "source": [
    "splits('pinyin')"
   ]
  },
  {
   "cell_type": "code",
   "execution_count": 52,
   "metadata": {},
   "outputs": [
    {
     "name": "stdout",
     "output_type": "stream",
     "text": [
      "{'pinyin'}\n"
     ]
    }
   ],
   "source": [
    "print(edits0('pinyin'))"
   ]
  },
  {
   "cell_type": "code",
   "execution_count": 53,
   "metadata": {},
   "outputs": [
    {
     "name": "stdout",
     "output_type": "stream",
     "text": [
      "{'pinzyin', 'pirnyin', 'prnyin', 'pinyin', 'pinyhin', 'pvnyin', 'pinyiy', 'pingin', 'piiyin', 'pinkyin', 'pibnyin', 'pinykn', 'pinyins', 'pinyidn', 'pinyitn', 'pmnyin', 'pninyin', 'finyin', 'piryin', 'piqyin', 'pinywin', 'piwyin', 'piunyin', 'pinydin', 'puinyin', 'jpinyin', 'xinyin', 'yinyin', 'sinyin', 'pintyin', 'phnyin', 'pinytn', 'pinyjn', 'ipinyin', 'pkinyin', 'pinykin', 'pinyinp', 'pinyan', 'pinsin', 'pinyinf', 'pinylin', 'pinyirn', 'pinqin', 'pinyil', 'pityin', 'pinpyin', 'linyin', 'pinmyin', 'winyin', 'psinyin', 'pinyinq', 'pinin', 'piuyin', 'qpinyin', 'pnyin', 'pinyhn', 'pinyiny', 'dpinyin', 'pinyign', 'pinyfn', 'penyin', 'pinuin', 'pindyin', 'pisyin', 'pinyic', 'pdinyin', 'rinyin', 'pinyzin', 'pinyni', 'panyin', 'pinyrn', 'pinyit', 'pminyin', 'pinyir', 'pinayin', 'gpinyin', 'jinyin', 'piyin', 'qinyin', 'pivnyin', 'pidyin', 'pioyin', 'piznyin', 'pinyinl', 'dinyin', 'fpinyin', 'pinyiwn', 'pdnyin', 'pinoyin', 'pinain', 'peinyin', 'pinqyin', 'piwnyin', 'pinkin', 'pjnyin', 'pinyio', 'ppnyin', 'pinyqin', 'pinyind', 'pinybin', 'pzinyin', 'pinzin', 'pinyqn', 'pginyin', 'pinybn', 'pinyink', 'pinyif', 'lpinyin', 'pinoin', 'ipnyin', 'ppinyin', 'pinyi', 'pinbyin', 'kpinyin', 'minyin', 'pinnyin', 'pinyis', 'ninyin', 'pinyiz', 'pgnyin', 'pifnyin', 'pinyig', 'pinyimn', 'pimnyin', 'pinyik', 'uinyin', 'pxnyin', 'pipnyin', 'pinyid', 'pinyon', 'pinysin', 'pinyij', 'pinlin', 'pinyein', 'pinyyin', 'pinyixn', 'pinyinu', 'pinying', 'upinyin', 'pineyin', 'pinydn', 'piayin', 'pimyin', 'spinyin', 'xpinyin', 'piknyin', 'piynyin', 'pindin', 'pinyipn', 'pinymn', 'pinyain', 'pinyino', 'pihnyin', 'picyin', 'pinyinz', 'pinyijn', 'pinryin', 'ponyin', 'pieyin', 'piniyin', 'pikyin', 'pinyikn', 'pinhyin', 'pinyyn', 'ainyin', 'pinein', 'pinycn', 'pibyin', 'pniyin', 'pinynn', 'pionyin', 'pinyiq', 'piyyin', 'pbinyin', 'pienyin', 'pinypn', 'pincyin', 'pinyxin', 'pinyinw', 'pinyinx', 'pinygn', 'pinyln', 'pqnyin', 'pinycin', 'pinyiv', 'pinyip', 'pinrin', 'pinyina', 'picnyin', 'pinjin', 'pinyn', 'pizyin', 'vinyin', 'piniyn', 'pinuyin', 'zpinyin', 'piynin', 'pintin', 'cpinyin', 'pinyrin', 'iinyin', 'pinyun', 'ptinyin', 'tinyin', 'pinyibn', 'pinvin', 'plnyin', 'pinyinb', 'pivyin', 'phinyin', 'plinyin', 'kinyin', 'pznyin', 'pixyin', 'pinyzn', 'vpinyin', 'pinlyin', 'pinymin', 'pinvyin', 'piniin', 'pipyin', 'ptnyin', 'pinwyin', 'pwinyin', 'pilyin', 'pinyiun', 'pinyen', 'pidnyin', 'pyinyin', 'pinywn', 'pinyie', 'pinyiqn', 'pihyin', 'pinyien', 'oinyin', 'pinygin', 'pinyvin', 'einyin', 'pinyjin', 'painyin', 'pinyifn', 'pinyim', 'hinyin', 'opinyin', 'psnyin', 'pinbin', 'pinyion', 'pingyin', 'zinyin', 'pignyin', 'pfinyin', 'apinyin', 'pinyiin', 'pinyicn', 'pinyoin', 'pwnyin', 'inyin', 'pynyin', 'pinyizn', 'pinsyin', 'pinyinj', 'pinyinr', 'pinytin', 'hpinyin', 'pinyix', 'pnnyin', 'pinxin', 'pinyii', 'pinyivn', 'pianyin', 'pifyin', 'pigyin', 'pxinyin', 'pinyisn', 'pinfyin', 'cinyin', 'pitnyin', 'pinyfin', 'pinyxn', 'pinyian', 'pinyihn', 'pisnyin', 'pfnyin', 'npinyin', 'pinjyin', 'pinyinc', 'pjinyin', 'pinnin', 'bpinyin', 'pinyinh', 'punyin', 'pinyiln', 'pvinyin', 'pinyib', 'piinyin', 'pijnyin', 'wpinyin', 'pinyiu', 'pinypin', 'pinpin', 'rpinyin', 'tpinyin', 'pixnyin', 'pinwin', 'pinxyin', 'pinyine', 'pinyvn', 'pinyiw', 'pincin', 'pcinyin', 'pinysn', 'pinmin', 'pinyiyn', 'pinynin', 'pinyuin', 'piqnyin', 'pinyint', 'pinfin', 'pcnyin', 'pijyin', 'pinyinn', 'pinhin', 'ypinyin', 'pinyia', 'pilnyin', 'epinyin', 'pbnyin', 'poinyin', 'ginyin', 'pinyinm', 'pqinyin', 'prinyin', 'pinyinv', 'pinyih', 'pinyini', 'pknyin', 'mpinyin', 'binyin'}\n"
     ]
    }
   ],
   "source": [
    "print(edits1('pinyin'))"
   ]
  },
  {
   "cell_type": "markdown",
   "metadata": {},
   "source": [
    "# Test"
   ]
  },
  {
   "cell_type": "code",
   "execution_count": 54,
   "metadata": {},
   "outputs": [
    {
     "data": {
      "text/plain": [
       "'yin'"
      ]
     },
     "execution_count": 54,
     "metadata": {},
     "output_type": "execute_result"
    }
   ],
   "source": [
    "correct('yin')"
   ]
  },
  {
   "cell_type": "code",
   "execution_count": 55,
   "metadata": {},
   "outputs": [
    {
     "data": {
      "text/plain": [
       "'ying'"
      ]
     },
     "execution_count": 55,
     "metadata": {},
     "output_type": "execute_result"
    }
   ],
   "source": [
    "correct('yign')"
   ]
  },
  {
   "cell_type": "code",
   "execution_count": 56,
   "metadata": {},
   "outputs": [
    {
     "data": {
      "text/plain": [
       "'ying'"
      ]
     },
     "execution_count": 56,
     "metadata": {},
     "output_type": "execute_result"
    }
   ],
   "source": [
    "correct('yinn')"
   ]
  },
  {
   "cell_type": "code",
   "execution_count": 57,
   "metadata": {},
   "outputs": [],
   "source": [
    "def correct_sequence_pinyin(text_pinyin):\n",
    "    return ' '.join(map(correct, text_pinyin.split()))"
   ]
  },
  {
   "cell_type": "code",
   "execution_count": 58,
   "metadata": {},
   "outputs": [
    {
     "data": {
      "text/plain": [
       "'zhe shi yi ge ce shi'"
      ]
     },
     "execution_count": 58,
     "metadata": {},
     "output_type": "execute_result"
    }
   ],
   "source": [
    "correct_sequence_pinyin('zhe sih yi ge ce sho')"
   ]
  },
  {
   "cell_type": "code",
   "execution_count": 59,
   "metadata": {},
   "outputs": [
    {
     "name": "stdout",
     "output_type": "stream",
     "text": [
      "Wall time: 0 ns\n",
      "Compiler : 236 ms\n"
     ]
    },
    {
     "data": {
      "text/plain": [
       "'wo xiang shang qing hua da xue'"
      ]
     },
     "execution_count": 59,
     "metadata": {},
     "output_type": "execute_result"
    }
   ],
   "source": [
    "%%time\n",
    "correct_sequence_pinyin('wo xiang shagn qinng hua da xue')"
   ]
  },
  {
   "cell_type": "code",
   "execution_count": 60,
   "metadata": {},
   "outputs": [
    {
     "data": {
      "text/plain": [
       "'wo xiang shang qing hua da xue'"
      ]
     },
     "execution_count": 60,
     "metadata": {},
     "output_type": "execute_result"
    }
   ],
   "source": [
    "correct_sequence_pinyin('wo xiang shagn qinng hau da xeu')"
   ]
  },
  {
   "cell_type": "markdown",
   "metadata": {},
   "source": [
    "# 思考题-homework？    \n",
    "#### 如何在不带空格的时候完成自动修整？--> 如何完成拼音的自动分割？   \n",
    "###### 提示：使用第一节课提到的语言模型!"
   ]
  },
  {
   "cell_type": "markdown",
   "metadata": {},
   "source": [
    "woyaoshangqinghua\n",
    "w yaoshangqinghua\n",
    "wo yaoshangqinghua\n",
    "woyao shangqinghua\n",
    "\n",
    "-> DP"
   ]
  },
  {
   "cell_type": "code",
   "execution_count": 61,
   "metadata": {},
   "outputs": [],
   "source": [
    "import re\n",
    "import pinyin\n",
    "from collections import Counter\n",
    "from functools import lru_cache"
   ]
  },
  {
   "cell_type": "code",
   "execution_count": 62,
   "metadata": {},
   "outputs": [],
   "source": [
    "# 读取数据并使用tokens函数提取中文\n",
    "def tokens(text):   \n",
    "    return ''.join(re.findall('[\\u4e00-\\u9fff]', text))"
   ]
  },
  {
   "cell_type": "code",
   "execution_count": 63,
   "metadata": {},
   "outputs": [],
   "source": [
    "class PinyinCouter:\n",
    "    \"\"\"Provide the operations to counter in Chinese-Pinyin.\"\"\"\n",
    "    def __init__(self, dataset, counters={}):\n",
    "        \"\"\"\n",
    "        Create the obj with two attributes.\n",
    "        :param dataset: The file path\n",
    "        :param counter: Defaul couter by a blank dict\n",
    "        \"\"\"\n",
    "        self._dataset = dataset\n",
    "        self._counter = counters\n",
    "\n",
    "    @property\n",
    "    def get_counter(self):\n",
    "        return self._counter\n",
    "    \n",
    "    # 读取数据并使用tokens函数提取中文\n",
    "    def read_file(self):\n",
    "        with open(self._dataset) as f:  \n",
    "            CHINESE_CHARATERS = f.read()\n",
    "            CHINESE_CHARATERS = tokens(CHINESE_CHARATERS)\n",
    "        filter_list = re.findall('[^[a-zA-Z0-9]+', CHINESE_CHARATERS.replace('\\n', \"\"))\n",
    "        filter_text = \"\".join(filter_list)\n",
    "        return filter_text\n",
    "    \n",
    "    # 把读取的数据转成拼音\n",
    "    @property\n",
    "    def pinyin_pair(self):\n",
    "        return pinyin.get(self.read_file(), format=\"strip\", delimiter=\" \")\n",
    "    \n",
    "    # 把拼音用Counter统计数量\n",
    "    def pinyin_counter(self):\n",
    "        pinyin_list = self.pinyin_pair.split(\" \")\n",
    "        self._counter = Counter(pinyin_list)\n",
    "    \n",
    "    # 生成n-gram数据，假如n为4，则把2,3,4-gram的数据整合在一起\n",
    "    def expand_counter(self, n):\n",
    "        \"\"\"\n",
    "        Expand the counter to 2-gram, 3-gram, 4-gram... till n-gram.\n",
    "        :param n: the ngram model number\n",
    "        :return: a final big counter\n",
    "        \"\"\"\n",
    "        final_counter = Counter()\n",
    "        for i in range(2, n+1):\n",
    "            expand_list = generate_ngrams(self.pinyin_pair, i)\n",
    "            final_counter += Counter(expand_list)\n",
    "        return self.get_counter + final_counter"
   ]
  },
  {
   "cell_type": "code",
   "execution_count": 64,
   "metadata": {},
   "outputs": [],
   "source": [
    "class EditDistance:\n",
    "    \"\"\"\n",
    "    Provide the operation to calculate the edit distance.\n",
    "    :Attribute alphabet: the Letter string between a-z.\n",
    "    \"\"\"\n",
    "    alphabet = 'abcdefghijklmnopqrstuvwxyz'\n",
    "    \n",
    "    def __init__(self):\n",
    "        pass\n",
    "\n",
    "    def edits0(self, word):\n",
    "        \"\"\"Return all strings that are zero edits away from word (i.e., just word itself).\"\"\"\n",
    "        return {word}\n",
    "\n",
    "    def edits2(self, word):\n",
    "        \"\"\"Return all strings that are two edits away from this pinyin.\"\"\"\n",
    "        return {e2 for e1 in self.edits1(word) for e2 in self.edits1(e1)}\n",
    "\n",
    "    def edits3(self, word):\n",
    "        \"\"\"Return all strings that are three edits away from this pinyin.\"\"\"\n",
    "        return {e3 for e2 in self.edits2(word) for e3 in self.edits1(e2)}\n",
    "\n",
    "    def edits1(self, word):\n",
    "        \"\"\"Return all strings that are one edit away from this pinyin\"\"\"\n",
    "        pairs = self.splits(word)\n",
    "        deletes = [a + b[1:] for (a, b) in pairs if b]\n",
    "        transposes = [a + b[1] + b[0] + b[2:] for (a, b) in pairs if len(b) > 1]\n",
    "        replaces = [a + c + b[1:] for (a, b) in pairs for c in EditDistance.alphabet if b]\n",
    "        inserts = [a + c + b for (a, b) in pairs for c in EditDistance.alphabet]\n",
    "        return set(deletes + transposes + replaces + inserts)\n",
    "\n",
    "    def splits(self, word):\n",
    "        \"\"\"Return a list of all possible (first, rest) pairs that comprise pinyin.\"\"\"\n",
    "        return [(word[:i], word[i:]) for i in range(len(word) + 1)]"
   ]
  },
  {
   "cell_type": "code",
   "execution_count": 65,
   "metadata": {},
   "outputs": [],
   "source": [
    "def generate_ngrams(sentence, n):\n",
    "    \"\"\"\n",
    "    Build the ngram model by two different method.\n",
    "    Fun: Use the zip function to help us generate n-grams (faster)\n",
    "    :param sentence: the initial string\n",
    "    :param n: gram model number\n",
    "    :return:\n",
    "    \"\"\"\n",
    "    tokens = [token for token in sentence.split(\" \") if token != \"\"]\n",
    "    ngrams = zip(*[tokens[i:] for i in range(n)])\n",
    "    \n",
    "    return [\"\".join(ngram) for ngram in ngrams]"
   ]
  },
  {
   "cell_type": "code",
   "execution_count": 66,
   "metadata": {},
   "outputs": [],
   "source": [
    "def known(words, counter):\n",
    "    \"\"\"\n",
    "    Find the words exit in counter.\n",
    "    :param words: should be a list\n",
    "    :param counter: background counter\n",
    "    :Return: the pinyin words we have noticed.\n",
    "    \"\"\"\n",
    "    return {w for w in words if w in counter}"
   ]
  },
  {
   "cell_type": "code",
   "execution_count": 67,
   "metadata": {},
   "outputs": [],
   "source": [
    "def correct(word, counter, ed):\n",
    "    \"\"\"\n",
    "    Find the most possible pinyin based on edit distance.\n",
    "    :param word: The incorrect sentence or word\n",
    "    :param counter: The base counter data to correct the word\n",
    "    :param ed: The EditDistance obj\n",
    "    :return: A most likely word after correction\n",
    "    \"\"\"\n",
    "    # Prefer edit distance 0, then 1, then 2; otherwise default to word itself.\n",
    "    candidates = (known(ed.edits0(word), counter) or\n",
    "                  known(ed.edits1(word), counter) or\n",
    "                  known(ed.edits2(word), counter) or\n",
    "                  [word]\n",
    "                  )\n",
    "    return max(candidates, key=counter.get)  # return the most possible"
   ]
  },
  {
   "cell_type": "code",
   "execution_count": 68,
   "metadata": {},
   "outputs": [],
   "source": [
    "# To split the string after correction\n",
    "def get_prob(string_list, counter, default=0):\n",
    "    \"\"\"\n",
    "    Get the probability of a list of strings depend on Thesaurus.\n",
    "    :param string_list: The origin semantics list\n",
    "    :param default: The origin probability\n",
    "    :param count: The Couter for search\n",
    "    :return: A chance number less than 1\n",
    "    \"\"\"\n",
    "    probility = 1\n",
    "    for token in string_list:\n",
    "        if token not in counter:\n",
    "            probility *= default\n",
    "        else:\n",
    "            probility *= counter.get(token) / sum(counter.values())\n",
    "    return probility"
   ]
  },
  {
   "cell_type": "code",
   "execution_count": 69,
   "metadata": {},
   "outputs": [],
   "source": [
    "@lru_cache(maxsize=2 ** 10)\n",
    "def best_split(string):\n",
    "    \"\"\"\n",
    "    split a string to a few words into the dict according to the max probability.\n",
    "    :param string: the phrase to be cut\n",
    "    :return: the most likely percentage\n",
    "    \"\"\"\n",
    "    # global counter\n",
    "    # global split_solutions\n",
    "    prob, left, right = max([(get_prob([string], counter), '', string)] + \n",
    "                            [(best_split(string[:i]) * best_split(string[i:]), \n",
    "                            string[:i], string[i:]) for i in range(1, len(string))], \n",
    "                            key=lambda x: x[0])\n",
    "\n",
    "    split_solutions[string] = (left, right)\n",
    "    return prob"
   ]
  },
  {
   "cell_type": "code",
   "execution_count": 70,
   "metadata": {},
   "outputs": [],
   "source": [
    "def parse_split_solution(string):\n",
    "    \"\"\"\n",
    "    Operate the split function.\n",
    "    :param string: the phrase without splitting\n",
    "    :return: a complete phrase after split\n",
    "    \"\"\"\n",
    "    left, right = split_solutions[string]\n",
    "    if not left: return [right]\n",
    "    return parse_split_solution(left) + parse_split_solution(right)"
   ]
  },
  {
   "cell_type": "code",
   "execution_count": 71,
   "metadata": {},
   "outputs": [],
   "source": [
    "def correct_sequence_pinyin(string, max_counter, edit_op):\n",
    "    \"\"\"\n",
    "    Integrate the correction and split operation.\n",
    "    :param string: the original phrase\n",
    "    :param max_counter: the background counter\n",
    "    :param edit_op: param for correct function\n",
    "    :return: the final right phrase\n",
    "    \"\"\"\n",
    "    fix_text = correct(string, max_counter, edit_op)\n",
    "    prob = best_split(fix_text)\n",
    "    return parse_split_solution(fix_text)"
   ]
  },
  {
   "cell_type": "code",
   "execution_count": 72,
   "metadata": {},
   "outputs": [],
   "source": [
    "# 定义一些全局变量\n",
    "# plit_solutions 用于best_split函数\n",
    "split_solutions = {}\n",
    "\n",
    "path = 'article_9k.txt'\n",
    "count1 = PinyinCouter(path)"
   ]
  },
  {
   "cell_type": "code",
   "execution_count": 73,
   "metadata": {},
   "outputs": [],
   "source": [
    "count1.pinyin_counter()\n",
    "counter = count1.get_counter"
   ]
  },
  {
   "cell_type": "code",
   "execution_count": 74,
   "metadata": {
    "scrolled": true
   },
   "outputs": [
    {
     "data": {
      "text/plain": [
       "[('shi', 860634),\n",
       " ('de', 809887),\n",
       " ('yi', 682476),\n",
       " ('ji', 645276),\n",
       " ('guo', 430042),\n",
       " ('zhong', 409418),\n",
       " ('zhi', 398612),\n",
       " ('xin', 359619),\n",
       " ('li', 355446),\n",
       " ('zai', 334105)]"
      ]
     },
     "execution_count": 74,
     "metadata": {},
     "output_type": "execute_result"
    }
   ],
   "source": [
    "counter.most_common(10)"
   ]
  },
  {
   "cell_type": "code",
   "execution_count": 75,
   "metadata": {},
   "outputs": [
    {
     "name": "stdout",
     "output_type": "stream",
     "text": [
      "Wall time: 3min 14s\n"
     ]
    }
   ],
   "source": [
    "%%time\n",
    "# 实例化\n",
    "edit_dist = EditDistance()\n",
    "# 获取1,2,3,4_gram\n",
    "final_counter = count1.expand_counter(5)"
   ]
  },
  {
   "cell_type": "code",
   "execution_count": 76,
   "metadata": {
    "scrolled": true
   },
   "outputs": [
    {
     "data": {
      "text/plain": [
       "[('shi', 860634),\n",
       " ('de', 809887),\n",
       " ('yi', 682476),\n",
       " ('ji', 645276),\n",
       " ('guo', 430042),\n",
       " ('zhong', 409418),\n",
       " ('zhi', 398612),\n",
       " ('xin', 359619),\n",
       " ('li', 355446),\n",
       " ('zai', 334105)]"
      ]
     },
     "execution_count": 76,
     "metadata": {},
     "output_type": "execute_result"
    }
   ],
   "source": [
    "final_counter.most_common(10)"
   ]
  },
  {
   "cell_type": "code",
   "execution_count": 77,
   "metadata": {
    "scrolled": false
   },
   "outputs": [
    {
     "data": {
      "text/plain": [
       "['qiguai']"
      ]
     },
     "execution_count": 77,
     "metadata": {},
     "output_type": "execute_result"
    }
   ],
   "source": [
    "[i for i in EditDistance.edits0(edit_dist, word = 'qiguai') if i in final_counter]"
   ]
  },
  {
   "cell_type": "code",
   "execution_count": 78,
   "metadata": {},
   "outputs": [
    {
     "data": {
      "text/plain": [
       "['qiwuai',\n",
       " 'ciguai',\n",
       " 'qigudi',\n",
       " 'qiguxi',\n",
       " 'yiguai',\n",
       " 'xiguai',\n",
       " 'qigusi',\n",
       " 'ziguai',\n",
       " 'piguai',\n",
       " 'qiguan',\n",
       " 'qiguyi',\n",
       " 'qiguqi',\n",
       " 'qikuai',\n",
       " 'qiguli',\n",
       " 'jiguai',\n",
       " 'qizuai',\n",
       " 'qiuguai',\n",
       " 'qinguai',\n",
       " 'qigui',\n",
       " 'qiguji',\n",
       " 'qiguai',\n",
       " 'qijuai',\n",
       " 'miguai',\n",
       " 'qigudai',\n",
       " 'qigai',\n",
       " 'qihuai',\n",
       " 'liguai',\n",
       " 'qieguai',\n",
       " 'qiugai',\n",
       " 'qibuai',\n",
       " 'qigua',\n",
       " 'qifuai',\n",
       " 'quguai',\n",
       " 'qiguci',\n",
       " 'tiguai',\n",
       " 'qiguti',\n",
       " 'qiuai']"
      ]
     },
     "execution_count": 78,
     "metadata": {},
     "output_type": "execute_result"
    }
   ],
   "source": [
    "[i for i in EditDistance.edits1(edit_dist, word = 'qiguai') if i in final_counter]"
   ]
  },
  {
   "cell_type": "code",
   "execution_count": 79,
   "metadata": {},
   "outputs": [
    {
     "name": "stdout",
     "output_type": "stream",
     "text": [
      "['wo', 'xiang', 'shang', 'qing', 'hua', 'da', 'xue']\n"
     ]
    }
   ],
   "source": [
    "string1 = \"woxiangshangqinghuadaxue\"     # 我想上清华大学\n",
    "correct_string = correct_sequence_pinyin(string1, final_counter, edit_dist)\n",
    "print(correct_string)"
   ]
  },
  {
   "cell_type": "code",
   "execution_count": 80,
   "metadata": {},
   "outputs": [
    {
     "name": "stdout",
     "output_type": "stream",
     "text": [
      "['xian', 'nv', 'hao', 'piao', 'liang']\n"
     ]
    }
   ],
   "source": [
    "string1 = \"xiannvhaopiaoliang\"     # 仙女好漂亮\n",
    "correct_string = correct_sequence_pinyin(string1, final_counter, edit_dist)\n",
    "print(correct_string)"
   ]
  },
  {
   "cell_type": "code",
   "execution_count": 81,
   "metadata": {},
   "outputs": [
    {
     "name": "stdout",
     "output_type": "stream",
     "text": [
      "['gan', 'jue', 'bu', 'dui']\n"
     ]
    }
   ],
   "source": [
    "string1 = \"ganjeubudui\"     # 感觉不对\n",
    "correct_string = correct_sequence_pinyin(string1, final_counter, edit_dist)\n",
    "print(correct_string)"
   ]
  },
  {
   "cell_type": "code",
   "execution_count": 82,
   "metadata": {},
   "outputs": [
    {
     "name": "stdout",
     "output_type": "stream",
     "text": [
      "['zhe', 'shi', 'yi', 'ge']\n"
     ]
    }
   ],
   "source": [
    "string1 = \"zhesihyiege\"     # 这是一个\n",
    "correct_string = correct_sequence_pinyin(string1, final_counter, edit_dist)\n",
    "print(correct_string)"
   ]
  },
  {
   "cell_type": "code",
   "execution_count": 83,
   "metadata": {},
   "outputs": [
    {
     "name": "stdout",
     "output_type": "stream",
     "text": [
      "['wo', 'yo', 'a', 'qu', 'ce', 'suo']\n"
     ]
    }
   ],
   "source": [
    "string1 = \"woyoaqucesuo\"     # 我要去厕所\n",
    "correct_string = correct_sequence_pinyin(string1, final_counter, edit_dist)\n",
    "print(correct_string)"
   ]
  }
 ],
 "metadata": {
  "kernelspec": {
   "display_name": "Python 3",
   "language": "python",
   "name": "python3"
  },
  "language_info": {
   "codemirror_mode": {
    "name": "ipython",
    "version": 3
   },
   "file_extension": ".py",
   "mimetype": "text/x-python",
   "name": "python",
   "nbconvert_exporter": "python",
   "pygments_lexer": "ipython3",
   "version": "3.7.6"
  }
 },
 "nbformat": 4,
 "nbformat_minor": 2
}
